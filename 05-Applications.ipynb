{
 "cells": [
  {
   "attachments": {},
   "cell_type": "markdown",
   "metadata": {},
   "source": [
    "### Time series"
   ]
  },
  {
   "attachments": {},
   "cell_type": "markdown",
   "metadata": {},
   "source": [
    "#### Date and time data types"
   ]
  },
  {
   "cell_type": "code",
   "execution_count": 3,
   "metadata": {},
   "outputs": [
    {
     "name": "stdout",
     "output_type": "stream",
     "text": [
      "2023-01-02 08:16:14.674966\n",
      "2\n",
      "8\n"
     ]
    }
   ],
   "source": [
    "# Datetime creation\n",
    "\n",
    "from datetime import datetime\n",
    "\n",
    "now = datetime.now()\n",
    "\n",
    "print(now)\n",
    "## datetime.datetime(2022, 2, 14, 0, 36, 9, 153276)\n",
    "\n",
    "print(now.day)\n",
    "## 14\n",
    "\n",
    "print(now.hour)\n",
    "## 0"
   ]
  },
  {
   "attachments": {},
   "cell_type": "markdown",
   "metadata": {},
   "source": [
    "#### Set datetime"
   ]
  },
  {
   "cell_type": "code",
   "execution_count": 4,
   "metadata": {},
   "outputs": [
    {
     "name": "stdout",
     "output_type": "stream",
     "text": [
      "The exam will be on the 2020-12-09\n"
     ]
    }
   ],
   "source": [
    "# Datetime representation\n",
    "\n",
    "holiday = datetime(2020, 12, 24, 8, 30)\n",
    "\n",
    "holiday\n",
    "## datetime.datetime(2020, 12, 24, 8, 30)\n",
    "\n",
    "exam = datetime(2020, 12, 9, 10)\n",
    "\n",
    "print(\"The exam will be on the \" + \"{:%Y-%m-%d}\".format(exam))\n",
    "## The exam will be on the 2020-12-09"
   ]
  },
  {
   "cell_type": "code",
   "execution_count": 5,
   "metadata": {},
   "outputs": [
    {
     "name": "stdout",
     "output_type": "stream",
     "text": [
      "-754 days, 1:43:45.325034\n",
      "The exam will take place in -754 days.\n",
      "2023-01-02 08:16:14.674966\n",
      "2023-01-12 08:18:14.674966\n"
     ]
    }
   ],
   "source": [
    "# Datetime difference\n",
    "\n",
    "from datetime import timedelta\n",
    "\n",
    "delta = exam - now\n",
    "\n",
    "print(delta)\n",
    "## datetime.timedelta(days=-432, seconds=33830, microseconds=846724)\n",
    "\n",
    "print(\"The exam will take place in \" + str(delta.days) + \" days.\")\n",
    "## The exam will take place in -432 days.\n",
    "\n",
    "print(now)\n",
    "## datetime.datetime(2022, 2, 14, 0, 36, 9, 153276)\n",
    "\n",
    "print(now + timedelta(10, 120))\n",
    "## datetime.datetime(2022, 2, 24, 0, 38, 9, 153276)"
   ]
  },
  {
   "attachments": {},
   "cell_type": "markdown",
   "metadata": {},
   "source": [
    "#### Convert string and datetime"
   ]
  },
  {
   "cell_type": "code",
   "execution_count": 6,
   "metadata": {},
   "outputs": [
    {
     "name": "stdout",
     "output_type": "stream",
     "text": [
      "2020-04-12 00:00:00\n",
      "German date format: 12.04.2020\n",
      "2020-05-05 00:00:00\n"
     ]
    }
   ],
   "source": [
    "# Convert Datetime\n",
    "\n",
    "stamp = datetime(2020, 4, 12)\n",
    "\n",
    "print(stamp)\n",
    "## datetime.datetime(2020, 4, 12, 0, 0)\n",
    "\n",
    "print(\"German date format: \" + stamp.strftime(\"%d.%m.%Y\"))\n",
    "## German date format: 12.04.2020\n",
    "\n",
    "val = \"2020-5-5\"\n",
    "d = datetime.strptime(val, \"%Y-%m-%d\")\n",
    "\n",
    "print(d)\n",
    "## datetime.datetime(2020, 5, 5, 0, 0)"
   ]
  },
  {
   "cell_type": "code",
   "execution_count": 7,
   "metadata": {},
   "outputs": [
    {
     "name": "stdout",
     "output_type": "stream",
     "text": [
      "2012-01-31 00:00:00\n",
      "Today is Monday and we are in week 01 of the year 2023.\n",
      "Mon Jan  2 08:16:14 2023\n"
     ]
    }
   ],
   "source": [
    "# Converting examples\n",
    "\n",
    "val = \"31.01.2012\"\n",
    "d = datetime.strptime(val, \"%d.%m.%Y\")\n",
    "\n",
    "print(d)\n",
    "## datetime.datetime(2012, 1, 31, 0, 0)\n",
    "\n",
    "print(now.strftime(\"Today is %A and we are in week %W of the year %Y.\"))\n",
    "## 'Today is Monday and we are in week 07 of the year 2022.'\n",
    "\n",
    "print(now.strftime(\"%c\"))\n",
    "## 'Mon Feb 14 00:36:09 2022'"
   ]
  },
  {
   "attachments": {},
   "cell_type": "markdown",
   "metadata": {},
   "source": [
    "#### Overview: Datetime formats\n",
    "\n",
    "|Type|Description|\n",
    "|--|--|\n",
    "|%Y |4-digit year|\n",
    "|%m |2-digit month [01, 12]|\n",
    "|%d |2-digit day [01, 31]|\n",
    "|%H |Hour (24-hour clock) [00, 23]|\n",
    "|%I |Hour (12-hour clock) [01, 12]|\n",
    "|%M |2-digit minute [00, 59]|\n",
    "|%S |Second [00, 61]|\n",
    "|%W |Week number of the year [00, 53]|\n",
    "|%F |Shortcut for %Y-%m-%d|\n",
    "|%a |Abbreviated weekday name|\n",
    "|%A |Full weekday name|\n",
    "|%b |Abbreviated month name|\n",
    "|%B |Full month name|\n",
    "|%c |Full date and time|\n",
    "|%x |Locale-appropriate formatted date|"
   ]
  },
  {
   "attachments": {},
   "cell_type": "markdown",
   "metadata": {},
   "source": [
    "#### Generating date ranges with pandas"
   ]
  },
  {
   "cell_type": "code",
   "execution_count": 8,
   "metadata": {},
   "outputs": [
    {
     "data": {
      "text/plain": [
       "DatetimeIndex(['2020-01-31', '2020-02-29'], dtype='datetime64[ns]', freq='M')"
      ]
     },
     "execution_count": 8,
     "metadata": {},
     "output_type": "execute_result"
    }
   ],
   "source": [
    "# Date ranges\n",
    "\n",
    "import pandas as pd\n",
    "\n",
    "index = pd.date_range(\"2020-01-01\", now)\n",
    "\n",
    "index[0:2]\n",
    "index[15:16]\n",
    "\n",
    "index = pd.date_range(\"2020-01-01\", now, freq=\"M\")\n",
    "\n",
    "index[0:2]\n",
    "## DatetimeIndex(['2020-01-01', '2...ype='datetime64[ns]', freq='D')\n",
    "## DatetimeIndex(['2020-01-16'], dtype='datetime64[ns]', freq='D')\n",
    "## DatetimeIndex(['2020-01-31', '2...ype='datetime64[ns]', freq='M')"
   ]
  },
  {
   "attachments": {},
   "cell_type": "markdown",
   "metadata": {},
   "source": [
    "#### Overview: Time series frequencies\n",
    "\n",
    "|Alias |Offset type|\n",
    "|--|--|\n",
    "|D |Day|\n",
    "|B |Business day|\n",
    "|H |Hour|\n",
    "|T |Minute|\n",
    "|S |Second|\n",
    "|M |Month end|\n",
    "|BM |Business month end|\n",
    "|Q-JAN, Q-FEB, ... |Quarter end|\n",
    "|A-JAN, A-FEB, ... |Year end|\n",
    "|AS-JAN, AS-FEB, ... |Year begin|\n",
    "|BA-JAN, BA-FEB, ... |Business year end|\n",
    "|BAS-JAN, BAS-FEB, ... |Business year begin|"
   ]
  },
  {
   "attachments": {},
   "cell_type": "markdown",
   "metadata": {},
   "source": [
    "#### Resample date ranges"
   ]
  },
  {
   "cell_type": "code",
   "execution_count": null,
   "metadata": {},
   "outputs": [],
   "source": [
    "# Resample date ranges\n",
    "\n",
    "import numpy as np\n",
    "\n",
    "start = datetime(2016, 1, 1)\n",
    "\n",
    "ind = pd.date_range(start, now)\n",
    "\n",
    "numbers = np.arange((now - start).days + 1)\n",
    "\n",
    "df = pd.DataFrame(numbers, index=ind)"
   ]
  },
  {
   "cell_type": "code",
   "execution_count": null,
   "metadata": {},
   "outputs": [],
   "source": [
    "df.head()\n",
    "## 0\n",
    "## 2016-01-01 0\n",
    "## 2016-01-02 1\n",
    "## 2016-01-03 2\n",
    "## 2016-01-04 3\n",
    "## 2016-01-05 4"
   ]
  },
  {
   "cell_type": "code",
   "execution_count": null,
   "metadata": {},
   "outputs": [],
   "source": [
    "df.resample(\"3BM\").sum().head()\n",
    "## 0\n",
    "## 2016-01-29 406\n",
    "## 2016-04-29 6734\n",
    "## 2016-07-29 15015\n",
    "## 2016-10-31 24205\n",
    "## 2017-01-31 32246"
   ]
  },
  {
   "attachments": {},
   "cell_type": "markdown",
   "metadata": {},
   "source": [
    "### Moving window"
   ]
  },
  {
   "cell_type": "code",
   "execution_count": null,
   "metadata": {},
   "outputs": [],
   "source": []
  },
  {
   "attachments": {},
   "cell_type": "markdown",
   "metadata": {},
   "source": [
    "### Financial applications"
   ]
  },
  {
   "cell_type": "code",
   "execution_count": null,
   "metadata": {},
   "outputs": [],
   "source": []
  },
  {
   "attachments": {},
   "cell_type": "markdown",
   "metadata": {},
   "source": [
    "### Optimization"
   ]
  },
  {
   "cell_type": "code",
   "execution_count": 1,
   "metadata": {},
   "outputs": [
    {
     "name": "stdout",
     "output_type": "stream",
     "text": [
      "Author: Caique Miranda\n",
      "\n",
      "Github username: caiquemiranda\n",
      "\n",
      "sys: 3.10.5 (tags/v3.10.5:f377153, Jun  6 2022, 16:14:13) [MSC v.1929 64 bit (AMD64)]\n",
      "\n"
     ]
    }
   ],
   "source": [
    "%reload_ext watermark\n",
    "%watermark -a \"Caique Miranda\" -gu \"caiquemiranda\" -iv"
   ]
  },
  {
   "attachments": {},
   "cell_type": "markdown",
   "metadata": {},
   "source": [
    "### END."
   ]
  }
 ],
 "metadata": {
  "kernelspec": {
   "display_name": "Python 3",
   "language": "python",
   "name": "python3"
  },
  "language_info": {
   "codemirror_mode": {
    "name": "ipython",
    "version": 3
   },
   "file_extension": ".py",
   "mimetype": "text/x-python",
   "name": "python",
   "nbconvert_exporter": "python",
   "pygments_lexer": "ipython3",
   "version": "3.10.5"
  },
  "orig_nbformat": 4,
  "vscode": {
   "interpreter": {
    "hash": "74af3d2f25f1e46ebd2903d59225d79e4675ec224d56c01fc30cd168c2010d53"
   }
  }
 },
 "nbformat": 4,
 "nbformat_minor": 2
}
