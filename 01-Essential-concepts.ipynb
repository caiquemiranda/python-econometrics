{
 "cells": [
  {
   "attachments": {},
   "cell_type": "markdown",
   "metadata": {},
   "source": [
    "### Getting started"
   ]
  },
  {
   "cell_type": "code",
   "execution_count": 2,
   "metadata": {},
   "outputs": [
    {
     "name": "stdout",
     "output_type": "stream",
     "text": [
      "You successfully logged in!\n"
     ]
    }
   ],
   "source": [
    "# Indentation example\n",
    "\n",
    "password = input(\"I am your bank. Password please: \")\n",
    "## I am your bank. Password please: sparkasse\n",
    "\n",
    "if password == \"sparkasse\":\n",
    "    print(\"You successfully logged in!\")\n",
    "\n",
    "else:\n",
    "    print(\"Fail. Will call the police!\")\n",
    "\n",
    "## You successfully logged in!"
   ]
  },
  {
   "attachments": {},
   "cell_type": "markdown",
   "metadata": {},
   "source": [
    "### Procedural programming"
   ]
  },
  {
   "cell_type": "code",
   "execution_count": 3,
   "metadata": {},
   "outputs": [
    {
     "name": "stdout",
     "output_type": "stream",
     "text": [
      "Hello there!\n"
     ]
    }
   ],
   "source": [
    "# Hello there\n",
    "\n",
    "print(\"Hello there!\")\n",
    "\n",
    "## Hello there!"
   ]
  },
  {
   "cell_type": "code",
   "execution_count": 4,
   "metadata": {},
   "outputs": [
    {
     "name": "stdout",
     "output_type": "stream",
     "text": [
      "Hello Miranda!\n"
     ]
    }
   ],
   "source": [
    "# Hello you\n",
    "\n",
    "name = input(\"Please enter your name: \")\n",
    "\n",
    "## Please enter your name: Angela Merkel\n",
    "print(\"Hello \" + name + \"!\")\n",
    "\n",
    "## Hello Angela Merkel!"
   ]
  },
  {
   "cell_type": "code",
   "execution_count": 7,
   "metadata": {},
   "outputs": [
    {
     "name": "stdout",
     "output_type": "stream",
     "text": [
      "Your birthday was on a Tuesday!\n"
     ]
    }
   ],
   "source": [
    "# Weekday of birth\n",
    "\n",
    "from datetime import datetime\n",
    "\n",
    "answer = input(\"Your birthday (DD-MM-YYYY): \")\n",
    "\n",
    "## Your birthday (DD-MM-YYYY): 17-07-1954\n",
    "birthday = datetime.strptime(answer, \"%d-%m-%Y\")\n",
    "\n",
    "print(\"Your birthday was on a \" + birthday.strftime(\"%A\") + \"!\")\n",
    "\n",
    "## Your birthday was on a Saturday!"
   ]
  },
  {
   "cell_type": "code",
   "execution_count": null,
   "metadata": {},
   "outputs": [],
   "source": [
    "# Age in days\n",
    "\n",
    "someday = datetime.strptime(\"14-03-2018\", \"%d-%m-%Y\")\n",
    "\n",
    "print(\"You are \" + str((someday - birthday).days) + \" days old!\")\n",
    "## You are 23251 days old!"
   ]
  },
  {
   "cell_type": "code",
   "execution_count": null,
   "metadata": {},
   "outputs": [],
   "source": [
    "# Human readable age\n",
    "\n",
    "from dateutil.relativedelta import relativedelta\n",
    "\n",
    "delta = relativedelta(someday, birthday)\n",
    "\n",
    "print(f\"That’s {delta.years} years, {delta.months} months \"\n",
    "f\"and {delta.days} days!!\")\n",
    "\n",
    "## That's 63 years, 7 months and 25 days!!"
   ]
  },
  {
   "cell_type": "code",
   "execution_count": null,
   "metadata": {},
   "outputs": [],
   "source": [
    "# Help system\n",
    "\n",
    "help(len)\n",
    "## Help on built-in function len in module builtins:\n",
    "##\n",
    "## len(obj, /)\n",
    "## Return the number of items in a container."
   ]
  },
  {
   "cell_type": "code",
   "execution_count": null,
   "metadata": {},
   "outputs": [],
   "source": [
    "# Assigning variables with literals\n",
    "\n",
    "myint = 7\n",
    "myfloat = 4.0\n",
    "myboat = \"nice\"\n",
    "mybool = True\n",
    "myfloat = myboat"
   ]
  },
  {
   "cell_type": "code",
   "execution_count": 8,
   "metadata": {},
   "outputs": [
    {
     "data": {
      "text/plain": [
       "8"
      ]
     },
     "execution_count": 8,
     "metadata": {},
     "output_type": "execute_result"
    }
   ],
   "source": [
    "# Pocket calculator\n",
    "\n",
    "print(10 + 5)\n",
    "print(100 - 20)\n",
    "print(8 / 2)\n",
    "print(4 * (10 + 20))\n",
    "print(2**3)\n",
    "\n",
    "## 15\n",
    "## 80\n",
    "## 4.0\n",
    "## 120\n",
    "## 8"
   ]
  },
  {
   "cell_type": "code",
   "execution_count": null,
   "metadata": {},
   "outputs": [],
   "source": [
    "# Logical table\n",
    "\n",
    "# Create table head\n",
    "print(\"a b a and b a or b not a\\n\"\n",
    "\"--------------------------------\")\n",
    "\n",
    "# Loop through the rows\n",
    "for a in [False, True]:\n",
    "    for b in [False, True]:\n",
    "        print(f\"{a:1} {b:3} {a and b:6} {a or b:8} {not a:7}\")\n",
    "\n",
    "## a b a and b a or b not a\n",
    "## --------------------------------\n",
    "## 0 0 0 0 1\n",
    "## 0 1 0 1 1\n",
    "## 1 0 0 1 0\n",
    "## 1 1 1 1 0"
   ]
  },
  {
   "cell_type": "code",
   "execution_count": null,
   "metadata": {},
   "outputs": [],
   "source": [
    "# Overview of keywords\n",
    "\n",
    "## and as assert break class continue\n",
    "## def del elif else except False\n",
    "## finally for from global if import\n",
    "## in is lambda None nonlocal not\n",
    "## or pass raise return True try\n",
    "## while with yield"
   ]
  },
  {
   "cell_type": "code",
   "execution_count": null,
   "metadata": {},
   "outputs": [],
   "source": [
    "# Provide some comments\n",
    "\n",
    "# Set variable to something - or nothing?\n",
    "something = None\n",
    "\"\"\"\n",
    "I am a docstring!\n",
    "A multiline string comment hybrid.\n",
    "I will be useful for describing classes and methods.\n",
    "\"\"\""
   ]
  },
  {
   "attachments": {},
   "cell_type": "markdown",
   "metadata": {},
   "source": [
    "|Data | type Description|\n",
    "|--|--|\n",
    "|int() |Integers\n",
    "|float() |Floating point numbers\n",
    "|str() |Strings, i.e., unicode (UTF-8) texts\n",
    "|bool() |Boolean, i.e., True or False\n",
    "|list() |List, an ordered array of objects\n",
    "|tuple() |Tuple, an ordered, unmutable array of objects\n",
    "|dict() |Dictionary, an unordered, associative array of objects\n",
    "|set() |Set, an unordered array/set of objects\n",
    "|None() |Nothing, emptyness, the void.."
   ]
  },
  {
   "cell_type": "code",
   "execution_count": 15,
   "metadata": {},
   "outputs": [
    {
     "name": "stdout",
     "output_type": "stream",
     "text": [
      "['Google', 'Amazon', 'Facebook', 'Apple']\n",
      "Amazon\n",
      "['Google', 'Amazon', 'Facebook', 'Apple', 'Twitter']\n",
      "['Google', 'Amazon', 'Microsoft', 'Facebook', 'Apple', 'Twitter']\n",
      "['Amazon', 'Apple', 'Facebook', 'Google', 'Microsoft', 'Twitter']\n"
     ]
    }
   ],
   "source": [
    "# Listing tech companies\n",
    "\n",
    "stocks = [\"Google\", \"Amazon\", \"Facebook\", \"Apple\"]\n",
    "print(stocks)\n",
    "\n",
    "print(stocks[1])\n",
    "\n",
    "stocks.append(\"Twitter\")\n",
    "print(stocks)\n",
    "\n",
    "stocks.insert(2, \"Microsoft\")\n",
    "print(stocks)\n",
    "\n",
    "stocks.sort()\n",
    "print(stocks)\n",
    "\n",
    "## ['Google', 'Amazon', 'Facebook', 'Apple']\n",
    "## Amazon\n",
    "## ['Google', 'Amazon', 'Facebook', 'Apple', 'Twitter']\n",
    "## ['Google', 'Amazon', 'Microsoft', 'Facebook', 'Apple', 'Twitter']\n",
    "## ['Amazon', 'Apple', 'Facebook', 'Google', 'Microsoft', 'Twitter']"
   ]
  },
  {
   "cell_type": "code",
   "execution_count": null,
   "metadata": {},
   "outputs": [],
   "source": [
    "# Selecting elements in sequences\n",
    "\n",
    "lottery = (1, 8, 9, 12, 24, 28)\n",
    "len(lottery)\n",
    "lottery[1:3]\n",
    "lottery[:4]\n",
    "lottery[-1]\n",
    "lottery[-2:]\n",
    "## (1, 8, 9, 12, 24, 28)\n",
    "## 6\n",
    "## (8, 9)\n",
    "## (1, 8, 9, 12)\n",
    "## 28\n",
    "## (24, 28)"
   ]
  },
  {
   "cell_type": "code",
   "execution_count": null,
   "metadata": {},
   "outputs": [],
   "source": [
    "# Internet slang dictionary\n",
    "\n",
    "slang = {\"imho\": \"in my humble opinion\",\n",
    "\"lol\": \"laughing out loud\",\n",
    "\"tl;dr\": \"too long; didn’t read\"}\n",
    "slang[\"lol\"]\n",
    "slang[\"gl&hl\"] = \"good luck & have fun\"\n",
    "slang.keys()\n",
    "slang.values()\n",
    "\n",
    "## {'imho': 'in...ion', 'lol': 'la...oud', 'tl;dr': 'to...ead'}\n",
    "## laughing out loud\n",
    "## good luck & have fun\n",
    "## dict_keys(['imho', 'lol', 'tl;dr', 'gl&hl'])\n",
    "## dict_values([... & have fun'])"
   ]
  },
  {
   "cell_type": "code",
   "execution_count": null,
   "metadata": {},
   "outputs": [],
   "source": [
    "# Set operations\n",
    "\n",
    "x = {\"o\", \"n\", \"y\", \"t\"}\n",
    "y = {\"p\", \"h\", \"o\", \"n\"}\n",
    "x & y\n",
    "x | y\n",
    "x - y\n",
    "\n",
    "## {'y', 'n', 't', 'o'}\n",
    "## {'p', 'n', 'h', 'o'}\n",
    "## {'n', 'o'}\n",
    "## {'p', 'y', 'o', 't', 'n', 'h'}\n",
    "## {'y', 't'}"
   ]
  },
  {
   "attachments": {},
   "cell_type": "markdown",
   "metadata": {},
   "source": [
    "Op. True, only if the value of the left operand is\n",
    "|< | less than the value of the right operand|\n",
    "|--|--|\n",
    "|<= | less than or equal to the value of the right operand|\n",
    "|> | greater than the value of the right operand|\n",
    "|>= | greater than or equal to the value of the right operand|\n",
    "|== | equal to the right operand|\n",
    "|!= | not equal to the right operand|"
   ]
  },
  {
   "cell_type": "code",
   "execution_count": 16,
   "metadata": {},
   "outputs": [
    {
     "name": "stdout",
     "output_type": "stream",
     "text": [
      "x < y is True\n",
      "x > y is False\n",
      "x == y is False\n",
      "x != y is True\n",
      "This is True and not False\n"
     ]
    }
   ],
   "source": [
    "# Comparing examples\n",
    "\n",
    "x, y = 5, 8\n",
    "\n",
    "print(\"x < y is\", x < y)\n",
    "## x < y is True\n",
    "\n",
    "print(\"x > y is\", x > y)\n",
    "## x > y is False\n",
    "\n",
    "print(\"x == y is\", x == y)\n",
    "## x == y is False\n",
    "\n",
    "print(\"x != y is\", x != y)\n",
    "## x != y is True\n",
    "\n",
    "print(\"This is\", \"Name\" == \"Name\", \"and not\", \"Name\" == \"name\")\n",
    "## This is True and not False"
   ]
  },
  {
   "cell_type": "code",
   "execution_count": null,
   "metadata": {},
   "outputs": [],
   "source": [
    "# Chaining comparison examples\n",
    "\n",
    "x = 5\n",
    "\n",
    "5 >= x > 4\n",
    "## True\n",
    "\n",
    "12 < x < 20\n",
    "## False\n",
    "\n",
    "2 < x < 10\n",
    "## True\n",
    "\n",
    "2 < x and x < 10 # unchained expression\n",
    "## True"
   ]
  },
  {
   "attachments": {},
   "cell_type": "markdown",
   "metadata": {},
   "source": [
    "|Op. | Description|\n",
    "|--|--|\n",
    "|not x | Returns True only if x is False|\n",
    "|x and y | Returns True only if x and y are True|\n",
    "|x or y | Returns True only if x or y or both are True|"
   ]
  },
  {
   "cell_type": "code",
   "execution_count": null,
   "metadata": {},
   "outputs": [],
   "source": [
    "# Logical operators examples\n",
    "\n",
    "x, y = 5, 8\n",
    "\n",
    "(x == 5) and (y == 9)\n",
    "## False\n",
    "\n",
    "(x == 5) or (y == 8)\n",
    "## True\n",
    "\n",
    "not(x == 4) or (y == 9)\n",
    "## True"
   ]
  },
  {
   "cell_type": "code",
   "execution_count": null,
   "metadata": {},
   "outputs": [],
   "source": [
    "# Exclusive or\n",
    "\n",
    "x, y = 5, 8\n",
    "\n",
    "((x == 5) and not (y == 8)) or (not (x == 5) and (y == 8))\n",
    "## False\n",
    "\n",
    "x = 4\n",
    "\n",
    "((x == 5) and not (y == 8)) or (not (x == 5) and (y == 8))\n",
    "## True\n",
    "\n",
    "(x == 5) != (y == 8)\n",
    "## True"
   ]
  },
  {
   "cell_type": "code",
   "execution_count": null,
   "metadata": {},
   "outputs": [],
   "source": [
    "# Binary numbers\n",
    "\n",
    "## Decimal: Binary:\n",
    "## 0: 0\n",
    "## 1: 1\n",
    "## 2: 10\n",
    "## 3: 11\n",
    "## 4: 100\n",
    "## 5: 101\n",
    "## 6: 110\n",
    "## 7: 111\n",
    "## 8: 1000\n",
    "## 9: 1001\n",
    "## 10: 1010"
   ]
  },
  {
   "cell_type": "code",
   "execution_count": null,
   "metadata": {},
   "outputs": [],
   "source": [
    "# Binary to integer\n",
    "\n",
    "def bintoint(binary):\n",
    "    \n",
    "    binary = binary[::-1]\n",
    "    num = 0\n",
    "    \n",
    "    for i in range(len(binary)):\n",
    "        num += int(binary[i]) * 2**i\n",
    "    \n",
    "    return num\n",
    "\n",
    "bintoint(\"1101001\")\n",
    "## 105\n",
    "\n",
    "int(\"1101001\", 2) # compare with built-in function\n",
    "## 105"
   ]
  },
  {
   "cell_type": "code",
   "execution_count": null,
   "metadata": {},
   "outputs": [],
   "source": [
    "# Integers to binary\n",
    "\n",
    "def inttobin(num):\n",
    "    \n",
    "    binary = \"\"\n",
    "    \n",
    "    if num != 0:\n",
    "        \n",
    "        while num >= 1:\n",
    "            \n",
    "            if num % 2 == 0:\n",
    "                binary += \"0\"\n",
    "                num = num / 2\n",
    "            \n",
    "            else:\n",
    "                binary += \"1\"\n",
    "                num = (num - 1) / 2\n",
    "\n",
    "    else:\n",
    "        binary = \"0\"\n",
    "    \n",
    "    return binary[::-1]\n",
    "\n",
    "inttobin(105)\n",
    "## '1101001'\n",
    "\n",
    "bin(105)[2:] # compare with built-in function\n",
    "## '1101001'"
   ]
  },
  {
   "attachments": {},
   "cell_type": "markdown",
   "metadata": {},
   "source": [
    "| Bit. op. | Description |\n",
    "|--|--|\n",
    "|x >> y | Returns x with the bits shifted to the left by y places|\n",
    "|x << y | Returns x with the bits shifted to the right by y places|\n",
    "|x & y | Does a bitwise and|\n",
    "|xory | Does a bitwise or|\n",
    "|~ x | Returns the complement of x|\n",
    "|x ^ y | Does a bitwise exclusive or|"
   ]
  },
  {
   "cell_type": "code",
   "execution_count": null,
   "metadata": {},
   "outputs": [],
   "source": [
    "# Bitwise operators\n",
    "\n",
    "a, b = 5, 7\n",
    "c = a & b # bitwise and\n",
    "## a: 101\n",
    "## b: 111\n",
    "## c: 101\n",
    "\n",
    "print(c)\n",
    "## 5"
   ]
  },
  {
   "cell_type": "code",
   "execution_count": null,
   "metadata": {},
   "outputs": [],
   "source": [
    "# Bitwise operators\n",
    "\n",
    "a, b = 5, 7\n",
    "c = a | b # bitwise or\n",
    "## a: 101\n",
    "## b: 111\n",
    "## c: 111\n",
    "\n",
    "print(c)\n",
    "## 7\n",
    "\n",
    "a = 13\n",
    "b = a << 2 # bitwise shift\n",
    "## a: 1101\n",
    "## b: 110100\n",
    "\n",
    "a, b = 35, 37\n",
    "c = a ^ b # bitwise exclusive or\n",
    "## a: 100011\n",
    "## b: 100101\n",
    "## c: 000110"
   ]
  },
  {
   "cell_type": "code",
   "execution_count": 17,
   "metadata": {},
   "outputs": [
    {
     "name": "stdout",
     "output_type": "stream",
     "text": [
      " 12.50 MByte\n"
     ]
    }
   ],
   "source": [
    "# Computer data sizes\n",
    "\n",
    "bytes = 100000000 / 8 # e.g. DSL 100000\n",
    "\n",
    "if bytes >= 1e9:\n",
    "    print(f\"{bytes/1e9:6.2f} GByte\")\n",
    "\n",
    "elif bytes >= 1e6:\n",
    "    print(f\"{bytes/1e6:6.2f} MByte\")\n",
    "\n",
    "elif bytes >= 1e3:\n",
    "    print(f\"{bytes/1e3:6.2f} KByte\")\n",
    "\n",
    "else:\n",
    "    print(f\"{bytes:6.2f} Byte\")\n",
    "## 12.50 MByte"
   ]
  },
  {
   "cell_type": "code",
   "execution_count": null,
   "metadata": {},
   "outputs": [],
   "source": [
    "# Nestings\n",
    "\n",
    "if a > 1:\n",
    "    if b > 2:\n",
    "        pass # a special keyword for empty blocks"
   ]
  },
  {
   "cell_type": "code",
   "execution_count": null,
   "metadata": {},
   "outputs": [],
   "source": [
    "# total sum\n",
    "\n",
    "numbers = [7, 3, 4, 5, 6, 15]\n",
    "y = 0\n",
    "for i in numbers:\n",
    "    y += i\n",
    "\n",
    "print(f\"The sum of ’numbers’ is {y}.\")\n",
    "## The sum of 'numbers' is 40."
   ]
  },
  {
   "cell_type": "code",
   "execution_count": null,
   "metadata": {},
   "outputs": [],
   "source": [
    "# power of 2\n",
    "\n",
    "powers = [2 ** i for i in range(11)]\n",
    "teacher = [\"***\", \"**\", \"*\"]\n",
    "grades = {star: len(teacher) - len(star) + 1 for star in teacher}\n",
    "\n",
    "## [1, 2, 4, 8, 16, 32, 64, 128, 256, 512, 1024]\n",
    "## {'***': 1, '**': 2, '*': 3}"
   ]
  },
  {
   "cell_type": "code",
   "execution_count": null,
   "metadata": {},
   "outputs": [],
   "source": [
    "# Continue the loop\n",
    "\n",
    "for x in [\"a\", \"b\", \"c\"]:\n",
    "    a = x.upper()\n",
    "    continue\n",
    "print(x)\n",
    "\n",
    "print(a)\n",
    "## C"
   ]
  },
  {
   "cell_type": "code",
   "execution_count": null,
   "metadata": {},
   "outputs": [],
   "source": [
    "# Breaking the habit\n",
    "\n",
    "y = 0\n",
    "for i in [7, 3, 4, \"x\", 6, 15]:\n",
    "    if not isinstance(i, int):\n",
    "        break\n",
    "    y += i\n",
    "\n",
    "print(f\"The total sum is {y}.\")\n",
    "## The total sum is 14."
   ]
  },
  {
   "cell_type": "code",
   "execution_count": null,
   "metadata": {},
   "outputs": [],
   "source": [
    "# Favorite lottery number\n",
    "\n",
    "import random\n",
    "\n",
    "n = 0\n",
    "favorite = 7\n",
    "\n",
    "while n < 100:\n",
    "    n += 1\n",
    "    draw = random.randint(1, 49) # e.g. German lottery\n",
    "    if draw == favorite:\n",
    "        print(\"Got my number! :)\")\n",
    "        break\n",
    "    else:\n",
    "        print(\"My favorite did not show up! :(\")\n",
    "\n",
    "print(f\"I tried {n} times!\")\n",
    "## Got my number! :)\n",
    "## I tried 10 times!"
   ]
  },
  {
   "cell_type": "code",
   "execution_count": null,
   "metadata": {},
   "outputs": [],
   "source": [
    "# Drawing lottery numbers\n",
    "\n",
    "def draw_sample(n, first=1, last=49):\n",
    "    \n",
    "    numbers = list(range(first, last + 1))\n",
    "    sample = []\n",
    "    \n",
    "    for i in range(n):\n",
    "        ind = random.randint(0, len(numbers) - 1)\n",
    "        sample.append(numbers.pop(ind))\n",
    "\n",
    "    sample.sort()\n",
    "    return sample\n",
    "\n",
    "draw_sample(6)\n",
    "draw_sample(6, 80, 100)\n",
    "draw_sample(3, first=5)\n",
    "## [2, 3, 4, 16, 23, 28]\n",
    "## [82, 84, 94, 95, 99, 100]\n",
    "## [5, 12, 16]"
   ]
  },
  {
   "cell_type": "code",
   "execution_count": null,
   "metadata": {},
   "outputs": [],
   "source": [
    "# Prime numbers\n",
    "\n",
    "def primes(n):\n",
    "    \n",
    "    numbers = [2]\n",
    "    def is_prime(num):\n",
    "        \n",
    "        for i in numbers:\n",
    "            if num % i == 0:\n",
    "                return False\n",
    "        \n",
    "        return True\n",
    "    \n",
    "    if n == 2:\n",
    "        return numbers\n",
    "    \n",
    "    for i in range(3, n + 1):\n",
    "        if is_prime(i):\n",
    "            numbers.append(i)\n",
    "    \n",
    "    return numbers\n",
    "\n",
    "primes(50)\n",
    "## [2, 3, 5, 7, 11, 13, 17, 19, 23, 29, 31, 37, 41, 43, 47]"
   ]
  },
  {
   "attachments": {},
   "cell_type": "markdown",
   "metadata": {},
   "source": [
    "### Object orientation"
   ]
  },
  {
   "cell_type": "code",
   "execution_count": null,
   "metadata": {},
   "outputs": [],
   "source": [
    "# Equal but not identical\n",
    "\n",
    "a = [\"Star\", \"Trek\"]\n",
    "b = [\"Star\", \"Trek\"]\n",
    "c = a\n",
    "a == b\n",
    "a == c\n",
    "a is b\n",
    "a is c\n",
    "\n",
    "## ['Star', 'Trek']\n",
    "## ['Star', 'Trek']\n",
    "## ['Star', 'Trek']\n",
    "## True\n",
    "## True\n",
    "## False\n",
    "## True"
   ]
  },
  {
   "cell_type": "code",
   "execution_count": null,
   "metadata": {},
   "outputs": [],
   "source": [
    "# Collecting grades\n",
    "\n",
    "grades = [1.7, 1.3, 2.7, 2.0]\n",
    "result = grades.append(1.0)\n",
    "result\n",
    "grades\n",
    "finals = grades\n",
    "finals.remove(2.7)\n",
    "finals\n",
    "grades\n",
    "\n",
    "## None\n",
    "## [1.7, 1.3, 2.7, 2.0, 1.0]\n",
    "## [1.7, 1.3, 2.0, 1.0]\n",
    "## [1.7, 1.3, 2.0, 1.0]"
   ]
  },
  {
   "cell_type": "code",
   "execution_count": null,
   "metadata": {},
   "outputs": [],
   "source": [
    "# Side effects\n",
    "\n",
    "def last_element(x):\n",
    "    return x.pop(-1)\n",
    "\n",
    "a = stocks\n",
    "\n",
    "last_element(a)\n",
    "\n",
    "a\n",
    "\n",
    "## ['Amazon', 'Apple', 'Facebook', 'Google', 'Microsoft', 'Twitter']\n",
    "## Twitter\n",
    "## ['Amazon', 'Apple', 'Facebook', 'Google', 'Microsoft']"
   ]
  },
  {
   "cell_type": "code",
   "execution_count": null,
   "metadata": {},
   "outputs": [],
   "source": [
    "# Copying\n",
    "\n",
    "def last_element(x):\n",
    "    y = x.copy()\n",
    "    return y.pop(-1)\n",
    "\n",
    "a = stocks\n",
    "last_element(a)\n",
    "\n",
    "a\n",
    "\n",
    "## ['Amazon', 'Apple', 'Facebook', 'Google', 'Microsoft']\n",
    "## Microsoft\n",
    "## ['Amazon', 'Apple', 'Facebook', 'Google', 'Microsoft']"
   ]
  },
  {
   "cell_type": "code",
   "execution_count": null,
   "metadata": {},
   "outputs": [],
   "source": [
    "# Cloning fast food\n",
    "\n",
    "fastfood = [[\"burgers\", \"hot dogs\"], [\"pizza\", \"pasta\"]]\n",
    "\n",
    "italian = fastfood.copy()\n",
    "italian.pop(0)\n",
    "\n",
    "american = list(fastfood)\n",
    "american.pop(1)\n",
    "american[0] = american[0].copy()\n",
    "\n",
    "fastfood[0][1] = \"chicken wings\"\n",
    "fastfood[1][0] = \"risotto\"\n",
    "\n",
    "italian\n",
    "\n",
    "american\n",
    "\n",
    "## [['risotto', 'pasta']]\n",
    "## [['burgers', 'hot dogs']]"
   ]
  },
  {
   "cell_type": "code",
   "execution_count": null,
   "metadata": {},
   "outputs": [],
   "source": [
    "# Rectangle class\n",
    "\n",
    "class Rectangle:\n",
    "\n",
    "    width = 0\n",
    "    height = 0\n",
    "\n",
    "    def area(self):\n",
    "        return self.width * self.height\n",
    "\n",
    "myrectangle = Rectangle()\n",
    "myrectangle.width = 10\n",
    "myrectangle.height = 20\n",
    "\n",
    "myrectangle.area()\n",
    "## 200"
   ]
  },
  {
   "cell_type": "code",
   "execution_count": null,
   "metadata": {},
   "outputs": [],
   "source": []
  },
  {
   "cell_type": "code",
   "execution_count": null,
   "metadata": {},
   "outputs": [],
   "source": []
  },
  {
   "cell_type": "code",
   "execution_count": null,
   "metadata": {},
   "outputs": [],
   "source": []
  },
  {
   "cell_type": "code",
   "execution_count": null,
   "metadata": {},
   "outputs": [],
   "source": []
  },
  {
   "cell_type": "code",
   "execution_count": null,
   "metadata": {},
   "outputs": [],
   "source": []
  },
  {
   "cell_type": "code",
   "execution_count": null,
   "metadata": {},
   "outputs": [],
   "source": []
  },
  {
   "cell_type": "code",
   "execution_count": null,
   "metadata": {},
   "outputs": [],
   "source": [
    "%reload_ext watermark\n",
    "%watermark -a \"Caique Miranda\" -gu \"caiquemiranda\" -iv"
   ]
  },
  {
   "attachments": {},
   "cell_type": "markdown",
   "metadata": {},
   "source": [
    "### END."
   ]
  }
 ],
 "metadata": {
  "kernelspec": {
   "display_name": "Python 3",
   "language": "python",
   "name": "python3"
  },
  "language_info": {
   "codemirror_mode": {
    "name": "ipython",
    "version": 3
   },
   "file_extension": ".py",
   "mimetype": "text/x-python",
   "name": "python",
   "nbconvert_exporter": "python",
   "pygments_lexer": "ipython3",
   "version": "3.10.5"
  },
  "orig_nbformat": 4,
  "vscode": {
   "interpreter": {
    "hash": "74af3d2f25f1e46ebd2903d59225d79e4675ec224d56c01fc30cd168c2010d53"
   }
  }
 },
 "nbformat": 4,
 "nbformat_minor": 2
}
