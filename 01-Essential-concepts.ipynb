{
 "cells": [
  {
   "attachments": {},
   "cell_type": "markdown",
   "metadata": {},
   "source": [
    "### Getting started"
   ]
  },
  {
   "cell_type": "code",
   "execution_count": 5,
   "metadata": {},
   "outputs": [
    {
     "name": "stdout",
     "output_type": "stream",
     "text": [
      "You successfully logged in!\n"
     ]
    }
   ],
   "source": [
    "# Indentation example\n",
    "\n",
    "password = input(\"I am your bank. Password please: \")\n",
    "## I am your bank. Password please: sparkasse\n",
    "\n",
    "if password == \"sparkasse\":\n",
    "    print(\"You successfully logged in!\")\n",
    "\n",
    "else:\n",
    "    print(\"Fail. Will call the police!\")\n",
    "\n",
    "## You successfully logged in!"
   ]
  },
  {
   "attachments": {},
   "cell_type": "markdown",
   "metadata": {},
   "source": [
    "### Procedural programming"
   ]
  },
  {
   "attachments": {},
   "cell_type": "markdown",
   "metadata": {},
   "source": [
    "#### The first program"
   ]
  },
  {
   "cell_type": "code",
   "execution_count": 6,
   "metadata": {},
   "outputs": [
    {
     "name": "stdout",
     "output_type": "stream",
     "text": [
      "Hello there!\n"
     ]
    }
   ],
   "source": [
    "# Hello there\n",
    "\n",
    "print(\"Hello there!\")\n",
    "\n",
    "## Hello there!"
   ]
  },
  {
   "attachments": {},
   "cell_type": "markdown",
   "metadata": {},
   "source": [
    "#### User input"
   ]
  },
  {
   "cell_type": "code",
   "execution_count": 7,
   "metadata": {},
   "outputs": [
    {
     "name": "stdout",
     "output_type": "stream",
     "text": [
      "Hello Miranda!\n"
     ]
    }
   ],
   "source": [
    "# Hello you\n",
    "\n",
    "name = input(\"Please enter your name: \")\n",
    "\n",
    "## Please enter your name: Angela Merkel\n",
    "print(\"Hello \" + name + \"!\")\n",
    "\n",
    "## Hello Angela Merkel!"
   ]
  },
  {
   "attachments": {},
   "cell_type": "markdown",
   "metadata": {},
   "source": [
    "#### Determining weekdays"
   ]
  },
  {
   "cell_type": "code",
   "execution_count": 8,
   "metadata": {},
   "outputs": [
    {
     "name": "stdout",
     "output_type": "stream",
     "text": [
      "Your birthday was on a Tuesday!\n"
     ]
    }
   ],
   "source": [
    "# Weekday of birth\n",
    "\n",
    "from datetime import datetime\n",
    "\n",
    "answer = input(\"Your birthday (DD-MM-YYYY): \")\n",
    "\n",
    "## Your birthday (DD-MM-YYYY): 17-07-1954\n",
    "birthday = datetime.strptime(answer, \"%d-%m-%Y\")\n",
    "\n",
    "print(\"Your birthday was on a \" + birthday.strftime(\"%A\") + \"!\")\n",
    "\n",
    "## Your birthday was on a Saturday!"
   ]
  },
  {
   "attachments": {},
   "cell_type": "markdown",
   "metadata": {},
   "source": [
    "#### Time since birth"
   ]
  },
  {
   "cell_type": "code",
   "execution_count": 9,
   "metadata": {},
   "outputs": [
    {
     "name": "stdout",
     "output_type": "stream",
     "text": [
      "You are 9227 days old!\n"
     ]
    }
   ],
   "source": [
    "# Age in days\n",
    "\n",
    "someday = datetime.strptime(\"14-03-2018\", \"%d-%m-%Y\")\n",
    "\n",
    "print(\"You are \" + str((someday - birthday).days) + \" days old!\")\n",
    "## You are 23251 days old!"
   ]
  },
  {
   "cell_type": "code",
   "execution_count": 10,
   "metadata": {},
   "outputs": [
    {
     "name": "stdout",
     "output_type": "stream",
     "text": [
      "That’s 25 years, 3 months and 6 days!!\n"
     ]
    }
   ],
   "source": [
    "# Human readable age\n",
    "\n",
    "from dateutil.relativedelta import relativedelta\n",
    "\n",
    "delta = relativedelta(someday, birthday)\n",
    "\n",
    "print(f\"That’s {delta.years} years, {delta.months} months \"\n",
    "f\"and {delta.days} days!!\")\n",
    "\n",
    "## That's 63 years, 7 months and 25 days!!"
   ]
  },
  {
   "attachments": {},
   "cell_type": "markdown",
   "metadata": {},
   "source": [
    "#### Getting help"
   ]
  },
  {
   "cell_type": "code",
   "execution_count": 11,
   "metadata": {},
   "outputs": [
    {
     "name": "stdout",
     "output_type": "stream",
     "text": [
      "Help on built-in function len in module builtins:\n",
      "\n",
      "len(obj, /)\n",
      "    Return the number of items in a container.\n",
      "\n"
     ]
    }
   ],
   "source": [
    "# Help system\n",
    "\n",
    "help(len)\n",
    "## Help on built-in function len in module builtins:\n",
    "##\n",
    "## len(obj, /)\n",
    "## Return the number of items in a container."
   ]
  },
  {
   "attachments": {},
   "cell_type": "markdown",
   "metadata": {},
   "source": [
    "#### Literals and variables"
   ]
  },
  {
   "cell_type": "code",
   "execution_count": 12,
   "metadata": {},
   "outputs": [],
   "source": [
    "# Assigning variables with literals\n",
    "\n",
    "myint = 7\n",
    "myfloat = 4.0\n",
    "myboat = \"nice\"\n",
    "mybool = True\n",
    "myfloat = myboat"
   ]
  },
  {
   "attachments": {},
   "cell_type": "markdown",
   "metadata": {},
   "source": [
    "#### Operators and delimiters"
   ]
  },
  {
   "cell_type": "code",
   "execution_count": 13,
   "metadata": {},
   "outputs": [],
   "source": [
    "# Overview of operators\n",
    "\n",
    "## + - * / ** //\n",
    "## % @ << >> & |\n",
    "## ^ ~ == != < >\n",
    "## <= >= and or not in\n",
    "## not in is is not"
   ]
  },
  {
   "cell_type": "code",
   "execution_count": 14,
   "metadata": {},
   "outputs": [],
   "source": [
    "# Overview of delimiters\n",
    "\n",
    "## ( ) [ ] { }\n",
    "## , : . = ; ->\n",
    "## += -= *= /= **= //=\n",
    "## %= @= <<= >>= &= |=\n",
    "## ^= ' \" \\ @ SPACE"
   ]
  },
  {
   "attachments": {},
   "cell_type": "markdown",
   "metadata": {},
   "source": [
    "#### Arithmetic operators"
   ]
  },
  {
   "cell_type": "code",
   "execution_count": 15,
   "metadata": {},
   "outputs": [
    {
     "name": "stdout",
     "output_type": "stream",
     "text": [
      "15\n",
      "80\n",
      "4.0\n",
      "120\n",
      "8\n"
     ]
    }
   ],
   "source": [
    "# Pocket calculator\n",
    "\n",
    "print(10 + 5)\n",
    "print(100 - 20)\n",
    "print(8 / 2)\n",
    "print(4 * (10 + 20))\n",
    "print(2**3)\n",
    "\n",
    "## 15\n",
    "## 80\n",
    "## 4.0\n",
    "## 120\n",
    "## 8"
   ]
  },
  {
   "attachments": {},
   "cell_type": "markdown",
   "metadata": {},
   "source": [
    "#### Boolean operators"
   ]
  },
  {
   "cell_type": "code",
   "execution_count": 16,
   "metadata": {},
   "outputs": [
    {
     "name": "stdout",
     "output_type": "stream",
     "text": [
      "a b a and b a or b not a\n",
      "--------------------------------\n",
      "0   0      0        0       1\n",
      "0   1      0        1       1\n",
      "1   0      0        1       0\n",
      "1   1      1        1       0\n"
     ]
    }
   ],
   "source": [
    "# Logical table\n",
    "\n",
    "# Create table head\n",
    "print(\"a b a and b a or b not a\\n\"\n",
    "\"--------------------------------\")\n",
    "\n",
    "# Loop through the rows\n",
    "for a in [False, True]:\n",
    "    for b in [False, True]:\n",
    "        print(f\"{a:1} {b:3} {a and b:6} {a or b:8} {not a:7}\")\n",
    "\n",
    "## a b a and b a or b not a\n",
    "## --------------------------------\n",
    "## 0 0 0 0 1\n",
    "## 0 1 0 1 1\n",
    "## 1 0 0 1 0\n",
    "## 1 1 1 1 0"
   ]
  },
  {
   "attachments": {},
   "cell_type": "markdown",
   "metadata": {},
   "source": [
    "#### Keywords and comments"
   ]
  },
  {
   "cell_type": "code",
   "execution_count": 17,
   "metadata": {},
   "outputs": [],
   "source": [
    "# Overview of keywords\n",
    "\n",
    "## and as assert break class continue\n",
    "## def del elif else except False\n",
    "## finally for from global if import\n",
    "## in is lambda None nonlocal not\n",
    "## or pass raise return True try\n",
    "## while with yield"
   ]
  },
  {
   "attachments": {},
   "cell_type": "markdown",
   "metadata": {},
   "source": [
    "#### Data types"
   ]
  },
  {
   "cell_type": "code",
   "execution_count": 18,
   "metadata": {},
   "outputs": [
    {
     "data": {
      "text/plain": [
       "'\\nI am a docstring!\\nA multiline string comment hybrid.\\nI will be useful for describing classes and methods.\\n'"
      ]
     },
     "execution_count": 18,
     "metadata": {},
     "output_type": "execute_result"
    }
   ],
   "source": [
    "# Provide some comments\n",
    "\n",
    "# Set variable to something - or nothing?\n",
    "something = None\n",
    "\"\"\"\n",
    "I am a docstring!\n",
    "A multiline string comment hybrid.\n",
    "I will be useful for describing classes and methods.\n",
    "\"\"\""
   ]
  },
  {
   "attachments": {},
   "cell_type": "markdown",
   "metadata": {},
   "source": [
    "|Data | type Description|\n",
    "|--|--|\n",
    "|int() |Integers\n",
    "|float() |Floating point numbers\n",
    "|str() |Strings, i.e., unicode (UTF-8) texts\n",
    "|bool() |Boolean, i.e., True or False\n",
    "|list() |List, an ordered array of objects\n",
    "|tuple() |Tuple, an ordered, unmutable array of objects\n",
    "|dict() |Dictionary, an unordered, associative array of objects\n",
    "|set() |Set, an unordered array/set of objects\n",
    "|None() |Nothing, emptyness, the void.."
   ]
  },
  {
   "attachments": {},
   "cell_type": "markdown",
   "metadata": {},
   "source": [
    "#### Lists"
   ]
  },
  {
   "cell_type": "code",
   "execution_count": 19,
   "metadata": {},
   "outputs": [
    {
     "name": "stdout",
     "output_type": "stream",
     "text": [
      "['Google', 'Amazon', 'Facebook', 'Apple']\n",
      "Amazon\n",
      "['Google', 'Amazon', 'Facebook', 'Apple', 'Twitter']\n",
      "['Google', 'Amazon', 'Microsoft', 'Facebook', 'Apple', 'Twitter']\n",
      "['Amazon', 'Apple', 'Facebook', 'Google', 'Microsoft', 'Twitter']\n"
     ]
    }
   ],
   "source": [
    "# Listing tech companies\n",
    "\n",
    "stocks = [\"Google\", \"Amazon\", \"Facebook\", \"Apple\"]\n",
    "print(stocks)\n",
    "\n",
    "print(stocks[1])\n",
    "\n",
    "stocks.append(\"Twitter\")\n",
    "print(stocks)\n",
    "\n",
    "stocks.insert(2, \"Microsoft\")\n",
    "print(stocks)\n",
    "\n",
    "stocks.sort()\n",
    "print(stocks)\n",
    "\n",
    "## ['Google', 'Amazon', 'Facebook', 'Apple']\n",
    "## Amazon\n",
    "## ['Google', 'Amazon', 'Facebook', 'Apple', 'Twitter']\n",
    "## ['Google', 'Amazon', 'Microsoft', 'Facebook', 'Apple', 'Twitter']\n",
    "## ['Amazon', 'Apple', 'Facebook', 'Google', 'Microsoft', 'Twitter']"
   ]
  },
  {
   "attachments": {},
   "cell_type": "markdown",
   "metadata": {},
   "source": [
    "#### Tuples"
   ]
  },
  {
   "cell_type": "code",
   "execution_count": 20,
   "metadata": {},
   "outputs": [
    {
     "data": {
      "text/plain": [
       "(24, 28)"
      ]
     },
     "execution_count": 20,
     "metadata": {},
     "output_type": "execute_result"
    }
   ],
   "source": [
    "# Selecting elements in sequences\n",
    "\n",
    "lottery = (1, 8, 9, 12, 24, 28)\n",
    "len(lottery)\n",
    "lottery[1:3]\n",
    "lottery[:4]\n",
    "lottery[-1]\n",
    "lottery[-2:]\n",
    "## (1, 8, 9, 12, 24, 28)\n",
    "## 6\n",
    "## (8, 9)\n",
    "## (1, 8, 9, 12)\n",
    "## 28\n",
    "## (24, 28)"
   ]
  },
  {
   "attachments": {},
   "cell_type": "markdown",
   "metadata": {},
   "source": [
    "#### Dictionaries"
   ]
  },
  {
   "cell_type": "code",
   "execution_count": 21,
   "metadata": {},
   "outputs": [
    {
     "data": {
      "text/plain": [
       "dict_values(['in my humble opinion', 'laughing out loud', 'too long; didn’t read', 'good luck & have fun'])"
      ]
     },
     "execution_count": 21,
     "metadata": {},
     "output_type": "execute_result"
    }
   ],
   "source": [
    "# Internet slang dictionary\n",
    "\n",
    "slang = {\"imho\": \"in my humble opinion\",\n",
    "         \"lol\": \"laughing out loud\",\n",
    "         \"tl;dr\": \"too long; didn’t read\"}\n",
    "\n",
    "slang[\"lol\"]\n",
    "slang[\"gl&hl\"] = \"good luck & have fun\"\n",
    "\n",
    "slang.keys()\n",
    "slang.values()\n",
    "\n",
    "## {'imho': 'in...ion', 'lol': 'la...oud', 'tl;dr': 'to...ead'}\n",
    "## laughing out loud\n",
    "## good luck & have fun\n",
    "## dict_keys(['imho', 'lol', 'tl;dr', 'gl&hl'])\n",
    "## dict_values([... & have fun'])"
   ]
  },
  {
   "attachments": {},
   "cell_type": "markdown",
   "metadata": {},
   "source": [
    "#### Sets"
   ]
  },
  {
   "cell_type": "code",
   "execution_count": 22,
   "metadata": {},
   "outputs": [
    {
     "data": {
      "text/plain": [
       "{'t', 'y'}"
      ]
     },
     "execution_count": 22,
     "metadata": {},
     "output_type": "execute_result"
    }
   ],
   "source": [
    "# Set operations\n",
    "\n",
    "x = {\"o\", \"n\", \"y\", \"t\"}\n",
    "y = {\"p\", \"h\", \"o\", \"n\"}\n",
    "x & y\n",
    "x | y\n",
    "x - y\n",
    "\n",
    "## {'y', 'n', 't', 'o'}\n",
    "## {'p', 'n', 'h', 'o'}\n",
    "## {'n', 'o'}\n",
    "## {'p', 'y', 'o', 't', 'n', 'h'}\n",
    "## {'y', 't'}"
   ]
  },
  {
   "attachments": {},
   "cell_type": "markdown",
   "metadata": {},
   "source": [
    "#### Comparison operators"
   ]
  },
  {
   "attachments": {},
   "cell_type": "markdown",
   "metadata": {},
   "source": [
    "Op. True, only if the value of the left operand is\n",
    "|< | less than the value of the right operand|\n",
    "|--|--|\n",
    "|<= | less than or equal to the value of the right operand|\n",
    "|> | greater than the value of the right operand|\n",
    "|>= | greater than or equal to the value of the right operand|\n",
    "|== | equal to the right operand|\n",
    "|!= | not equal to the right operand|"
   ]
  },
  {
   "cell_type": "code",
   "execution_count": 23,
   "metadata": {},
   "outputs": [
    {
     "name": "stdout",
     "output_type": "stream",
     "text": [
      "x < y is True\n",
      "x > y is False\n",
      "x == y is False\n",
      "x != y is True\n",
      "This is True and not False\n"
     ]
    }
   ],
   "source": [
    "# Comparing examples\n",
    "\n",
    "x, y = 5, 8\n",
    "\n",
    "print(\"x < y is\", x < y)\n",
    "## x < y is True\n",
    "\n",
    "print(\"x > y is\", x > y)\n",
    "## x > y is False\n",
    "\n",
    "print(\"x == y is\", x == y)\n",
    "## x == y is False\n",
    "\n",
    "print(\"x != y is\", x != y)\n",
    "## x != y is True\n",
    "\n",
    "print(\"This is\", \"Name\" == \"Name\", \"and not\", \"Name\" == \"name\")\n",
    "## This is True and not False"
   ]
  },
  {
   "attachments": {},
   "cell_type": "markdown",
   "metadata": {},
   "source": [
    "#### Chaining comparison operators"
   ]
  },
  {
   "cell_type": "code",
   "execution_count": 24,
   "metadata": {},
   "outputs": [
    {
     "data": {
      "text/plain": [
       "True"
      ]
     },
     "execution_count": 24,
     "metadata": {},
     "output_type": "execute_result"
    }
   ],
   "source": [
    "# Chaining comparison examples\n",
    "\n",
    "x = 5\n",
    "\n",
    "5 >= x > 4\n",
    "## True\n",
    "\n",
    "12 < x < 20\n",
    "## False\n",
    "\n",
    "2 < x < 10\n",
    "## True\n",
    "\n",
    "2 < x and x < 10 # unchained expression\n",
    "## True"
   ]
  },
  {
   "attachments": {},
   "cell_type": "markdown",
   "metadata": {},
   "source": [
    "|Op. | Description|\n",
    "|--|--|\n",
    "|not x | Returns True only if x is False|\n",
    "|x and y | Returns True only if x and y are True|\n",
    "|x or y | Returns True only if x or y or both are True|"
   ]
  },
  {
   "attachments": {},
   "cell_type": "markdown",
   "metadata": {},
   "source": [
    "#### Logical operators"
   ]
  },
  {
   "cell_type": "code",
   "execution_count": 25,
   "metadata": {},
   "outputs": [
    {
     "data": {
      "text/plain": [
       "True"
      ]
     },
     "execution_count": 25,
     "metadata": {},
     "output_type": "execute_result"
    }
   ],
   "source": [
    "# Logical operators examples\n",
    "\n",
    "x, y = 5, 8\n",
    "\n",
    "(x == 5) and (y == 9)\n",
    "## False\n",
    "\n",
    "(x == 5) or (y == 8)\n",
    "## True\n",
    "\n",
    "not(x == 4) or (y == 9)\n",
    "## True"
   ]
  },
  {
   "attachments": {},
   "cell_type": "markdown",
   "metadata": {},
   "source": [
    "#### Exclusive or"
   ]
  },
  {
   "cell_type": "code",
   "execution_count": 26,
   "metadata": {},
   "outputs": [
    {
     "data": {
      "text/plain": [
       "True"
      ]
     },
     "execution_count": 26,
     "metadata": {},
     "output_type": "execute_result"
    }
   ],
   "source": [
    "# Exclusive or\n",
    "\n",
    "x, y = 5, 8\n",
    "\n",
    "((x == 5) and not (y == 8)) or (not (x == 5) and (y == 8))\n",
    "## False\n",
    "\n",
    "x = 4\n",
    "\n",
    "((x == 5) and not (y == 8)) or (not (x == 5) and (y == 8))\n",
    "## True\n",
    "\n",
    "(x == 5) != (y == 8)\n",
    "## True"
   ]
  },
  {
   "attachments": {},
   "cell_type": "markdown",
   "metadata": {},
   "source": [
    "#### Binary numbers"
   ]
  },
  {
   "cell_type": "code",
   "execution_count": 27,
   "metadata": {},
   "outputs": [],
   "source": [
    "# Binary numbers\n",
    "\n",
    "## Decimal: Binary:\n",
    "## 0: 0\n",
    "## 1: 1\n",
    "## 2: 10\n",
    "## 3: 11\n",
    "## 4: 100\n",
    "## 5: 101\n",
    "## 6: 110\n",
    "## 7: 111\n",
    "## 8: 1000\n",
    "## 9: 1001\n",
    "## 10: 1010"
   ]
  },
  {
   "cell_type": "code",
   "execution_count": 28,
   "metadata": {},
   "outputs": [
    {
     "data": {
      "text/plain": [
       "105"
      ]
     },
     "execution_count": 28,
     "metadata": {},
     "output_type": "execute_result"
    }
   ],
   "source": [
    "# Binary to integer\n",
    "\n",
    "def bintoint(binary):\n",
    "    \n",
    "    binary = binary[::-1]\n",
    "    num = 0\n",
    "    \n",
    "    for i in range(len(binary)):\n",
    "        num += int(binary[i]) * 2**i\n",
    "    \n",
    "    return num\n",
    "\n",
    "bintoint(\"1101001\")\n",
    "## 105\n",
    "\n",
    "int(\"1101001\", 2) # compare with built-in function\n",
    "## 105"
   ]
  },
  {
   "cell_type": "code",
   "execution_count": 29,
   "metadata": {},
   "outputs": [
    {
     "data": {
      "text/plain": [
       "'1101001'"
      ]
     },
     "execution_count": 29,
     "metadata": {},
     "output_type": "execute_result"
    }
   ],
   "source": [
    "# Integers to binary\n",
    "\n",
    "def inttobin(num):\n",
    "    \n",
    "    binary = \"\"\n",
    "    \n",
    "    if num != 0:\n",
    "        \n",
    "        while num >= 1:\n",
    "            \n",
    "            if num % 2 == 0:\n",
    "                binary += \"0\"\n",
    "                num = num / 2\n",
    "            \n",
    "            else:\n",
    "                binary += \"1\"\n",
    "                num = (num - 1) / 2\n",
    "\n",
    "    else:\n",
    "        binary = \"0\"\n",
    "    \n",
    "    return binary[::-1]\n",
    "\n",
    "inttobin(105)\n",
    "## '1101001'\n",
    "\n",
    "bin(105)[2:] # compare with built-in function\n",
    "## '1101001'"
   ]
  },
  {
   "attachments": {},
   "cell_type": "markdown",
   "metadata": {},
   "source": [
    "#### Bitwise operators"
   ]
  },
  {
   "attachments": {},
   "cell_type": "markdown",
   "metadata": {},
   "source": [
    "| Bit. op. | Description |\n",
    "|--|--|\n",
    "|x >> y | Returns x with the bits shifted to the left by y places|\n",
    "|x << y | Returns x with the bits shifted to the right by y places|\n",
    "|x & y | Does a bitwise and|\n",
    "|xory | Does a bitwise or|\n",
    "|~ x | Returns the complement of x|\n",
    "|x ^ y | Does a bitwise exclusive or|"
   ]
  },
  {
   "cell_type": "code",
   "execution_count": 30,
   "metadata": {},
   "outputs": [
    {
     "name": "stdout",
     "output_type": "stream",
     "text": [
      "5\n"
     ]
    }
   ],
   "source": [
    "# Bitwise operators\n",
    "\n",
    "a, b = 5, 7\n",
    "c = a & b # bitwise and\n",
    "## a: 101\n",
    "## b: 111\n",
    "## c: 101\n",
    "\n",
    "print(c)\n",
    "## 5"
   ]
  },
  {
   "cell_type": "code",
   "execution_count": 31,
   "metadata": {},
   "outputs": [
    {
     "name": "stdout",
     "output_type": "stream",
     "text": [
      "7\n"
     ]
    }
   ],
   "source": [
    "# Bitwise operators\n",
    "\n",
    "a, b = 5, 7\n",
    "c = a | b # bitwise or\n",
    "## a: 101\n",
    "## b: 111\n",
    "## c: 111\n",
    "\n",
    "print(c)\n",
    "## 7\n",
    "\n",
    "a = 13\n",
    "b = a << 2 # bitwise shift\n",
    "## a: 1101\n",
    "## b: 110100\n",
    "\n",
    "a, b = 35, 37\n",
    "c = a ^ b # bitwise exclusive or\n",
    "## a: 100011\n",
    "## b: 100101\n",
    "## c: 000110"
   ]
  },
  {
   "attachments": {},
   "cell_type": "markdown",
   "metadata": {},
   "source": [
    "#### Control flow: Conditional statements"
   ]
  },
  {
   "cell_type": "code",
   "execution_count": 32,
   "metadata": {},
   "outputs": [
    {
     "name": "stdout",
     "output_type": "stream",
     "text": [
      " 12.50 MByte\n"
     ]
    }
   ],
   "source": [
    "# Computer data sizes\n",
    "\n",
    "bytes = 100000000 / 8 # e.g. DSL 100000\n",
    "\n",
    "if bytes >= 1e9:\n",
    "    print(f\"{bytes/1e9:6.2f} GByte\")\n",
    "\n",
    "elif bytes >= 1e6:\n",
    "    print(f\"{bytes/1e6:6.2f} MByte\")\n",
    "\n",
    "elif bytes >= 1e3:\n",
    "    print(f\"{bytes/1e3:6.2f} KByte\")\n",
    "\n",
    "else:\n",
    "    print(f\"{bytes:6.2f} Byte\")\n",
    "## 12.50 MByte"
   ]
  },
  {
   "cell_type": "code",
   "execution_count": 33,
   "metadata": {},
   "outputs": [],
   "source": [
    "# Nestings\n",
    "\n",
    "if a > 1:\n",
    "    if b > 2:\n",
    "        pass # a special keyword for empty blocks"
   ]
  },
  {
   "attachments": {},
   "cell_type": "markdown",
   "metadata": {},
   "source": [
    "#### Control flow: The for loop"
   ]
  },
  {
   "cell_type": "code",
   "execution_count": 34,
   "metadata": {},
   "outputs": [
    {
     "name": "stdout",
     "output_type": "stream",
     "text": [
      "The sum of ’numbers’ is 40.\n"
     ]
    }
   ],
   "source": [
    "# total sum\n",
    "\n",
    "numbers = [7, 3, 4, 5, 6, 15]\n",
    "y = 0\n",
    "for i in numbers:\n",
    "    y += i\n",
    "\n",
    "print(f\"The sum of ’numbers’ is {y}.\")\n",
    "## The sum of 'numbers' is 40."
   ]
  },
  {
   "cell_type": "code",
   "execution_count": 35,
   "metadata": {},
   "outputs": [],
   "source": [
    "# power of 2\n",
    "\n",
    "powers = [2 ** i for i in range(11)]\n",
    "teacher = [\"***\", \"**\", \"*\"]\n",
    "grades = {star: len(teacher) - len(star) + 1 for star in teacher}\n",
    "\n",
    "## [1, 2, 4, 8, 16, 32, 64, 128, 256, 512, 1024]\n",
    "## {'***': 1, '**': 2, '*': 3}"
   ]
  },
  {
   "attachments": {},
   "cell_type": "markdown",
   "metadata": {},
   "source": [
    "#### Control flow: continue and break"
   ]
  },
  {
   "cell_type": "code",
   "execution_count": 36,
   "metadata": {},
   "outputs": [
    {
     "name": "stdout",
     "output_type": "stream",
     "text": [
      "c\n",
      "C\n"
     ]
    }
   ],
   "source": [
    "# Continue the loop\n",
    "\n",
    "for x in [\"a\", \"b\", \"c\"]:\n",
    "    a = x.upper()\n",
    "    continue\n",
    "print(x)\n",
    "\n",
    "print(a)\n",
    "## C"
   ]
  },
  {
   "cell_type": "code",
   "execution_count": 37,
   "metadata": {},
   "outputs": [
    {
     "name": "stdout",
     "output_type": "stream",
     "text": [
      "The total sum is 14.\n"
     ]
    }
   ],
   "source": [
    "# Breaking the habit\n",
    "\n",
    "y = 0\n",
    "for i in [7, 3, 4, \"x\", 6, 15]:\n",
    "    if not isinstance(i, int):\n",
    "        break\n",
    "    y += i\n",
    "\n",
    "print(f\"The total sum is {y}.\")\n",
    "## The total sum is 14."
   ]
  },
  {
   "attachments": {},
   "cell_type": "markdown",
   "metadata": {},
   "source": [
    "#### Control flow: The while loop"
   ]
  },
  {
   "cell_type": "code",
   "execution_count": 38,
   "metadata": {},
   "outputs": [
    {
     "name": "stdout",
     "output_type": "stream",
     "text": [
      "My favorite did not show up! :(\n",
      "My favorite did not show up! :(\n",
      "My favorite did not show up! :(\n",
      "My favorite did not show up! :(\n",
      "My favorite did not show up! :(\n",
      "My favorite did not show up! :(\n",
      "My favorite did not show up! :(\n",
      "My favorite did not show up! :(\n",
      "Got my number! :)\n",
      "I tried 9 times!\n"
     ]
    }
   ],
   "source": [
    "# Favorite lottery number\n",
    "\n",
    "import random\n",
    "\n",
    "n = 0\n",
    "favorite = 7\n",
    "\n",
    "while n < 100:\n",
    "    n += 1\n",
    "    draw = random.randint(1, 49) # e.g. German lottery\n",
    "    if draw == favorite:\n",
    "        print(\"Got my number! :)\")\n",
    "        break\n",
    "    else:\n",
    "        print(\"My favorite did not show up! :(\")\n",
    "\n",
    "print(f\"I tried {n} times!\")\n",
    "## Got my number! :)\n",
    "## I tried 10 times!"
   ]
  },
  {
   "attachments": {},
   "cell_type": "markdown",
   "metadata": {},
   "source": [
    "#### Functions"
   ]
  },
  {
   "cell_type": "code",
   "execution_count": 39,
   "metadata": {},
   "outputs": [
    {
     "data": {
      "text/plain": [
       "[7, 36, 41]"
      ]
     },
     "execution_count": 39,
     "metadata": {},
     "output_type": "execute_result"
    }
   ],
   "source": [
    "# Drawing lottery numbers\n",
    "\n",
    "def draw_sample(n, first=1, last=49):\n",
    "    \n",
    "    numbers = list(range(first, last + 1))\n",
    "    sample = []\n",
    "    \n",
    "    for i in range(n):\n",
    "        ind = random.randint(0, len(numbers) - 1)\n",
    "        sample.append(numbers.pop(ind))\n",
    "\n",
    "    sample.sort()\n",
    "    return sample\n",
    "\n",
    "draw_sample(6)\n",
    "draw_sample(6, 80, 100)\n",
    "draw_sample(3, first=5)\n",
    "## [2, 3, 4, 16, 23, 28]\n",
    "## [82, 84, 94, 95, 99, 100]\n",
    "## [5, 12, 16]"
   ]
  },
  {
   "cell_type": "code",
   "execution_count": 40,
   "metadata": {},
   "outputs": [
    {
     "data": {
      "text/plain": [
       "[2, 3, 5, 7, 11, 13, 17, 19, 23, 29, 31, 37, 41, 43, 47]"
      ]
     },
     "execution_count": 40,
     "metadata": {},
     "output_type": "execute_result"
    }
   ],
   "source": [
    "# Prime numbers\n",
    "\n",
    "def primes(n):\n",
    "    \n",
    "    numbers = [2]\n",
    "    def is_prime(num):\n",
    "        \n",
    "        for i in numbers:\n",
    "            if num % i == 0:\n",
    "                return False\n",
    "        \n",
    "        return True\n",
    "    \n",
    "    if n == 2:\n",
    "        return numbers\n",
    "    \n",
    "    for i in range(3, n + 1):\n",
    "        if is_prime(i):\n",
    "            numbers.append(i)\n",
    "    \n",
    "    return numbers\n",
    "\n",
    "primes(50)\n",
    "## [2, 3, 5, 7, 11, 13, 17, 19, 23, 29, 31, 37, 41, 43, 47]"
   ]
  },
  {
   "attachments": {},
   "cell_type": "markdown",
   "metadata": {},
   "source": [
    "### Object orientation"
   ]
  },
  {
   "attachments": {},
   "cell_type": "markdown",
   "metadata": {},
   "source": [
    "#### References"
   ]
  },
  {
   "cell_type": "code",
   "execution_count": 41,
   "metadata": {},
   "outputs": [
    {
     "data": {
      "text/plain": [
       "True"
      ]
     },
     "execution_count": 41,
     "metadata": {},
     "output_type": "execute_result"
    }
   ],
   "source": [
    "# Equal but not identical\n",
    "\n",
    "a = [\"Star\", \"Trek\"]\n",
    "b = [\"Star\", \"Trek\"]\n",
    "c = a\n",
    "a == b\n",
    "a == c\n",
    "a is b\n",
    "a is c\n",
    "\n",
    "## ['Star', 'Trek']\n",
    "## ['Star', 'Trek']\n",
    "## ['Star', 'Trek']\n",
    "## True\n",
    "## True\n",
    "## False\n",
    "## True"
   ]
  },
  {
   "attachments": {},
   "cell_type": "markdown",
   "metadata": {},
   "source": [
    "#### Copying objects"
   ]
  },
  {
   "cell_type": "code",
   "execution_count": 42,
   "metadata": {},
   "outputs": [
    {
     "data": {
      "text/plain": [
       "[1.7, 1.3, 2.0, 1.0]"
      ]
     },
     "execution_count": 42,
     "metadata": {},
     "output_type": "execute_result"
    }
   ],
   "source": [
    "# Collecting grades\n",
    "\n",
    "grades = [1.7, 1.3, 2.7, 2.0]\n",
    "result = grades.append(1.0)\n",
    "result\n",
    "grades\n",
    "finals = grades\n",
    "finals.remove(2.7)\n",
    "finals\n",
    "grades\n",
    "\n",
    "## None\n",
    "## [1.7, 1.3, 2.7, 2.0, 1.0]\n",
    "## [1.7, 1.3, 2.0, 1.0]\n",
    "## [1.7, 1.3, 2.0, 1.0]"
   ]
  },
  {
   "attachments": {},
   "cell_type": "markdown",
   "metadata": {},
   "source": [
    "#### Side effects"
   ]
  },
  {
   "cell_type": "code",
   "execution_count": 43,
   "metadata": {},
   "outputs": [
    {
     "data": {
      "text/plain": [
       "['Amazon', 'Apple', 'Facebook', 'Google', 'Microsoft']"
      ]
     },
     "execution_count": 43,
     "metadata": {},
     "output_type": "execute_result"
    }
   ],
   "source": [
    "# Side effects\n",
    "\n",
    "def last_element(x):\n",
    "    return x.pop(-1)\n",
    "\n",
    "a = stocks\n",
    "\n",
    "last_element(a)\n",
    "\n",
    "a\n",
    "\n",
    "## ['Amazon', 'Apple', 'Facebook', 'Google', 'Microsoft', 'Twitter']\n",
    "## Twitter\n",
    "## ['Amazon', 'Apple', 'Facebook', 'Google', 'Microsoft']"
   ]
  },
  {
   "attachments": {},
   "cell_type": "markdown",
   "metadata": {},
   "source": [
    "#### Copying objects"
   ]
  },
  {
   "cell_type": "code",
   "execution_count": 44,
   "metadata": {},
   "outputs": [
    {
     "data": {
      "text/plain": [
       "['Amazon', 'Apple', 'Facebook', 'Google', 'Microsoft']"
      ]
     },
     "execution_count": 44,
     "metadata": {},
     "output_type": "execute_result"
    }
   ],
   "source": [
    "# Copying\n",
    "\n",
    "def last_element(x):\n",
    "    y = x.copy()\n",
    "    return y.pop(-1)\n",
    "\n",
    "a = stocks\n",
    "last_element(a)\n",
    "\n",
    "a\n",
    "\n",
    "## ['Amazon', 'Apple', 'Facebook', 'Google', 'Microsoft']\n",
    "## Microsoft\n",
    "## ['Amazon', 'Apple', 'Facebook', 'Google', 'Microsoft']"
   ]
  },
  {
   "attachments": {},
   "cell_type": "markdown",
   "metadata": {},
   "source": [
    "#### Deep and shallow copying"
   ]
  },
  {
   "cell_type": "code",
   "execution_count": 45,
   "metadata": {},
   "outputs": [
    {
     "data": {
      "text/plain": [
       "[['burgers', 'hot dogs']]"
      ]
     },
     "execution_count": 45,
     "metadata": {},
     "output_type": "execute_result"
    }
   ],
   "source": [
    "# Cloning fast food\n",
    "\n",
    "fastfood = [[\"burgers\", \"hot dogs\"], [\"pizza\", \"pasta\"]]\n",
    "\n",
    "italian = fastfood.copy()\n",
    "italian.pop(0)\n",
    "\n",
    "american = list(fastfood)\n",
    "american.pop(1)\n",
    "american[0] = american[0].copy()\n",
    "\n",
    "fastfood[0][1] = \"chicken wings\"\n",
    "fastfood[1][0] = \"risotto\"\n",
    "\n",
    "italian\n",
    "\n",
    "american\n",
    "\n",
    "## [['risotto', 'pasta']]\n",
    "## [['burgers', 'hot dogs']]"
   ]
  },
  {
   "attachments": {},
   "cell_type": "markdown",
   "metadata": {},
   "source": [
    "#### Class definition"
   ]
  },
  {
   "cell_type": "code",
   "execution_count": 46,
   "metadata": {},
   "outputs": [
    {
     "data": {
      "text/plain": [
       "200"
      ]
     },
     "execution_count": 46,
     "metadata": {},
     "output_type": "execute_result"
    }
   ],
   "source": [
    "# Rectangle class\n",
    "\n",
    "class Rectangle:\n",
    "\n",
    "    width = 0\n",
    "    height = 0\n",
    "\n",
    "    def area(self):\n",
    "        return self.width * self.height\n",
    "\n",
    "myrectangle = Rectangle()\n",
    "myrectangle.width = 10\n",
    "myrectangle.height = 20\n",
    "\n",
    "myrectangle.area()\n",
    "## 200"
   ]
  },
  {
   "attachments": {},
   "cell_type": "markdown",
   "metadata": {},
   "source": [
    "#### Class constructor"
   ]
  },
  {
   "cell_type": "code",
   "execution_count": 47,
   "metadata": {},
   "outputs": [
    {
     "data": {
      "text/plain": [
       "450"
      ]
     },
     "execution_count": 47,
     "metadata": {},
     "output_type": "execute_result"
    }
   ],
   "source": [
    "# Rectangle class with constructor\n",
    "\n",
    "class Rectangle:\n",
    "\n",
    "    width = 0\n",
    "    height = 0\n",
    "    \n",
    "    def __init__(self, width, height):\n",
    "        self.width = width\n",
    "        self.height = height\n",
    "    \n",
    "    def area(self):\n",
    "        return self.width * self.height\n",
    "\n",
    "myrectangle = Rectangle(15, 30)\n",
    "\n",
    "myrectangle.area()\n",
    "## 450"
   ]
  },
  {
   "attachments": {},
   "cell_type": "markdown",
   "metadata": {},
   "source": [
    "#### Class inheritance"
   ]
  },
  {
   "cell_type": "code",
   "execution_count": 48,
   "metadata": {},
   "outputs": [
    {
     "name": "stdout",
     "output_type": "stream",
     "text": [
      "Area: 225\n",
      "Diagonal length: 21.2132\n"
     ]
    }
   ],
   "source": [
    "# Square inherits Rectangle\n",
    "\n",
    "class Square(Rectangle):\n",
    "    \n",
    "    def __init__(self, length):\n",
    "        super().__init__(length, length)\n",
    "    \n",
    "    def diagonal(self): \n",
    "        return (self.width**2 + self.height**2)**0.5\n",
    "    \n",
    "mysquare = Square(15)\n",
    "\n",
    "print(f\"Area: {mysquare.area()}\")\n",
    "print(f\"Diagonal length: {mysquare.diagonal():7.4f}\")\n",
    "## Area: 225\n",
    "## Diagonal length: 21.2132"
   ]
  },
  {
   "attachments": {},
   "cell_type": "markdown",
   "metadata": {},
   "source": [
    "#### Garbage collection"
   ]
  },
  {
   "cell_type": "code",
   "execution_count": 49,
   "metadata": {},
   "outputs": [
    {
     "name": "stdout",
     "output_type": "stream",
     "text": [
      "Woof! The dogcatcher got me! Entering the void.. :(\n"
     ]
    }
   ],
   "source": [
    "# Garbage collection in action\n",
    "\n",
    "class Dog:\n",
    "    def __del__(self):\n",
    "        print(\"Woof! The dogcatcher got me! Entering the void.. :(\")\n",
    "\n",
    "# My old dog on a leash\n",
    "\n",
    "mydog = Dog()\n",
    "# A new dog is born\n",
    "\n",
    "newdog = Dog()\n",
    "# Using my leash for the new dog\n",
    "\n",
    "mydog = newdog\n",
    "## Woof! The dogcatcher got me! Entering the void.. :("
   ]
  },
  {
   "attachments": {},
   "cell_type": "markdown",
   "metadata": {},
   "source": [
    "#### Exceptions versus syntax errors"
   ]
  },
  {
   "cell_type": "code",
   "execution_count": 50,
   "metadata": {},
   "outputs": [],
   "source": [
    "# Syntax Error\n",
    "\n",
    "## print(\"Hello Word\"))\n",
    "## File \"<stdin>\", line 1\n",
    "## print(\"Hello World\"))\n",
    "## ^\n",
    "## SyntaxError: invalid syntax"
   ]
  },
  {
   "cell_type": "code",
   "execution_count": 51,
   "metadata": {},
   "outputs": [
    {
     "ename": "ZeroDivisionError",
     "evalue": "division by zero",
     "output_type": "error",
     "traceback": [
      "\u001b[1;31m---------------------------------------------------------------------------\u001b[0m",
      "\u001b[1;31mZeroDivisionError\u001b[0m                         Traceback (most recent call last)",
      "\u001b[1;32md:\\GIT-repository\\github-python-econometrics\\python-econometrics\\01-Essential-concepts.ipynb Cell 90\u001b[0m in \u001b[0;36m<cell line: 3>\u001b[1;34m()\u001b[0m\n\u001b[0;32m      <a href='vscode-notebook-cell:/d%3A/GIT-repository/github-python-econometrics/python-econometrics/01-Essential-concepts.ipynb#Y162sZmlsZQ%3D%3D?line=0'>1</a>\u001b[0m \u001b[39m# Exception\u001b[39;00m\n\u001b[1;32m----> <a href='vscode-notebook-cell:/d%3A/GIT-repository/github-python-econometrics/python-econometrics/01-Essential-concepts.ipynb#Y162sZmlsZQ%3D%3D?line=2'>3</a>\u001b[0m a \u001b[39m=\u001b[39m \u001b[39m0\u001b[39;49m \u001b[39m/\u001b[39;49m \u001b[39m0\u001b[39;49m\n",
      "\u001b[1;31mZeroDivisionError\u001b[0m: division by zero"
     ]
    }
   ],
   "source": [
    "# Exception\n",
    "\n",
    "a = 0 / 0\n",
    "## <stdin> in <module>()\n",
    "## ----> 1 a = 0 / 0\n",
    "## ZeroDivisionError: division by zero"
   ]
  },
  {
   "attachments": {},
   "cell_type": "markdown",
   "metadata": {},
   "source": [
    "#### Exceptions"
   ]
  },
  {
   "cell_type": "code",
   "execution_count": 52,
   "metadata": {},
   "outputs": [
    {
     "ename": "ZeroDivisionError",
     "evalue": "division by zero",
     "output_type": "error",
     "traceback": [
      "\u001b[1;31m---------------------------------------------------------------------------\u001b[0m",
      "\u001b[1;31mZeroDivisionError\u001b[0m                         Traceback (most recent call last)",
      "\u001b[1;32md:\\GIT-repository\\github-python-econometrics\\python-econometrics\\01-Essential-concepts.ipynb Cell 92\u001b[0m in \u001b[0;36m<cell line: 3>\u001b[1;34m()\u001b[0m\n\u001b[0;32m      <a href='vscode-notebook-cell:/d%3A/GIT-repository/github-python-econometrics/python-econometrics/01-Essential-concepts.ipynb#Y161sZmlsZQ%3D%3D?line=0'>1</a>\u001b[0m \u001b[39m# Frequent exception\u001b[39;00m\n\u001b[1;32m----> <a href='vscode-notebook-cell:/d%3A/GIT-repository/github-python-econometrics/python-econometrics/01-Essential-concepts.ipynb#Y161sZmlsZQ%3D%3D?line=2'>3</a>\u001b[0m \u001b[39m0\u001b[39;49m \u001b[39m/\u001b[39;49m \u001b[39m0\u001b[39;49m\n\u001b[0;32m      <a href='vscode-notebook-cell:/d%3A/GIT-repository/github-python-econometrics/python-econometrics/01-Essential-concepts.ipynb#Y161sZmlsZQ%3D%3D?line=3'>4</a>\u001b[0m \u001b[39m## <stdin> in <module>()\u001b[39;00m\n\u001b[0;32m      <a href='vscode-notebook-cell:/d%3A/GIT-repository/github-python-econometrics/python-econometrics/01-Essential-concepts.ipynb#Y161sZmlsZQ%3D%3D?line=4'>5</a>\u001b[0m \u001b[39m## ----> 1 0 / 0\u001b[39;00m\n\u001b[0;32m      <a href='vscode-notebook-cell:/d%3A/GIT-repository/github-python-econometrics/python-econometrics/01-Essential-concepts.ipynb#Y161sZmlsZQ%3D%3D?line=5'>6</a>\u001b[0m \u001b[39m## ZeroDivisionError: division by zero\u001b[39;00m\n\u001b[0;32m      <a href='vscode-notebook-cell:/d%3A/GIT-repository/github-python-econometrics/python-econometrics/01-Essential-concepts.ipynb#Y161sZmlsZQ%3D%3D?line=7'>8</a>\u001b[0m \u001b[39m3\u001b[39m \u001b[39m+\u001b[39m a\n",
      "\u001b[1;31mZeroDivisionError\u001b[0m: division by zero"
     ]
    }
   ],
   "source": [
    "# Frequent exception\n",
    "\n",
    "0 / 0\n",
    "## <stdin> in <module>()\n",
    "## ----> 1 0 / 0\n",
    "## ZeroDivisionError: division by zero\n",
    "\n",
    "3 + a\n",
    "## <stdin> in <module>()\n",
    "## ----> 1 3 + a\n",
    "## NameError: name 'a' is not defined\n",
    "\n",
    "3 + \"2\"\n",
    "## <stdin> in <module>()\n",
    "## ----> 1 3 + \"2\"\n",
    "## TypeError: unsupported operand type(s) for +: 'int' and 'str'"
   ]
  },
  {
   "attachments": {},
   "cell_type": "markdown",
   "metadata": {},
   "source": [
    "#### Exception handling"
   ]
  },
  {
   "cell_type": "code",
   "execution_count": 53,
   "metadata": {},
   "outputs": [
    {
     "name": "stdout",
     "output_type": "stream",
     "text": [
      "An exception occurred\n"
     ]
    }
   ],
   "source": [
    "# Try and except\n",
    "\n",
    "try:\n",
    "    print(abc)\n",
    "\n",
    "except:\n",
    "    print(\"An exception occurred\")\n",
    "## An exception occurred"
   ]
  },
  {
   "attachments": {},
   "cell_type": "markdown",
   "metadata": {},
   "source": [
    "#### Exception handling"
   ]
  },
  {
   "cell_type": "code",
   "execution_count": 54,
   "metadata": {},
   "outputs": [
    {
     "name": "stdout",
     "output_type": "stream",
     "text": [
      "Variable abc is not defined\n",
      "Something else went wrong\n"
     ]
    }
   ],
   "source": [
    "# Multiple exception blocks\n",
    "\n",
    "try:\n",
    "    print(abc)\n",
    "\n",
    "except NameError:\n",
    "    print(\"Variable abc is not defined\")\n",
    "\n",
    "except:\n",
    "    print(\"Something else went wrong\")\n",
    "\n",
    "## Variable abc is not defined\n",
    "try:\n",
    "    0 / 0\n",
    "\n",
    "except NameError:\n",
    "    print(\"Variable abc is not defined\")\n",
    "\n",
    "except:\n",
    "    print(\"Something else went wrong\")\n",
    "## Something else went wrong"
   ]
  },
  {
   "cell_type": "code",
   "execution_count": 55,
   "metadata": {},
   "outputs": [
    {
     "name": "stdout",
     "output_type": "stream",
     "text": [
      "Hello World\n",
      "Everything is okay\n"
     ]
    }
   ],
   "source": [
    "# Else exception\n",
    "try:\n",
    "    print(\"Hello World\")\n",
    "\n",
    "except:\n",
    "    print(\"Something went wrong\")\n",
    "\n",
    "else:\n",
    "    print(\"Everything is okay\")\n",
    "## Hello World\n",
    "## Everything is okay"
   ]
  },
  {
   "cell_type": "code",
   "execution_count": 56,
   "metadata": {},
   "outputs": [
    {
     "name": "stdout",
     "output_type": "stream",
     "text": [
      "Something went wrong\n",
      "This will always be displayed\n",
      "Hello World\n",
      "This will always be displayed\n"
     ]
    }
   ],
   "source": [
    "# Finally exception\n",
    "\n",
    "try:\n",
    "    print(abc)\n",
    "\n",
    "except:\n",
    "    print(\"Something went wrong\")\n",
    "\n",
    "finally:\n",
    "    print(\"This will always be displayed\")\n",
    "## Something went wrong\n",
    "## This will always be displayed\n",
    "\n",
    "try:\n",
    "    print(\"Hello World\")\n",
    "\n",
    "except:\n",
    "    print(\"Something went wrong\")\n",
    "\n",
    "finally:\n",
    "    print(\"This will always be displayed\")\n",
    "## Hello World\n",
    "## This will always be displayed"
   ]
  },
  {
   "attachments": {},
   "cell_type": "markdown",
   "metadata": {},
   "source": [
    "#### Raise exception"
   ]
  },
  {
   "cell_type": "code",
   "execution_count": 57,
   "metadata": {},
   "outputs": [
    {
     "ename": "Exception",
     "evalue": "Sorry, 'x' is lower than 0.",
     "output_type": "error",
     "traceback": [
      "\u001b[1;31m---------------------------------------------------------------------------\u001b[0m",
      "\u001b[1;31mException\u001b[0m                                 Traceback (most recent call last)",
      "\u001b[1;32md:\\GIT-repository\\github-python-econometrics\\python-econometrics\\01-Essential-concepts.ipynb Cell 100\u001b[0m in \u001b[0;36m<cell line: 4>\u001b[1;34m()\u001b[0m\n\u001b[0;32m      <a href='vscode-notebook-cell:/d%3A/GIT-repository/github-python-econometrics/python-econometrics/01-Essential-concepts.ipynb#Y203sZmlsZQ%3D%3D?line=2'>3</a>\u001b[0m x \u001b[39m=\u001b[39m \u001b[39m-\u001b[39m\u001b[39m3\u001b[39m\n\u001b[0;32m      <a href='vscode-notebook-cell:/d%3A/GIT-repository/github-python-econometrics/python-econometrics/01-Essential-concepts.ipynb#Y203sZmlsZQ%3D%3D?line=3'>4</a>\u001b[0m \u001b[39mif\u001b[39;00m x \u001b[39m<\u001b[39m \u001b[39m0\u001b[39m:\n\u001b[1;32m----> <a href='vscode-notebook-cell:/d%3A/GIT-repository/github-python-econometrics/python-econometrics/01-Essential-concepts.ipynb#Y203sZmlsZQ%3D%3D?line=4'>5</a>\u001b[0m     \u001b[39mraise\u001b[39;00m \u001b[39mException\u001b[39;00m(\u001b[39m\"\u001b[39m\u001b[39mSorry, \u001b[39m\u001b[39m'\u001b[39m\u001b[39mx\u001b[39m\u001b[39m'\u001b[39m\u001b[39m is lower than 0.\u001b[39m\u001b[39m\"\u001b[39m)\n",
      "\u001b[1;31mException\u001b[0m: Sorry, 'x' is lower than 0."
     ]
    }
   ],
   "source": [
    "# Raise exception\n",
    "\n",
    "x = -3\n",
    "if x < 0:\n",
    "    raise Exception(\"Sorry, 'x' is lower than 0.\")\n",
    "\n",
    "## <stdin> in <module>()\n",
    "## ----> 3 raise Exception(Sorry, 'x' is lower than 0.)\n",
    "## Exception: Sorry, 'x' is lower than 0."
   ]
  },
  {
   "attachments": {},
   "cell_type": "markdown",
   "metadata": {},
   "source": [
    "#### EAFP versus LBYL"
   ]
  },
  {
   "cell_type": "code",
   "execution_count": 58,
   "metadata": {},
   "outputs": [
    {
     "name": "stdout",
     "output_type": "stream",
     "text": [
      "-3.3333333333333335\n"
     ]
    }
   ],
   "source": [
    "# LBYL\n",
    "\n",
    "if x != 0:\n",
    "    print(10 / x)"
   ]
  },
  {
   "cell_type": "code",
   "execution_count": 59,
   "metadata": {},
   "outputs": [
    {
     "name": "stdout",
     "output_type": "stream",
     "text": [
      "-3.3333333333333335\n"
     ]
    }
   ],
   "source": [
    "# EAFP\n",
    "\n",
    "try:\n",
    "    print(10 / x)\n",
    "\n",
    "except ZeroDivisionError:\n",
    "    pass"
   ]
  },
  {
   "cell_type": "code",
   "execution_count": 60,
   "metadata": {},
   "outputs": [
    {
     "name": "stdout",
     "output_type": "stream",
     "text": [
      "-3.3333333333333335\n"
     ]
    }
   ],
   "source": [
    "# EAFP\n",
    "\n",
    "try:\n",
    "    print(10 / x)\n",
    "\n",
    "except ZeroDivisionError:\n",
    "    print(\"Zero division\")\n",
    "\n",
    "except NameError:\n",
    "    print(\"Variable ’x’ is not defined\")"
   ]
  },
  {
   "attachments": {},
   "cell_type": "markdown",
   "metadata": {},
   "source": [
    "#### Built-in versus user-defined exceptions"
   ]
  },
  {
   "cell_type": "code",
   "execution_count": 61,
   "metadata": {},
   "outputs": [
    {
     "name": "stdout",
     "output_type": "stream",
     "text": [
      "The number is too large.\n"
     ]
    }
   ],
   "source": [
    "# User-defined exception\n",
    "class ValueTooLargeError(Exception):\n",
    "    \n",
    "    \"\"\"Raised when the input value is too large\"\"\"\n",
    "    \n",
    "    pass\n",
    "\n",
    "x = 3\n",
    "\n",
    "try:\n",
    "    if x > 2:\n",
    "        raise ValueTooLargeError\n",
    "\n",
    "except ValueTooLargeError:\n",
    "    print(\"The number is too large.\")\n",
    "## The number is too large."
   ]
  },
  {
   "attachments": {},
   "cell_type": "markdown",
   "metadata": {},
   "source": [
    "#### Namespaces"
   ]
  },
  {
   "cell_type": "code",
   "execution_count": 62,
   "metadata": {},
   "outputs": [
    {
     "data": {
      "text/plain": [
       "'OH'"
      ]
     },
     "execution_count": 62,
     "metadata": {},
     "output_type": "execute_result"
    }
   ],
   "source": [
    "# Namespaces\n",
    "\n",
    "def multiplier(x):\n",
    "    \n",
    "    x = 4 * x\n",
    "    return x\n",
    "\n",
    "x = \"OH\"\n",
    "\n",
    "multiplier(\"AH\")\n",
    "multiplier(x)\n",
    "x\n",
    "## OH\n",
    "## AHAHAHAH\n",
    "## OHOHOHOH\n",
    "## OH"
   ]
  },
  {
   "cell_type": "code",
   "execution_count": 63,
   "metadata": {},
   "outputs": [
    {
     "data": {
      "text/plain": [
       "'EHEHEHEHEH'"
      ]
     },
     "execution_count": 63,
     "metadata": {},
     "output_type": "execute_result"
    }
   ],
   "source": [
    "# Closures\n",
    "\n",
    "def gen_multiplier(a):\n",
    "    \n",
    "    def fun(x):\n",
    "        return a * x\n",
    "    \n",
    "    return fun\n",
    "\n",
    "multi1 = gen_multiplier(4)\n",
    "multi2 = gen_multiplier(5)\n",
    "\n",
    "multi1\n",
    "\n",
    "multi1(\"EH\")\n",
    "multi2(\"EH\")\n",
    "## <function gen_multiplier.<locals>.fun at 0x127fc4ee0>\n",
    "## EHEHEHEH\n",
    "## EHEHEHEHEH"
   ]
  },
  {
   "attachments": {},
   "cell_type": "markdown",
   "metadata": {},
   "source": [
    "#### Importing modules"
   ]
  },
  {
   "cell_type": "code",
   "execution_count": 64,
   "metadata": {},
   "outputs": [
    {
     "data": {
      "text/plain": [
       "datetime.datetime(2023, 1, 1, 19, 55, 58, 583078)"
      ]
     },
     "execution_count": 64,
     "metadata": {},
     "output_type": "execute_result"
    }
   ],
   "source": [
    "# Import statements\n",
    "\n",
    "import datetime\n",
    "import datetime as dt\n",
    "\n",
    "from datetime import date, timedelta\n",
    "from datetime import *\n",
    "\n",
    "dt.date.today()\n",
    "dt.timedelta.days\n",
    "\n",
    "date.today()\n",
    "timedelta.days\n",
    "\n",
    "datetime.now()"
   ]
  },
  {
   "attachments": {},
   "cell_type": "markdown",
   "metadata": {},
   "source": [
    "#### Build-in modules"
   ]
  },
  {
   "cell_type": "code",
   "execution_count": 65,
   "metadata": {},
   "outputs": [
    {
     "data": {
      "text/plain": [
       "13"
      ]
     },
     "execution_count": 65,
     "metadata": {},
     "output_type": "execute_result"
    }
   ],
   "source": [
    "# Usage of build-in modules\n",
    "\n",
    "import math\n",
    "from random import randint\n",
    "\n",
    "math.pi\n",
    "## 3.141592653589793\n",
    "\n",
    "math.factorial(5)\n",
    "## 120\n",
    "\n",
    "randint(10, 20)\n",
    "## 18"
   ]
  },
  {
   "attachments": {},
   "cell_type": "markdown",
   "metadata": {},
   "source": [
    "#### Installing modules"
   ]
  },
  {
   "attachments": {},
   "cell_type": "markdown",
   "metadata": {},
   "source": [
    "- Installing the package: pip install numpy\n",
    "- Upgrading the package: pip install --upgrade numpy\n",
    "\n",
    "- Installing the package locally for the current user:\n",
    "- pip install --user numpy\n",
    "\n",
    "- Uninstalling the package: pip uninstall numpy"
   ]
  },
  {
   "attachments": {},
   "cell_type": "markdown",
   "metadata": {},
   "source": [
    "#### Working with modules"
   ]
  },
  {
   "cell_type": "code",
   "execution_count": 66,
   "metadata": {},
   "outputs": [
    {
     "name": "stdout",
     "output_type": "stream",
     "text": [
      "Hello world!\n",
      "[1, 2, 3, 5, 5]\n",
      "6\n"
     ]
    }
   ],
   "source": [
    "# Usage of own modules\n",
    "import mymodule\n",
    "\n",
    "print(mymodule.s)\n",
    "print(mymodule.l)\n",
    "print(mymodule.add_one(5))\n",
    "\n",
    "## Hello world!\n",
    "## [1, 2, 3, 5, 5]\n",
    "## 6"
   ]
  },
  {
   "attachments": {},
   "cell_type": "markdown",
   "metadata": {},
   "source": [
    "#### Python packages"
   ]
  },
  {
   "cell_type": "code",
   "execution_count": 71,
   "metadata": {},
   "outputs": [
    {
     "data": {
      "text/plain": [
       "5"
      ]
     },
     "execution_count": 71,
     "metadata": {},
     "output_type": "execute_result"
    }
   ],
   "source": [
    "# Usage of own package\n",
    "import mypackage.mymodule\n",
    "import mypackage.somemodule\n",
    "\n",
    "mypackage.mymodule.add_one(4)\n",
    "## 5"
   ]
  },
  {
   "attachments": {},
   "cell_type": "markdown",
   "metadata": {},
   "source": [
    "#### The Zen of Python"
   ]
  },
  {
   "cell_type": "code",
   "execution_count": 68,
   "metadata": {},
   "outputs": [],
   "source": [
    "import this\n",
    "\n",
    "## The Zen of Python, by Tim Peters\n",
    "##\n",
    "##\n",
    "## Beautiful is better than ugly.\n",
    "## Explicit is better than implicit.\n",
    "## Simple is better than complex.\n",
    "## Complex is better than complicated.\n",
    "## Flat is better than nested.\n",
    "## Sparse is better than dense.\n",
    "## Readability counts.\n",
    "## Special cases aren't special enough to break the rules.\n",
    "## Although practicality beats purity.\n",
    "## Errors should never pass silently.\n",
    "## Unless explicitly silenced.\n",
    "## In the face of ambiguity, refuse the temptation to guess.\n",
    "## ..."
   ]
  },
  {
   "cell_type": "code",
   "execution_count": 69,
   "metadata": {},
   "outputs": [
    {
     "name": "stdout",
     "output_type": "stream",
     "text": [
      "Author: Caique Miranda\n",
      "\n",
      "Github username: caiquemiranda\n",
      "\n",
      "sys: 3.10.5 (tags/v3.10.5:f377153, Jun  6 2022, 16:14:13) [MSC v.1929 64 bit (AMD64)]\n",
      "\n"
     ]
    }
   ],
   "source": [
    "%reload_ext watermark\n",
    "%watermark -a \"Caique Miranda\" -gu \"caiquemiranda\" -iv"
   ]
  },
  {
   "attachments": {},
   "cell_type": "markdown",
   "metadata": {},
   "source": [
    "### END."
   ]
  }
 ],
 "metadata": {
  "kernelspec": {
   "display_name": "Python 3",
   "language": "python",
   "name": "python3"
  },
  "language_info": {
   "codemirror_mode": {
    "name": "ipython",
    "version": 3
   },
   "file_extension": ".py",
   "mimetype": "text/x-python",
   "name": "python",
   "nbconvert_exporter": "python",
   "pygments_lexer": "ipython3",
   "version": "3.10.5"
  },
  "orig_nbformat": 4,
  "vscode": {
   "interpreter": {
    "hash": "74af3d2f25f1e46ebd2903d59225d79e4675ec224d56c01fc30cd168c2010d53"
   }
  }
 },
 "nbformat": 4,
 "nbformat_minor": 2
}
