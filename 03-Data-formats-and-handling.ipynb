{
 "cells": [
  {
   "attachments": {},
   "cell_type": "markdown",
   "metadata": {},
   "source": [
    "### Pandas package"
   ]
  },
  {
   "attachments": {},
   "cell_type": "markdown",
   "metadata": {},
   "source": [
    "#### Motivation"
   ]
  },
  {
   "cell_type": "code",
   "execution_count": null,
   "metadata": {},
   "outputs": [],
   "source": [
    "import pandas as pd\n",
    "import matplotlib.pyplot as plt\n",
    "\n",
    "fig = plt.figure()\n",
    "ax = fig.add_subplot(1, 1, 1)\n",
    "dow = pd.read_csv(\"data/dji.csv\", index_col=0, parse_dates=True)\n",
    "\n",
    "close = dow[\"Close\"]\n",
    "close.plot(ax=ax)\n",
    "\n",
    "ax.set_xlabel(\"Date\")\n",
    "ax.set_ylabel(\"Price\")\n",
    "ax.set_title(\"DJI\")\n",
    "\n",
    "fig.savefig(\"out/dji.pdf\", format=\"pdf\")"
   ]
  },
  {
   "attachments": {},
   "cell_type": "markdown",
   "metadata": {},
   "source": [
    "### Series"
   ]
  },
  {
   "cell_type": "code",
   "execution_count": 2,
   "metadata": {},
   "outputs": [],
   "source": [
    "# String representation of a Series\n",
    "\n",
    "## 0 3\n",
    "## 1 7\n",
    "## 2 -8\n",
    "## 3 4\n",
    "## 4 26\n",
    "## dtype: int64"
   ]
  },
  {
   "attachments": {},
   "cell_type": "markdown",
   "metadata": {},
   "source": [
    "#### Create Series"
   ]
  },
  {
   "cell_type": "code",
   "execution_count": 3,
   "metadata": {},
   "outputs": [
    {
     "data": {
      "text/plain": [
       "0    2\n",
       "1   -5\n",
       "2    9\n",
       "3    4\n",
       "dtype: int64"
      ]
     },
     "execution_count": 3,
     "metadata": {},
     "output_type": "execute_result"
    }
   ],
   "source": [
    "# Importing Pandas and creating a Series\n",
    "\n",
    "import numpy as np\n",
    "import pandas as pd\n",
    "\n",
    "obj = pd.Series([2, -5, 9, 4])\n",
    "obj\n",
    "\n",
    "## 0 2\n",
    "## 1 -5\n",
    "## 2 9\n",
    "## 3 4\n",
    "## dtype: int64"
   ]
  },
  {
   "cell_type": "code",
   "execution_count": 4,
   "metadata": {},
   "outputs": [
    {
     "data": {
      "text/plain": [
       "-5"
      ]
     },
     "execution_count": 4,
     "metadata": {},
     "output_type": "execute_result"
    }
   ],
   "source": [
    "# Series indexing vs. Numpy indexing\n",
    "\n",
    "obj2 = pd.Series([2, -5, 9, 4], index=[\"a\", \"b\", \"c\", \"d\"])\n",
    "npobj = np.array([2, -5, 9, 4])\n",
    "\n",
    "obj2\n",
    "## a 2\n",
    "## b -5\n",
    "## c 9\n",
    "## d 4\n",
    "## dtype: int64\n",
    "\n",
    "obj2[\"b\"]\n",
    "## -5\n",
    "\n",
    "npobj[1]\n",
    "## -5"
   ]
  },
  {
   "cell_type": "code",
   "execution_count": 5,
   "metadata": {},
   "outputs": [
    {
     "data": {
      "text/plain": [
       "a    2\n",
       "b   -5\n",
       "c    9\n",
       "d    4\n",
       "dtype: int32"
      ]
     },
     "execution_count": 5,
     "metadata": {},
     "output_type": "execute_result"
    }
   ],
   "source": [
    "# Series creation from Numpy arrays\n",
    "\n",
    "npobj = np.array([2, -5, 9, 4])\n",
    "obj2 = pd.Series(npobj, index=[\"a\", \"b\", \"c\", \"d\"])\n",
    "\n",
    "obj2\n",
    "## a 2\n",
    "## b -5\n",
    "## c 9\n",
    "## d 4\n",
    "## dtype: int64# "
   ]
  },
  {
   "cell_type": "code",
   "execution_count": 6,
   "metadata": {},
   "outputs": [
    {
     "data": {
      "text/plain": [
       "Göttingen     117665\n",
       "Northeim       28920\n",
       "Hannover      532163\n",
       "Berlin       3574830\n",
       "dtype: int64"
      ]
     },
     "execution_count": 6,
     "metadata": {},
     "output_type": "execute_result"
    }
   ],
   "source": [
    "# Series from dicts\n",
    "\n",
    "dictdata = {\"Göttingen\": 117665, \"Northeim\": 28920,\n",
    "            \"Hannover\": 532163, \"Berlin\": 3574830}\n",
    "\n",
    "obj3 = pd.Series(dictdata)\n",
    "\n",
    "obj3\n",
    "## Göttingen 117665\n",
    "## Northeim 28920\n",
    "## Hannover 532163\n",
    "## Berlin 3574830\n",
    "## dtype: int64"
   ]
  },
  {
   "cell_type": "code",
   "execution_count": 7,
   "metadata": {},
   "outputs": [
    {
     "data": {
      "text/plain": [
       "Hamburg            NaN\n",
       "Göttingen     117665.0\n",
       "Berlin       3574830.0\n",
       "Hannover      532163.0\n",
       "dtype: float64"
      ]
     },
     "execution_count": 7,
     "metadata": {},
     "output_type": "execute_result"
    }
   ],
   "source": [
    "# Dict to Series with manual index\n",
    "\n",
    "cities = [\"Hamburg\", \"Göttingen\", \"Berlin\", \"Hannover\"]\n",
    "obj4 = pd.Series(dictdata, index=cities)\n",
    "\n",
    "obj4\n",
    "## Hamburg NaN\n",
    "## Göttingen 117665.0\n",
    "## Berlin 3574830.0\n",
    "## Hannover 532163.0\n",
    "## dtype: float64"
   ]
  },
  {
   "attachments": {},
   "cell_type": "markdown",
   "metadata": {},
   "source": [
    "#### Series properties"
   ]
  },
  {
   "cell_type": "code",
   "execution_count": 8,
   "metadata": {},
   "outputs": [
    {
     "data": {
      "text/plain": [
       "Index(['a', 'b', 'c', 'd'], dtype='object')"
      ]
     },
     "execution_count": 8,
     "metadata": {},
     "output_type": "execute_result"
    }
   ],
   "source": [
    "# Series properties\n",
    "\n",
    "obj.values\n",
    "## array([ 2, -5, 9, 4])\n",
    "\n",
    "obj.index\n",
    "## RangeIndex(start=0, stop=4, step=1)\n",
    "\n",
    "obj2.index\n",
    "## Index(['a', 'b', 'c', 'd'], dtype='object')"
   ]
  },
  {
   "attachments": {},
   "cell_type": "markdown",
   "metadata": {},
   "source": [
    "#### Selecting and manipulating values"
   ]
  },
  {
   "cell_type": "code",
   "execution_count": 9,
   "metadata": {},
   "outputs": [
    {
     "data": {
      "text/plain": [
       "b   -5\n",
       "dtype: int32"
      ]
     },
     "execution_count": 9,
     "metadata": {},
     "output_type": "execute_result"
    }
   ],
   "source": [
    "# Series manipulation\n",
    "\n",
    "obj2[[\"c\", \"d\", \"a\"]]\n",
    "## c 9\n",
    "## d 4\n",
    "## a 2\n",
    "## dtype: int64\n",
    "\n",
    "obj2[obj2 < 0]\n",
    "## b -5\n",
    "## dtype: int64"
   ]
  },
  {
   "cell_type": "code",
   "execution_count": 10,
   "metadata": {},
   "outputs": [
    {
     "data": {
      "text/plain": [
       "True"
      ]
     },
     "execution_count": 10,
     "metadata": {},
     "output_type": "execute_result"
    }
   ],
   "source": [
    "# Series functions\n",
    "\n",
    "obj2 * 2\n",
    "## a 4\n",
    "## b -10\n",
    "## c 18\n",
    "## d 8\n",
    "## dtype: int64\n",
    "\n",
    "np.exp(obj2)[\"a\":\"c\"]\n",
    "## a 7.389056\n",
    "## b 0.006738\n",
    "## c 8103.083928\n",
    "## dtype: float64\n",
    "\n",
    "\"c\" in obj2\n",
    "## True"
   ]
  },
  {
   "cell_type": "code",
   "execution_count": 11,
   "metadata": {},
   "outputs": [
    {
     "data": {
      "text/plain": [
       "Hamburg      1900000.0\n",
       "Göttingen     117665.0\n",
       "Berlin       3600000.0\n",
       "Hannover     1100000.0\n",
       "dtype: float64"
      ]
     },
     "execution_count": 11,
     "metadata": {},
     "output_type": "execute_result"
    }
   ],
   "source": [
    "# Series manipulation\n",
    "\n",
    "obj4[\"Hamburg\"] = 1900000\n",
    "\n",
    "obj4\n",
    "## Hamburg 1900000.0\n",
    "## Göttingen 117665.0\n",
    "## Berlin 3574830.0\n",
    "## Hannover 532163.0\n",
    "## dtype: float64\n",
    "\n",
    "obj4[[\"Berlin\", \"Hannover\"]] = [3600000, 1100000]\n",
    "\n",
    "obj4\n",
    "## Hamburg 1900000.0\n",
    "## Göttingen 117665.0\n",
    "## Berlin 3600000.0\n",
    "## Hannover 1100000.0\n",
    "## dtype: float64"
   ]
  },
  {
   "attachments": {},
   "cell_type": "markdown",
   "metadata": {},
   "source": [
    "#### Detect missing data"
   ]
  },
  {
   "cell_type": "code",
   "execution_count": 12,
   "metadata": {},
   "outputs": [
    {
     "data": {
      "text/plain": [
       "Hamburg      True\n",
       "Göttingen    True\n",
       "Berlin       True\n",
       "Hannover     True\n",
       "dtype: bool"
      ]
     },
     "execution_count": 12,
     "metadata": {},
     "output_type": "execute_result"
    }
   ],
   "source": [
    "# NaN\n",
    "\n",
    "pd.isnull(obj4)\n",
    "## Hamburg False\n",
    "## Göttingen False\n",
    "## Berlin False\n",
    "## Hannover False\n",
    "## dtype: bool\n",
    "\n",
    "pd.notnull(obj4)\n",
    "## Hamburg True\n",
    "## Göttingen True\n",
    "## Berlin True\n",
    "## Hannover True\n",
    "## dtype: bool"
   ]
  },
  {
   "attachments": {},
   "cell_type": "markdown",
   "metadata": {},
   "source": [
    "#### Align differently indexed data"
   ]
  },
  {
   "cell_type": "code",
   "execution_count": 13,
   "metadata": {},
   "outputs": [
    {
     "data": {
      "text/plain": [
       "Göttingen     117665\n",
       "Northeim       28920\n",
       "Hannover      532163\n",
       "Berlin       3574830\n",
       "dtype: int64"
      ]
     },
     "execution_count": 13,
     "metadata": {},
     "output_type": "execute_result"
    }
   ],
   "source": [
    "# Data 1\n",
    "\n",
    "obj3\n",
    "## Göttingen 117665\n",
    "## Northeim 28920\n",
    "## Hannover 532163\n",
    "## Berlin 3574830\n",
    "## dtype: int64"
   ]
  },
  {
   "cell_type": "code",
   "execution_count": 14,
   "metadata": {},
   "outputs": [
    {
     "data": {
      "text/plain": [
       "Hamburg      1900000.0\n",
       "Göttingen     117665.0\n",
       "Berlin       3600000.0\n",
       "Hannover     1100000.0\n",
       "dtype: float64"
      ]
     },
     "execution_count": 14,
     "metadata": {},
     "output_type": "execute_result"
    }
   ],
   "source": [
    "# Data 2\n",
    "\n",
    "obj4\n",
    "## Hamburg 1900000.0\n",
    "## Göttingen 117665.0\n",
    "## Berlin 3600000.0\n",
    "## Hannover 1100000.0\n",
    "## dtype: float64"
   ]
  },
  {
   "cell_type": "code",
   "execution_count": 15,
   "metadata": {},
   "outputs": [
    {
     "data": {
      "text/plain": [
       "Berlin       7174830.0\n",
       "Göttingen     235330.0\n",
       "Hamburg            NaN\n",
       "Hannover     1632163.0\n",
       "Northeim           NaN\n",
       "dtype: float64"
      ]
     },
     "execution_count": 15,
     "metadata": {},
     "output_type": "execute_result"
    }
   ],
   "source": [
    "# Align data\n",
    "\n",
    "obj3 + obj4\n",
    "## Berlin 7174830.0\n",
    "## Göttingen 235330.0\n",
    "## Hamburg NaN\n",
    "## Hannover 1632163.0\n",
    "## Northeim NaN\n",
    "## dtype: float64"
   ]
  },
  {
   "attachments": {},
   "cell_type": "markdown",
   "metadata": {},
   "source": [
    "#### Naming Series"
   ]
  },
  {
   "cell_type": "code",
   "execution_count": 16,
   "metadata": {},
   "outputs": [
    {
     "data": {
      "text/plain": [
       "city\n",
       "Hamburg      1900000.0\n",
       "Göttingen     117665.0\n",
       "Berlin       3600000.0\n",
       "Hannover     1100000.0\n",
       "Name: population, dtype: float64"
      ]
     },
     "execution_count": 16,
     "metadata": {},
     "output_type": "execute_result"
    }
   ],
   "source": [
    "# Naming\n",
    "\n",
    "obj4.name = \"population\"\n",
    "obj4.index.name = \"city\"\n",
    "\n",
    "obj4\n",
    "## city\n",
    "## Hamburg 1900000.0\n",
    "## Göttingen 117665.0\n",
    "## Berlin 3600000.0\n",
    "## Hannover 1100000.0\n",
    "## Name: population, dtype: float64"
   ]
  },
  {
   "attachments": {},
   "cell_type": "markdown",
   "metadata": {},
   "source": [
    "### Dataframe"
   ]
  },
  {
   "cell_type": "code",
   "execution_count": 17,
   "metadata": {},
   "outputs": [],
   "source": [
    "# String representation of a DataFrame\n",
    "\n",
    "## company price volume\n",
    "## 0 Daimler 69.20 4456290\n",
    "## 1 E.ON 8.11 3667975\n",
    "## 2 Siemens 110.92 3669487\n",
    "## 3 BASF 87.28 1778058\n",
    "## 4 BMW 87.81 1824582"
   ]
  },
  {
   "cell_type": "code",
   "execution_count": 18,
   "metadata": {},
   "outputs": [
    {
     "data": {
      "text/html": [
       "<div>\n",
       "<style scoped>\n",
       "    .dataframe tbody tr th:only-of-type {\n",
       "        vertical-align: middle;\n",
       "    }\n",
       "\n",
       "    .dataframe tbody tr th {\n",
       "        vertical-align: top;\n",
       "    }\n",
       "\n",
       "    .dataframe thead th {\n",
       "        text-align: right;\n",
       "    }\n",
       "</style>\n",
       "<table border=\"1\" class=\"dataframe\">\n",
       "  <thead>\n",
       "    <tr style=\"text-align: right;\">\n",
       "      <th></th>\n",
       "      <th>company</th>\n",
       "      <th>price</th>\n",
       "      <th>volume</th>\n",
       "    </tr>\n",
       "  </thead>\n",
       "  <tbody>\n",
       "    <tr>\n",
       "      <th>0</th>\n",
       "      <td>Daimler</td>\n",
       "      <td>69.20</td>\n",
       "      <td>4456290</td>\n",
       "    </tr>\n",
       "    <tr>\n",
       "      <th>1</th>\n",
       "      <td>E.ON</td>\n",
       "      <td>8.11</td>\n",
       "      <td>3667975</td>\n",
       "    </tr>\n",
       "    <tr>\n",
       "      <th>2</th>\n",
       "      <td>Siemens</td>\n",
       "      <td>110.92</td>\n",
       "      <td>3669487</td>\n",
       "    </tr>\n",
       "    <tr>\n",
       "      <th>3</th>\n",
       "      <td>BASF</td>\n",
       "      <td>87.28</td>\n",
       "      <td>1778058</td>\n",
       "    </tr>\n",
       "    <tr>\n",
       "      <th>4</th>\n",
       "      <td>BMW</td>\n",
       "      <td>87.81</td>\n",
       "      <td>1824582</td>\n",
       "    </tr>\n",
       "  </tbody>\n",
       "</table>\n",
       "</div>"
      ],
      "text/plain": [
       "   company   price   volume\n",
       "0  Daimler   69.20  4456290\n",
       "1     E.ON    8.11  3667975\n",
       "2  Siemens  110.92  3669487\n",
       "3     BASF   87.28  1778058\n",
       "4      BMW   87.81  1824582"
      ]
     },
     "execution_count": 18,
     "metadata": {},
     "output_type": "execute_result"
    }
   ],
   "source": [
    "# Creating a DataFrame\n",
    "\n",
    "data = {\"company\": [\"Daimler\", \"E.ON\", \"Siemens\", \"BASF\", \"BMW\"],\n",
    "        \"price\": [69.2, 8.11, 110.92, 87.28, 87.81],\n",
    "        \"volume\": [4456290, 3667975, 3669487, 1778058, 1824582]}\n",
    "\n",
    "frame = pd.DataFrame(data)\n",
    "\n",
    "frame\n",
    "## company price volume\n",
    "## 0 Daimler 69.20 4456290\n",
    "## 1 E.ON 8.11 3667975\n",
    "## 2 Siemens 110.92 3669487\n",
    "## 3 BASF 87.28 1778058\n",
    "## 4 BMW 87.81 1824582"
   ]
  },
  {
   "attachments": {},
   "cell_type": "markdown",
   "metadata": {},
   "source": [
    "#### Show DataFrames"
   ]
  },
  {
   "cell_type": "code",
   "execution_count": 19,
   "metadata": {},
   "outputs": [
    {
     "data": {
      "text/html": [
       "<div>\n",
       "<style scoped>\n",
       "    .dataframe tbody tr th:only-of-type {\n",
       "        vertical-align: middle;\n",
       "    }\n",
       "\n",
       "    .dataframe tbody tr th {\n",
       "        vertical-align: top;\n",
       "    }\n",
       "\n",
       "    .dataframe thead th {\n",
       "        text-align: right;\n",
       "    }\n",
       "</style>\n",
       "<table border=\"1\" class=\"dataframe\">\n",
       "  <thead>\n",
       "    <tr style=\"text-align: right;\">\n",
       "      <th></th>\n",
       "      <th>company</th>\n",
       "      <th>volume</th>\n",
       "      <th>price</th>\n",
       "      <th>change</th>\n",
       "    </tr>\n",
       "  </thead>\n",
       "  <tbody>\n",
       "    <tr>\n",
       "      <th>0</th>\n",
       "      <td>Daimler</td>\n",
       "      <td>4456290</td>\n",
       "      <td>69.20</td>\n",
       "      <td>NaN</td>\n",
       "    </tr>\n",
       "    <tr>\n",
       "      <th>1</th>\n",
       "      <td>E.ON</td>\n",
       "      <td>3667975</td>\n",
       "      <td>8.11</td>\n",
       "      <td>NaN</td>\n",
       "    </tr>\n",
       "    <tr>\n",
       "      <th>2</th>\n",
       "      <td>Siemens</td>\n",
       "      <td>3669487</td>\n",
       "      <td>110.92</td>\n",
       "      <td>NaN</td>\n",
       "    </tr>\n",
       "    <tr>\n",
       "      <th>3</th>\n",
       "      <td>BASF</td>\n",
       "      <td>1778058</td>\n",
       "      <td>87.28</td>\n",
       "      <td>NaN</td>\n",
       "    </tr>\n",
       "    <tr>\n",
       "      <th>4</th>\n",
       "      <td>BMW</td>\n",
       "      <td>1824582</td>\n",
       "      <td>87.81</td>\n",
       "      <td>NaN</td>\n",
       "    </tr>\n",
       "  </tbody>\n",
       "</table>\n",
       "</div>"
      ],
      "text/plain": [
       "   company   volume   price change\n",
       "0  Daimler  4456290   69.20    NaN\n",
       "1     E.ON  3667975    8.11    NaN\n",
       "2  Siemens  3669487  110.92    NaN\n",
       "3     BASF  1778058   87.28    NaN\n",
       "4      BMW  1824582   87.81    NaN"
      ]
     },
     "execution_count": 19,
     "metadata": {},
     "output_type": "execute_result"
    }
   ],
   "source": [
    "# Print DataFrame\n",
    "\n",
    "frame2 = pd.DataFrame(data, columns=[\"company\", \"volume\",\n",
    "                                     \"price\", \"change\"])\n",
    "\n",
    "frame2\n",
    "## company volume price change\n",
    "## 0 Daimler 4456290 69.20 NaN\n",
    "## 1 E.ON 3667975 8.11 NaN\n",
    "## 2 Siemens 3669487 110.92 NaN\n",
    "## 3 BASF 1778058 87.28 NaN\n",
    "## 4 BMW 1824582 87.81 NaN"
   ]
  },
  {
   "attachments": {},
   "cell_type": "markdown",
   "metadata": {},
   "source": [
    "#### Inputs to DataFrame constructor\n",
    "\n",
    "|Type |Description|\n",
    "|--|--|\n",
    "|2D NumPy arrays| A matrix of data|\n",
    "|dict of arrays, lists, or tuples |Each sequence becomes a column|\n",
    "|dict of Series |Each value becomes a column|\n",
    "|dict of dicts |Each inner dict becomes a column|\n",
    "|List of dicts or Series |Each item becomes a row|\n",
    "|List of lists or tuples |Treated as the 2D NumPy arrays|\n",
    "|Another DataFrame |Same indexes|"
   ]
  },
  {
   "attachments": {},
   "cell_type": "markdown",
   "metadata": {},
   "source": [
    "#### Indexing and adding DataFrames"
   ]
  },
  {
   "cell_type": "code",
   "execution_count": 20,
   "metadata": {},
   "outputs": [
    {
     "data": {
      "text/plain": [
       "0    1.20\n",
       "1   -3.20\n",
       "2    0.40\n",
       "3   -0.12\n",
       "4    2.40\n",
       "Name: change, dtype: float64"
      ]
     },
     "execution_count": 20,
     "metadata": {},
     "output_type": "execute_result"
    }
   ],
   "source": [
    "# Add data to DataFrame\n",
    "\n",
    "frame2[\"change\"] = [1.2, -3.2, 0.4, -0.12, 2.4]\n",
    "\n",
    "frame2[\"change\"]\n",
    "## 0 1.20\n",
    "## 1 -3.20\n",
    "## 2 0.40\n",
    "## 3 -0.12\n",
    "## 4 2.40\n",
    "## Name: change, dtype: float64"
   ]
  },
  {
   "attachments": {},
   "cell_type": "markdown",
   "metadata": {},
   "source": [
    "#### Indexing DataFrames"
   ]
  },
  {
   "cell_type": "code",
   "execution_count": 21,
   "metadata": {},
   "outputs": [
    {
     "data": {
      "text/html": [
       "<div>\n",
       "<style scoped>\n",
       "    .dataframe tbody tr th:only-of-type {\n",
       "        vertical-align: middle;\n",
       "    }\n",
       "\n",
       "    .dataframe tbody tr th {\n",
       "        vertical-align: top;\n",
       "    }\n",
       "\n",
       "    .dataframe thead th {\n",
       "        text-align: right;\n",
       "    }\n",
       "</style>\n",
       "<table border=\"1\" class=\"dataframe\">\n",
       "  <thead>\n",
       "    <tr style=\"text-align: right;\">\n",
       "      <th></th>\n",
       "      <th>company</th>\n",
       "      <th>change</th>\n",
       "    </tr>\n",
       "  </thead>\n",
       "  <tbody>\n",
       "    <tr>\n",
       "      <th>0</th>\n",
       "      <td>Daimler</td>\n",
       "      <td>1.20</td>\n",
       "    </tr>\n",
       "    <tr>\n",
       "      <th>1</th>\n",
       "      <td>E.ON</td>\n",
       "      <td>-3.20</td>\n",
       "    </tr>\n",
       "    <tr>\n",
       "      <th>2</th>\n",
       "      <td>Siemens</td>\n",
       "      <td>0.40</td>\n",
       "    </tr>\n",
       "    <tr>\n",
       "      <th>3</th>\n",
       "      <td>BASF</td>\n",
       "      <td>-0.12</td>\n",
       "    </tr>\n",
       "    <tr>\n",
       "      <th>4</th>\n",
       "      <td>BMW</td>\n",
       "      <td>2.40</td>\n",
       "    </tr>\n",
       "  </tbody>\n",
       "</table>\n",
       "</div>"
      ],
      "text/plain": [
       "   company  change\n",
       "0  Daimler    1.20\n",
       "1     E.ON   -3.20\n",
       "2  Siemens    0.40\n",
       "3     BASF   -0.12\n",
       "4      BMW    2.40"
      ]
     },
     "execution_count": 21,
     "metadata": {},
     "output_type": "execute_result"
    }
   ],
   "source": [
    "# Indexing DataFrames\n",
    "\n",
    "frame2[[\"company\", \"change\"]]\n",
    "## company change\n",
    "## 0 Daimler 1.20\n",
    "## 1 E.ON -3.20\n",
    "## 2 Siemens 0.40\n",
    "## 3 BASF -0.12\n",
    "## 4 BMW 2.40"
   ]
  },
  {
   "attachments": {},
   "cell_type": "markdown",
   "metadata": {},
   "source": [
    "#### Changing DataFrames"
   ]
  },
  {
   "cell_type": "code",
   "execution_count": 22,
   "metadata": {},
   "outputs": [
    {
     "data": {
      "text/plain": [
       "Index(['company', 'price', 'change'], dtype='object')"
      ]
     },
     "execution_count": 22,
     "metadata": {},
     "output_type": "execute_result"
    }
   ],
   "source": [
    "# DataFrame delete column\n",
    "\n",
    "del frame2[\"volume\"]\n",
    "\n",
    "frame2\n",
    "## company price change\n",
    "## 0 Daimler 69.20 1.20\n",
    "## 1 E.ON 8.11 -3.20\n",
    "## 2 Siemens 110.92 0.40\n",
    "## 3 BASF 87.28 -0.12\n",
    "## 4 BMW 87.81 2.40\n",
    "\n",
    "frame2.columns\n",
    "## Index(['company', 'price', 'change'], dtype='object')"
   ]
  },
  {
   "attachments": {},
   "cell_type": "markdown",
   "metadata": {},
   "source": [
    "#### Naming DataFrames"
   ]
  },
  {
   "cell_type": "code",
   "execution_count": 23,
   "metadata": {},
   "outputs": [
    {
     "data": {
      "text/html": [
       "<div>\n",
       "<style scoped>\n",
       "    .dataframe tbody tr th:only-of-type {\n",
       "        vertical-align: middle;\n",
       "    }\n",
       "\n",
       "    .dataframe tbody tr th {\n",
       "        vertical-align: top;\n",
       "    }\n",
       "\n",
       "    .dataframe thead th {\n",
       "        text-align: right;\n",
       "    }\n",
       "</style>\n",
       "<table border=\"1\" class=\"dataframe\">\n",
       "  <thead>\n",
       "    <tr style=\"text-align: right;\">\n",
       "      <th>feature:</th>\n",
       "      <th>company</th>\n",
       "      <th>price</th>\n",
       "      <th>change</th>\n",
       "    </tr>\n",
       "    <tr>\n",
       "      <th>number:</th>\n",
       "      <th></th>\n",
       "      <th></th>\n",
       "      <th></th>\n",
       "    </tr>\n",
       "  </thead>\n",
       "  <tbody>\n",
       "    <tr>\n",
       "      <th>0</th>\n",
       "      <td>Daimler</td>\n",
       "      <td>69.20</td>\n",
       "      <td>1.20</td>\n",
       "    </tr>\n",
       "    <tr>\n",
       "      <th>1</th>\n",
       "      <td>E.ON</td>\n",
       "      <td>8.11</td>\n",
       "      <td>-3.20</td>\n",
       "    </tr>\n",
       "    <tr>\n",
       "      <th>2</th>\n",
       "      <td>Siemens</td>\n",
       "      <td>110.92</td>\n",
       "      <td>0.40</td>\n",
       "    </tr>\n",
       "    <tr>\n",
       "      <th>3</th>\n",
       "      <td>BASF</td>\n",
       "      <td>87.28</td>\n",
       "      <td>-0.12</td>\n",
       "    </tr>\n",
       "    <tr>\n",
       "      <th>4</th>\n",
       "      <td>BMW</td>\n",
       "      <td>87.81</td>\n",
       "      <td>2.40</td>\n",
       "    </tr>\n",
       "  </tbody>\n",
       "</table>\n",
       "</div>"
      ],
      "text/plain": [
       "feature:  company   price  change\n",
       "number:                          \n",
       "0         Daimler   69.20    1.20\n",
       "1            E.ON    8.11   -3.20\n",
       "2         Siemens  110.92    0.40\n",
       "3            BASF   87.28   -0.12\n",
       "4             BMW   87.81    2.40"
      ]
     },
     "execution_count": 23,
     "metadata": {},
     "output_type": "execute_result"
    }
   ],
   "source": [
    "# Naming properties\n",
    "\n",
    "frame2.index.name = \"number:\"\n",
    "frame2.columns.name = \"feature:\"\n",
    "\n",
    "frame2\n",
    "## feature: company price change\n",
    "## number:\n",
    "## 0 Daimler 69.20 1.20\n",
    "## 1 E.ON 8.11 -3.20\n",
    "## 2 Siemens 110.92 0.40\n",
    "## 3 BASF 87.28 -0.12\n",
    "## 4 BMW 87.81 2.40"
   ]
  },
  {
   "attachments": {},
   "cell_type": "markdown",
   "metadata": {},
   "source": [
    "#### Reindexing"
   ]
  },
  {
   "cell_type": "code",
   "execution_count": 24,
   "metadata": {},
   "outputs": [
    {
     "data": {
      "text/html": [
       "<div>\n",
       "<style scoped>\n",
       "    .dataframe tbody tr th:only-of-type {\n",
       "        vertical-align: middle;\n",
       "    }\n",
       "\n",
       "    .dataframe tbody tr th {\n",
       "        vertical-align: top;\n",
       "    }\n",
       "\n",
       "    .dataframe thead th {\n",
       "        text-align: right;\n",
       "    }\n",
       "</style>\n",
       "<table border=\"1\" class=\"dataframe\">\n",
       "  <thead>\n",
       "    <tr style=\"text-align: right;\">\n",
       "      <th></th>\n",
       "      <th>company</th>\n",
       "      <th>price</th>\n",
       "      <th>volume</th>\n",
       "    </tr>\n",
       "  </thead>\n",
       "  <tbody>\n",
       "    <tr>\n",
       "      <th>0</th>\n",
       "      <td>Daimler</td>\n",
       "      <td>69.20</td>\n",
       "      <td>4456290</td>\n",
       "    </tr>\n",
       "    <tr>\n",
       "      <th>2</th>\n",
       "      <td>Siemens</td>\n",
       "      <td>110.92</td>\n",
       "      <td>3669487</td>\n",
       "    </tr>\n",
       "    <tr>\n",
       "      <th>3</th>\n",
       "      <td>BASF</td>\n",
       "      <td>87.28</td>\n",
       "      <td>1778058</td>\n",
       "    </tr>\n",
       "    <tr>\n",
       "      <th>4</th>\n",
       "      <td>BMW</td>\n",
       "      <td>87.81</td>\n",
       "      <td>1824582</td>\n",
       "    </tr>\n",
       "  </tbody>\n",
       "</table>\n",
       "</div>"
      ],
      "text/plain": [
       "   company   price   volume\n",
       "0  Daimler   69.20  4456290\n",
       "2  Siemens  110.92  3669487\n",
       "3     BASF   87.28  1778058\n",
       "4      BMW   87.81  1824582"
      ]
     },
     "execution_count": 24,
     "metadata": {},
     "output_type": "execute_result"
    }
   ],
   "source": [
    "# Reindexing\n",
    "\n",
    "frame3 = frame.reindex([0, 2, 3, 4])\n",
    "\n",
    "frame3\n",
    "## company price volume\n",
    "## 0 Daimler 69.20 4456290\n",
    "## 2 Siemens 110.92 3669487\n",
    "## 3 BASF 87.28 1778058\n",
    "## 4 BMW 87.81 1824582"
   ]
  },
  {
   "cell_type": "code",
   "execution_count": 25,
   "metadata": {},
   "outputs": [
    {
     "data": {
      "text/html": [
       "<div>\n",
       "<style scoped>\n",
       "    .dataframe tbody tr th:only-of-type {\n",
       "        vertical-align: middle;\n",
       "    }\n",
       "\n",
       "    .dataframe tbody tr th {\n",
       "        vertical-align: top;\n",
       "    }\n",
       "\n",
       "    .dataframe thead th {\n",
       "        text-align: right;\n",
       "    }\n",
       "</style>\n",
       "<table border=\"1\" class=\"dataframe\">\n",
       "  <thead>\n",
       "    <tr style=\"text-align: right;\">\n",
       "      <th></th>\n",
       "      <th>company</th>\n",
       "      <th>price</th>\n",
       "      <th>market cap</th>\n",
       "    </tr>\n",
       "  </thead>\n",
       "  <tbody>\n",
       "    <tr>\n",
       "      <th>0</th>\n",
       "      <td>Daimler</td>\n",
       "      <td>69.20</td>\n",
       "      <td>NaN</td>\n",
       "    </tr>\n",
       "    <tr>\n",
       "      <th>2</th>\n",
       "      <td>Siemens</td>\n",
       "      <td>110.92</td>\n",
       "      <td>NaN</td>\n",
       "    </tr>\n",
       "    <tr>\n",
       "      <th>3</th>\n",
       "      <td>BASF</td>\n",
       "      <td>87.28</td>\n",
       "      <td>NaN</td>\n",
       "    </tr>\n",
       "    <tr>\n",
       "      <th>4</th>\n",
       "      <td>BMW</td>\n",
       "      <td>87.81</td>\n",
       "      <td>NaN</td>\n",
       "    </tr>\n",
       "  </tbody>\n",
       "</table>\n",
       "</div>"
      ],
      "text/plain": [
       "   company   price  market cap\n",
       "0  Daimler   69.20         NaN\n",
       "2  Siemens  110.92         NaN\n",
       "3     BASF   87.28         NaN\n",
       "4      BMW   87.81         NaN"
      ]
     },
     "execution_count": 25,
     "metadata": {},
     "output_type": "execute_result"
    }
   ],
   "source": [
    "# Filling missing values\n",
    "\n",
    "frame4 = frame.reindex(index=[0, 2, 3, 4, 5], fill_value=0,\n",
    "columns=[\"company\", \"price\", \"market cap\"])\n",
    "\n",
    "frame4\n",
    "## company price market cap\n",
    "## 0 Daimler 69.20 0\n",
    "## 2 Siemens 110.92 0\n",
    "## 3 BASF 87.28 0\n",
    "## 4 BMW 87.81 0\n",
    "## 5 0 0.00 0\n",
    "\n",
    "frame4 = frame.reindex(index=[0, 2, 3, 4], fill_value=np.nan,\n",
    "columns=[\"company\", \"price\", \"market cap\"])\n",
    "\n",
    "frame4\n",
    "## company price market cap\n",
    "## 0 Daimler 69.20 NaN\n",
    "## 2 Siemens 110.92 NaN\n",
    "## 3 BASF 87.28 NaN\n",
    "## 4 BMW 87.81 NaN"
   ]
  },
  {
   "attachments": {},
   "cell_type": "markdown",
   "metadata": {},
   "source": [
    "#### Fill NaN"
   ]
  },
  {
   "cell_type": "code",
   "execution_count": 26,
   "metadata": {},
   "outputs": [
    {
     "data": {
      "text/html": [
       "<div>\n",
       "<style scoped>\n",
       "    .dataframe tbody tr th:only-of-type {\n",
       "        vertical-align: middle;\n",
       "    }\n",
       "\n",
       "    .dataframe tbody tr th {\n",
       "        vertical-align: top;\n",
       "    }\n",
       "\n",
       "    .dataframe thead th {\n",
       "        text-align: right;\n",
       "    }\n",
       "</style>\n",
       "<table border=\"1\" class=\"dataframe\">\n",
       "  <thead>\n",
       "    <tr style=\"text-align: right;\">\n",
       "      <th></th>\n",
       "      <th>company</th>\n",
       "      <th>price</th>\n",
       "      <th>market cap</th>\n",
       "    </tr>\n",
       "  </thead>\n",
       "  <tbody>\n",
       "    <tr>\n",
       "      <th>0</th>\n",
       "      <td>Daimler</td>\n",
       "      <td>69.20</td>\n",
       "      <td>1000000.0</td>\n",
       "    </tr>\n",
       "    <tr>\n",
       "      <th>2</th>\n",
       "      <td>Siemens</td>\n",
       "      <td>110.92</td>\n",
       "      <td>1000000.0</td>\n",
       "    </tr>\n",
       "    <tr>\n",
       "      <th>3</th>\n",
       "      <td>BASF</td>\n",
       "      <td>87.28</td>\n",
       "      <td>1000000.0</td>\n",
       "    </tr>\n",
       "  </tbody>\n",
       "</table>\n",
       "</div>"
      ],
      "text/plain": [
       "   company   price  market cap\n",
       "0  Daimler   69.20   1000000.0\n",
       "2  Siemens  110.92   1000000.0\n",
       "3     BASF   87.28   1000000.0"
      ]
     },
     "execution_count": 26,
     "metadata": {},
     "output_type": "execute_result"
    }
   ],
   "source": [
    "# Filling NaN\n",
    "\n",
    "frame4[:3]\n",
    "## company price market cap\n",
    "## 0 Daimler 69.20 NaN\n",
    "## 2 Siemens 110.92 NaN\n",
    "## 3 BASF 87.28 NaN\n",
    "\n",
    "frame4.fillna(1000000, inplace=True)\n",
    "\n",
    "frame4[:3]\n",
    "## company price market cap\n",
    "## 0 Daimler 69.20 1000000.0\n",
    "## 2 Siemens 110.92 1000000.0\n",
    "## 3 BASF 87.28 1000000.0"
   ]
  },
  {
   "attachments": {},
   "cell_type": "markdown",
   "metadata": {},
   "source": [
    "#### Dropping entries"
   ]
  },
  {
   "cell_type": "code",
   "execution_count": 27,
   "metadata": {},
   "outputs": [
    {
     "data": {
      "text/html": [
       "<div>\n",
       "<style scoped>\n",
       "    .dataframe tbody tr th:only-of-type {\n",
       "        vertical-align: middle;\n",
       "    }\n",
       "\n",
       "    .dataframe tbody tr th {\n",
       "        vertical-align: top;\n",
       "    }\n",
       "\n",
       "    .dataframe thead th {\n",
       "        text-align: right;\n",
       "    }\n",
       "</style>\n",
       "<table border=\"1\" class=\"dataframe\">\n",
       "  <thead>\n",
       "    <tr style=\"text-align: right;\">\n",
       "      <th></th>\n",
       "      <th>company</th>\n",
       "      <th>price</th>\n",
       "      <th>volume</th>\n",
       "    </tr>\n",
       "  </thead>\n",
       "  <tbody>\n",
       "    <tr>\n",
       "      <th>0</th>\n",
       "      <td>Daimler</td>\n",
       "      <td>69.20</td>\n",
       "      <td>4456290</td>\n",
       "    </tr>\n",
       "    <tr>\n",
       "      <th>3</th>\n",
       "      <td>BASF</td>\n",
       "      <td>87.28</td>\n",
       "      <td>1778058</td>\n",
       "    </tr>\n",
       "    <tr>\n",
       "      <th>4</th>\n",
       "      <td>BMW</td>\n",
       "      <td>87.81</td>\n",
       "      <td>1824582</td>\n",
       "    </tr>\n",
       "  </tbody>\n",
       "</table>\n",
       "</div>"
      ],
      "text/plain": [
       "   company  price   volume\n",
       "0  Daimler  69.20  4456290\n",
       "3     BASF  87.28  1778058\n",
       "4      BMW  87.81  1824582"
      ]
     },
     "execution_count": 27,
     "metadata": {},
     "output_type": "execute_result"
    }
   ],
   "source": [
    "# Dropping index\n",
    "\n",
    "frame5 = frame\n",
    "\n",
    "frame5\n",
    "## company price volume\n",
    "## 0 Daimler 69.20 4456290\n",
    "## 1 E.ON 8.11 3667975\n",
    "## 2 Siemens 110.92 3669487\n",
    "## 3 BASF 87.28 1778058\n",
    "## 4 BMW 87.81 1824582\n",
    "\n",
    "frame5.drop([1, 2])\n",
    "## company price volume\n",
    "## 0 Daimler 69.20 4456290\n",
    "## 3 BASF 87.28 1778058\n",
    "## 4 BMW 87.81 1824582"
   ]
  },
  {
   "cell_type": "code",
   "execution_count": 28,
   "metadata": {},
   "outputs": [
    {
     "data": {
      "text/html": [
       "<div>\n",
       "<style scoped>\n",
       "    .dataframe tbody tr th:only-of-type {\n",
       "        vertical-align: middle;\n",
       "    }\n",
       "\n",
       "    .dataframe tbody tr th {\n",
       "        vertical-align: top;\n",
       "    }\n",
       "\n",
       "    .dataframe thead th {\n",
       "        text-align: right;\n",
       "    }\n",
       "</style>\n",
       "<table border=\"1\" class=\"dataframe\">\n",
       "  <thead>\n",
       "    <tr style=\"text-align: right;\">\n",
       "      <th></th>\n",
       "      <th>company</th>\n",
       "      <th>price</th>\n",
       "      <th>volume</th>\n",
       "    </tr>\n",
       "  </thead>\n",
       "  <tbody>\n",
       "    <tr>\n",
       "      <th>0</th>\n",
       "      <td>Daimler</td>\n",
       "      <td>69.20</td>\n",
       "      <td>4456290</td>\n",
       "    </tr>\n",
       "    <tr>\n",
       "      <th>1</th>\n",
       "      <td>E.ON</td>\n",
       "      <td>8.11</td>\n",
       "      <td>3667975</td>\n",
       "    </tr>\n",
       "    <tr>\n",
       "      <th>3</th>\n",
       "      <td>BASF</td>\n",
       "      <td>87.28</td>\n",
       "      <td>1778058</td>\n",
       "    </tr>\n",
       "    <tr>\n",
       "      <th>4</th>\n",
       "      <td>BMW</td>\n",
       "      <td>87.81</td>\n",
       "      <td>1824582</td>\n",
       "    </tr>\n",
       "  </tbody>\n",
       "</table>\n",
       "</div>"
      ],
      "text/plain": [
       "   company  price   volume\n",
       "0  Daimler  69.20  4456290\n",
       "1     E.ON   8.11  3667975\n",
       "3     BASF  87.28  1778058\n",
       "4      BMW  87.81  1824582"
      ]
     },
     "execution_count": 28,
     "metadata": {},
     "output_type": "execute_result"
    }
   ],
   "source": [
    "# Dropping column\n",
    "\n",
    "frame5[:2]\n",
    "## company price volume\n",
    "## 0 Daimler 69.20 4456290\n",
    "## 1 E.ON 8.11 3667975\n",
    "\n",
    "frame5.drop(\"price\", axis=1)[:3]\n",
    "## company volume\n",
    "## 0 Daimler 4456290\n",
    "## 1 E.ON 3667975\n",
    "## 2 Siemens 3669487\n",
    "\n",
    "frame5.drop(2, axis=0)\n",
    "## company price volume\n",
    "## 0 Daimler 69.20 4456290\n",
    "## 1 E.ON 8.11 3667975\n",
    "## 3 BASF 87.28 1778058\n",
    "## 4 BMW 87.81 1824582"
   ]
  },
  {
   "attachments": {},
   "cell_type": "markdown",
   "metadata": {},
   "source": [
    "#### Indexing, selecting and filtering"
   ]
  },
  {
   "cell_type": "code",
   "execution_count": 29,
   "metadata": {},
   "outputs": [
    {
     "data": {
      "text/html": [
       "<div>\n",
       "<style scoped>\n",
       "    .dataframe tbody tr th:only-of-type {\n",
       "        vertical-align: middle;\n",
       "    }\n",
       "\n",
       "    .dataframe tbody tr th {\n",
       "        vertical-align: top;\n",
       "    }\n",
       "\n",
       "    .dataframe thead th {\n",
       "        text-align: right;\n",
       "    }\n",
       "</style>\n",
       "<table border=\"1\" class=\"dataframe\">\n",
       "  <thead>\n",
       "    <tr style=\"text-align: right;\">\n",
       "      <th></th>\n",
       "      <th>company</th>\n",
       "      <th>price</th>\n",
       "      <th>volume</th>\n",
       "    </tr>\n",
       "  </thead>\n",
       "  <tbody>\n",
       "    <tr>\n",
       "      <th>2</th>\n",
       "      <td>Siemens</td>\n",
       "      <td>110.92</td>\n",
       "      <td>3669487</td>\n",
       "    </tr>\n",
       "    <tr>\n",
       "      <th>3</th>\n",
       "      <td>BASF</td>\n",
       "      <td>87.28</td>\n",
       "      <td>1778058</td>\n",
       "    </tr>\n",
       "    <tr>\n",
       "      <th>4</th>\n",
       "      <td>BMW</td>\n",
       "      <td>87.81</td>\n",
       "      <td>1824582</td>\n",
       "    </tr>\n",
       "  </tbody>\n",
       "</table>\n",
       "</div>"
      ],
      "text/plain": [
       "   company   price   volume\n",
       "2  Siemens  110.92  3669487\n",
       "3     BASF   87.28  1778058\n",
       "4      BMW   87.81  1824582"
      ]
     },
     "execution_count": 29,
     "metadata": {},
     "output_type": "execute_result"
    }
   ],
   "source": [
    "# Indexing\n",
    "\n",
    "frame\n",
    "## company price volume\n",
    "## 0 Daimler 69.20 4456290\n",
    "## 1 E.ON 8.11 3667975\n",
    "## 2 Siemens 110.92 3669487\n",
    "## 3 BASF 87.28 1778058\n",
    "## 4 BMW 87.81 1824582\n",
    "\n",
    "frame[2:]\n",
    "## company price volume\n",
    "## 2 Siemens 110.92 3669487\n",
    "## 3 BASF 87.28 1778058\n",
    "## 4 BMW 87.81 1824582"
   ]
  },
  {
   "cell_type": "code",
   "execution_count": 30,
   "metadata": {},
   "outputs": [
    {
     "data": {
      "text/html": [
       "<div>\n",
       "<style scoped>\n",
       "    .dataframe tbody tr th:only-of-type {\n",
       "        vertical-align: middle;\n",
       "    }\n",
       "\n",
       "    .dataframe tbody tr th {\n",
       "        vertical-align: top;\n",
       "    }\n",
       "\n",
       "    .dataframe thead th {\n",
       "        text-align: right;\n",
       "    }\n",
       "</style>\n",
       "<table border=\"1\" class=\"dataframe\">\n",
       "  <thead>\n",
       "    <tr style=\"text-align: right;\">\n",
       "      <th></th>\n",
       "      <th>company</th>\n",
       "      <th>price</th>\n",
       "      <th>volume</th>\n",
       "    </tr>\n",
       "  </thead>\n",
       "  <tbody>\n",
       "    <tr>\n",
       "      <th>b</th>\n",
       "      <td>E.ON</td>\n",
       "      <td>8.11</td>\n",
       "      <td>3667975</td>\n",
       "    </tr>\n",
       "    <tr>\n",
       "      <th>c</th>\n",
       "      <td>Siemens</td>\n",
       "      <td>110.92</td>\n",
       "      <td>3669487</td>\n",
       "    </tr>\n",
       "    <tr>\n",
       "      <th>d</th>\n",
       "      <td>BASF</td>\n",
       "      <td>87.28</td>\n",
       "      <td>1778058</td>\n",
       "    </tr>\n",
       "  </tbody>\n",
       "</table>\n",
       "</div>"
      ],
      "text/plain": [
       "   company   price   volume\n",
       "b     E.ON    8.11  3667975\n",
       "c  Siemens  110.92  3669487\n",
       "d     BASF   87.28  1778058"
      ]
     },
     "execution_count": 30,
     "metadata": {},
     "output_type": "execute_result"
    }
   ],
   "source": [
    "# Indexing\n",
    "\n",
    "frame6 = pd.DataFrame(data, index=[\"a\", \"b\", \"c\", \"d\", \"e\"])\n",
    "\n",
    "frame6\n",
    "## company price volume\n",
    "## a Daimler 69.20 4456290\n",
    "## b E.ON 8.11 3667975\n",
    "## c Siemens 110.92 3669487\n",
    "## d BASF 87.28 1778058\n",
    "## e BMW 87.81 1824582\n",
    "\n",
    "frame6[\"b\":\"d\"]\n",
    "## company price volume\n",
    "## b E.ON 8.11 3667975\n",
    "## c Siemens 110.92 3669487\n",
    "## d BASF 87.28 1778058"
   ]
  },
  {
   "cell_type": "code",
   "execution_count": 31,
   "metadata": {},
   "outputs": [
    {
     "data": {
      "text/plain": [
       "company    Siemens\n",
       "price       110.92\n",
       "Name: c, dtype: object"
      ]
     },
     "execution_count": 31,
     "metadata": {},
     "output_type": "execute_result"
    }
   ],
   "source": [
    "# Selection with loc and iloc\n",
    "\n",
    "frame6.loc[\"c\", [\"company\", \"price\"]]\n",
    "## company Siemens\n",
    "## price 110.92\n",
    "## Name: c, dtype: object\n",
    "\n",
    "frame6.iloc[2, [0, 1]]\n",
    "## company Siemens\n",
    "## price 110.92\n",
    "## Name: c, dtype: object"
   ]
  },
  {
   "cell_type": "code",
   "execution_count": 32,
   "metadata": {},
   "outputs": [
    {
     "data": {
      "text/html": [
       "<div>\n",
       "<style scoped>\n",
       "    .dataframe tbody tr th:only-of-type {\n",
       "        vertical-align: middle;\n",
       "    }\n",
       "\n",
       "    .dataframe tbody tr th {\n",
       "        vertical-align: top;\n",
       "    }\n",
       "\n",
       "    .dataframe thead th {\n",
       "        text-align: right;\n",
       "    }\n",
       "</style>\n",
       "<table border=\"1\" class=\"dataframe\">\n",
       "  <thead>\n",
       "    <tr style=\"text-align: right;\">\n",
       "      <th></th>\n",
       "      <th>volume</th>\n",
       "      <th>price</th>\n",
       "      <th>company</th>\n",
       "    </tr>\n",
       "  </thead>\n",
       "  <tbody>\n",
       "    <tr>\n",
       "      <th>c</th>\n",
       "      <td>3669487</td>\n",
       "      <td>110.92</td>\n",
       "      <td>Siemens</td>\n",
       "    </tr>\n",
       "    <tr>\n",
       "      <th>d</th>\n",
       "      <td>1778058</td>\n",
       "      <td>87.28</td>\n",
       "      <td>BASF</td>\n",
       "    </tr>\n",
       "    <tr>\n",
       "      <th>e</th>\n",
       "      <td>1824582</td>\n",
       "      <td>87.81</td>\n",
       "      <td>BMW</td>\n",
       "    </tr>\n",
       "  </tbody>\n",
       "</table>\n",
       "</div>"
      ],
      "text/plain": [
       "    volume   price  company\n",
       "c  3669487  110.92  Siemens\n",
       "d  1778058   87.28     BASF\n",
       "e  1824582   87.81      BMW"
      ]
     },
     "execution_count": 32,
     "metadata": {},
     "output_type": "execute_result"
    }
   ],
   "source": [
    "# Selection with loc and iloc\n",
    "\n",
    "frame6.loc[[\"c\", \"d\", \"e\"], [\"volume\", \"price\", \"company\"]]\n",
    "## volume price company\n",
    "## c 3669487 110.92 Siemens\n",
    "## d 1778058 87.28 BASF\n",
    "## e 1824582 87.81 BMW\n",
    "\n",
    "frame6.iloc[2:, ::-1]\n",
    "## volume price company\n",
    "## c 3669487 110.92 Siemens\n",
    "## d 1778058 87.28 BASF\n",
    "## e 1824582 87.81 BMW"
   ]
  },
  {
   "attachments": {},
   "cell_type": "markdown",
   "metadata": {},
   "source": [
    "#### DataFrame indexing options\n",
    "\n",
    "|Type |Description|\n",
    "|--|--|\n",
    "|df[val] |Select single column or set of columns|\n",
    "|df.loc[val] |Select single row or set of rows|\n",
    "|df.loc[:, val] |Select single column or set of columns|\n",
    "|df.loc[val1, val2] |Select row and column by label|\n",
    "|df.iloc[where] |Select row or set of rows by integer position|\n",
    "|df.iloc[:, where] |Select column or set of columns by integer pos.|\n",
    "|df.iloc[w1, w2] |Select row and column by integer position|"
   ]
  },
  {
   "attachments": {},
   "cell_type": "markdown",
   "metadata": {},
   "source": [
    "#### Hierarchical indexing"
   ]
  },
  {
   "cell_type": "code",
   "execution_count": 33,
   "metadata": {},
   "outputs": [
    {
     "data": {
      "text/plain": [
       "MultiIndex([('a', 1),\n",
       "            ('a', 2),\n",
       "            ('a', 3),\n",
       "            ('b', 1),\n",
       "            ('b', 2)],\n",
       "           names=['index1', 'index2'])"
      ]
     },
     "execution_count": 33,
     "metadata": {},
     "output_type": "execute_result"
    }
   ],
   "source": [
    "# Multiindex\n",
    "\n",
    "ind = [[\"a\", \"a\", \"a\", \"b\", \"b\"], [1, 2, 3, 1, 2]]\n",
    "frame6 = pd.DataFrame(np.arange(15).reshape((5, 3)), index=ind,\n",
    "columns=[\"first\", \"second\", \"third\"])\n",
    "\n",
    "frame6\n",
    "## first second third\n",
    "## a 1 0 1 2\n",
    "## 2 3 4 5\n",
    "## 3 6 7 8\n",
    "## b 1 9 10 11\n",
    "## 2 12 13 14\n",
    "\n",
    "frame6.index.names = [\"index1\", \"index2\"]\n",
    "\n",
    "frame6.index\n",
    "## MultiIndex([('a', 1),\n",
    "## ('a', 2),\n",
    "## ('a', 3),\n",
    "## ('b', 1),\n",
    "## ('b', 2)],\n",
    "## names=['index1', 'index2'])"
   ]
  },
  {
   "cell_type": "code",
   "execution_count": 34,
   "metadata": {},
   "outputs": [
    {
     "data": {
      "text/plain": [
       "first      9\n",
       "second    10\n",
       "third     11\n",
       "Name: (b, 1), dtype: int32"
      ]
     },
     "execution_count": 34,
     "metadata": {},
     "output_type": "execute_result"
    }
   ],
   "source": [
    "# Selecting of a multiindex\n",
    "\n",
    "frame6.loc[\"a\"]\n",
    "## first second third\n",
    "## index2\n",
    "## 1 0 1 2\n",
    "## 2 3 4 5\n",
    "## 3 6 7 8\n",
    "\n",
    "frame6.loc[\"b\", 1]\n",
    "## first 9\n",
    "## second 10\n",
    "## third 11\n",
    "## Name: (b, 1), dtype: int64"
   ]
  },
  {
   "attachments": {},
   "cell_type": "markdown",
   "metadata": {},
   "source": [
    "#### Operations between DataFrame and Series"
   ]
  },
  {
   "cell_type": "code",
   "execution_count": 35,
   "metadata": {},
   "outputs": [
    {
     "data": {
      "text/plain": [
       "price         110.92\n",
       "volume    3669487.00\n",
       "Name: Siemens, dtype: float64"
      ]
     },
     "execution_count": 35,
     "metadata": {},
     "output_type": "execute_result"
    }
   ],
   "source": [
    "# Series and DataFrames\n",
    "\n",
    "frame7 = frame[[\"price\", \"volume\"]]\n",
    "frame7.index = [\"Daimler\", \"E.ON\", \"Siemens\", \"BASF\", \"BMW\"]\n",
    "series = frame7.iloc[2]\n",
    "\n",
    "frame7\n",
    "## price volume\n",
    "## Daimler 69.20 4456290\n",
    "## E.ON 8.11 3667975\n",
    "## Siemens 110.92 3669487\n",
    "## BASF 87.28 1778058\n",
    "## BMW 87.81 1824582\n",
    "\n",
    "series\n",
    "## price 110.92\n",
    "## volume 3669487.00\n",
    "## Name: Siemens, dtype: float64"
   ]
  },
  {
   "cell_type": "code",
   "execution_count": 36,
   "metadata": {},
   "outputs": [
    {
     "data": {
      "text/html": [
       "<div>\n",
       "<style scoped>\n",
       "    .dataframe tbody tr th:only-of-type {\n",
       "        vertical-align: middle;\n",
       "    }\n",
       "\n",
       "    .dataframe tbody tr th {\n",
       "        vertical-align: top;\n",
       "    }\n",
       "\n",
       "    .dataframe thead th {\n",
       "        text-align: right;\n",
       "    }\n",
       "</style>\n",
       "<table border=\"1\" class=\"dataframe\">\n",
       "  <thead>\n",
       "    <tr style=\"text-align: right;\">\n",
       "      <th></th>\n",
       "      <th>price</th>\n",
       "      <th>volume</th>\n",
       "    </tr>\n",
       "  </thead>\n",
       "  <tbody>\n",
       "    <tr>\n",
       "      <th>Daimler</th>\n",
       "      <td>180.12</td>\n",
       "      <td>8125777.0</td>\n",
       "    </tr>\n",
       "    <tr>\n",
       "      <th>E.ON</th>\n",
       "      <td>119.03</td>\n",
       "      <td>7337462.0</td>\n",
       "    </tr>\n",
       "    <tr>\n",
       "      <th>Siemens</th>\n",
       "      <td>221.84</td>\n",
       "      <td>7338974.0</td>\n",
       "    </tr>\n",
       "    <tr>\n",
       "      <th>BASF</th>\n",
       "      <td>198.20</td>\n",
       "      <td>5447545.0</td>\n",
       "    </tr>\n",
       "    <tr>\n",
       "      <th>BMW</th>\n",
       "      <td>198.73</td>\n",
       "      <td>5494069.0</td>\n",
       "    </tr>\n",
       "  </tbody>\n",
       "</table>\n",
       "</div>"
      ],
      "text/plain": [
       "          price     volume\n",
       "Daimler  180.12  8125777.0\n",
       "E.ON     119.03  7337462.0\n",
       "Siemens  221.84  7338974.0\n",
       "BASF     198.20  5447545.0\n",
       "BMW      198.73  5494069.0"
      ]
     },
     "execution_count": 36,
     "metadata": {},
     "output_type": "execute_result"
    }
   ],
   "source": [
    "# Operations between Series and DataFrames down the rows\n",
    "\n",
    "frame7 + series\n",
    "## price volume\n",
    "## Daimler 180.12 8125777.0\n",
    "## E.ON 119.03 7337462.0\n",
    "## Siemens 221.84 7338974.0\n",
    "## BASF 198.20 5447545.0\n",
    "## BMW 198.73 5494069.0"
   ]
  },
  {
   "cell_type": "code",
   "execution_count": 37,
   "metadata": {},
   "outputs": [
    {
     "data": {
      "text/html": [
       "<div>\n",
       "<style scoped>\n",
       "    .dataframe tbody tr th:only-of-type {\n",
       "        vertical-align: middle;\n",
       "    }\n",
       "\n",
       "    .dataframe tbody tr th {\n",
       "        vertical-align: top;\n",
       "    }\n",
       "\n",
       "    .dataframe thead th {\n",
       "        text-align: right;\n",
       "    }\n",
       "</style>\n",
       "<table border=\"1\" class=\"dataframe\">\n",
       "  <thead>\n",
       "    <tr style=\"text-align: right;\">\n",
       "      <th></th>\n",
       "      <th>price</th>\n",
       "      <th>volume</th>\n",
       "    </tr>\n",
       "  </thead>\n",
       "  <tbody>\n",
       "    <tr>\n",
       "      <th>Daimler</th>\n",
       "      <td>138.40</td>\n",
       "      <td>4456359.20</td>\n",
       "    </tr>\n",
       "    <tr>\n",
       "      <th>E.ON</th>\n",
       "      <td>16.22</td>\n",
       "      <td>3667983.11</td>\n",
       "    </tr>\n",
       "    <tr>\n",
       "      <th>Siemens</th>\n",
       "      <td>221.84</td>\n",
       "      <td>3669597.92</td>\n",
       "    </tr>\n",
       "    <tr>\n",
       "      <th>BASF</th>\n",
       "      <td>174.56</td>\n",
       "      <td>1778145.28</td>\n",
       "    </tr>\n",
       "    <tr>\n",
       "      <th>BMW</th>\n",
       "      <td>175.62</td>\n",
       "      <td>1824669.81</td>\n",
       "    </tr>\n",
       "  </tbody>\n",
       "</table>\n",
       "</div>"
      ],
      "text/plain": [
       "          price      volume\n",
       "Daimler  138.40  4456359.20\n",
       "E.ON      16.22  3667983.11\n",
       "Siemens  221.84  3669597.92\n",
       "BASF     174.56  1778145.28\n",
       "BMW      175.62  1824669.81"
      ]
     },
     "execution_count": 37,
     "metadata": {},
     "output_type": "execute_result"
    }
   ],
   "source": [
    "# Operations between Series and DataFrames down the columns\n",
    "\n",
    "series2 = frame7[\"price\"]\n",
    "\n",
    "frame7.add(series2, axis=0)\n",
    "## price volume\n",
    "## Daimler 138.40 4456359.20\n",
    "## E.ON 16.22 3667983.11\n",
    "## Siemens 221.84 3669597.92\n",
    "## BASF 174.56 1778145.28\n",
    "## BMW 175.62 1824669.81"
   ]
  },
  {
   "cell_type": "code",
   "execution_count": 38,
   "metadata": {},
   "outputs": [
    {
     "data": {
      "text/plain": [
       "array([[0., 0., 0., 0.],\n",
       "       [4., 4., 4., 4.],\n",
       "       [8., 8., 8., 8.]])"
      ]
     },
     "execution_count": 38,
     "metadata": {},
     "output_type": "execute_result"
    }
   ],
   "source": [
    "# Pandas vs Numpy\n",
    "\n",
    "nparr = np.arange(12.).reshape((3, 4))\n",
    "row = nparr[0]\n",
    "\n",
    "nparr - row\n",
    "## array([[0., 0., 0., 0.],\n",
    "## [4., 4., 4., 4.],\n",
    "## [8., 8., 8., 8.]])"
   ]
  },
  {
   "attachments": {},
   "cell_type": "markdown",
   "metadata": {},
   "source": [
    "#### NumPy functions on DataFrames"
   ]
  },
  {
   "cell_type": "code",
   "execution_count": 39,
   "metadata": {},
   "outputs": [
    {
     "data": {
      "text/html": [
       "<div>\n",
       "<style scoped>\n",
       "    .dataframe tbody tr th:only-of-type {\n",
       "        vertical-align: middle;\n",
       "    }\n",
       "\n",
       "    .dataframe tbody tr th {\n",
       "        vertical-align: top;\n",
       "    }\n",
       "\n",
       "    .dataframe thead th {\n",
       "        text-align: right;\n",
       "    }\n",
       "</style>\n",
       "<table border=\"1\" class=\"dataframe\">\n",
       "  <thead>\n",
       "    <tr style=\"text-align: right;\">\n",
       "      <th></th>\n",
       "      <th>price</th>\n",
       "      <th>volume</th>\n",
       "    </tr>\n",
       "  </thead>\n",
       "  <tbody>\n",
       "    <tr>\n",
       "      <th>Daimler</th>\n",
       "      <td>8.318654</td>\n",
       "      <td>2110.992657</td>\n",
       "    </tr>\n",
       "    <tr>\n",
       "      <th>E.ON</th>\n",
       "      <td>2.847806</td>\n",
       "      <td>1915.195812</td>\n",
       "    </tr>\n",
       "  </tbody>\n",
       "</table>\n",
       "</div>"
      ],
      "text/plain": [
       "            price       volume\n",
       "Daimler  8.318654  2110.992657\n",
       "E.ON     2.847806  1915.195812"
      ]
     },
     "execution_count": 39,
     "metadata": {},
     "output_type": "execute_result"
    }
   ],
   "source": [
    "# Numpy functions on DataFrames\n",
    "\n",
    "frame7[:2]\n",
    "## price volume\n",
    "## Daimler 69.20 4456290\n",
    "## E.ON 8.11 3667975\n",
    "\n",
    "frame7.apply(np.mean)\n",
    "## price 72.664\n",
    "## volume 3079278.400\n",
    "## dtype: float64\n",
    "\n",
    "frame7.apply(np.sqrt)[:2]\n",
    "## price volume\n",
    "## Daimler 8.318654 2110.992657\n",
    "## E.ON 2.847806 1915.195812"
   ]
  },
  {
   "attachments": {},
   "cell_type": "markdown",
   "metadata": {},
   "source": [
    "#### Grouping DataFrames"
   ]
  },
  {
   "cell_type": "code",
   "execution_count": null,
   "metadata": {},
   "outputs": [],
   "source": [
    "# Groupby\n",
    "\n",
    "vote = pd.read_csv(\"data/vote.csv\")[[\"Party\", \"Member\", \"Vote\"]]\n",
    "\n",
    "vote.head()\n",
    "## Party Member Vote\n",
    "## 0 CDU/CSU Abercron yes\n",
    "## 1 CDU/CSU Albani yes\n",
    "## 2 CDU/CSU Altenkamp yes\n",
    "## 3 CDU/CSU Altmaier absent\n",
    "## 4 CDU/CSU Amthor yes"
   ]
  },
  {
   "cell_type": "code",
   "execution_count": null,
   "metadata": {},
   "outputs": [],
   "source": [
    "res = vote.groupby([\"Party\", \"Vote\"]).count()\n",
    "\n",
    "res\n",
    "## Member\n",
    "## Party Vote\n",
    "## AfD absent 6\n",
    "## no 86\n",
    "## BÜ90/GR absent 9\n",
    "## no 58\n",
    "## CDU/CSU absent 7\n",
    "## yes 239\n",
    "## DIE LINKE. absent 7\n",
    "## no 62\n",
    "## FDP absent 5\n",
    "## no 75\n",
    "## Fraktionslos absent 1\n",
    "## no 1\n",
    "## SPD absent 6\n",
    "## yes 147"
   ]
  },
  {
   "attachments": {},
   "cell_type": "markdown",
   "metadata": {},
   "source": [
    "### Import/Export data"
   ]
  },
  {
   "attachments": {},
   "cell_type": "markdown",
   "metadata": {},
   "source": [
    "#### Reading data in text format"
   ]
  },
  {
   "cell_type": "code",
   "execution_count": 42,
   "metadata": {},
   "outputs": [
    {
     "data": {
      "text/html": [
       "<div>\n",
       "<style scoped>\n",
       "    .dataframe tbody tr th:only-of-type {\n",
       "        vertical-align: middle;\n",
       "    }\n",
       "\n",
       "    .dataframe tbody tr th {\n",
       "        vertical-align: top;\n",
       "    }\n",
       "\n",
       "    .dataframe thead th {\n",
       "        text-align: right;\n",
       "    }\n",
       "</style>\n",
       "<table border=\"1\" class=\"dataframe\">\n",
       "  <thead>\n",
       "    <tr style=\"text-align: right;\">\n",
       "      <th></th>\n",
       "      <th>a</th>\n",
       "      <th>b</th>\n",
       "      <th>c</th>\n",
       "      <th>d</th>\n",
       "      <th>hello</th>\n",
       "    </tr>\n",
       "  </thead>\n",
       "  <tbody>\n",
       "    <tr>\n",
       "      <th>0</th>\n",
       "      <td>1</td>\n",
       "      <td>2</td>\n",
       "      <td>3</td>\n",
       "      <td>4</td>\n",
       "      <td>world</td>\n",
       "    </tr>\n",
       "    <tr>\n",
       "      <th>1</th>\n",
       "      <td>5</td>\n",
       "      <td>6</td>\n",
       "      <td>7</td>\n",
       "      <td>8</td>\n",
       "      <td>python</td>\n",
       "    </tr>\n",
       "    <tr>\n",
       "      <th>2</th>\n",
       "      <td>2</td>\n",
       "      <td>3</td>\n",
       "      <td>5</td>\n",
       "      <td>7</td>\n",
       "      <td>pandas</td>\n",
       "    </tr>\n",
       "  </tbody>\n",
       "</table>\n",
       "</div>"
      ],
      "text/plain": [
       "   a   b   c   d    hello\n",
       "0  1   2   3   4    world\n",
       "1  5   6   7   8   python\n",
       "2  2   3   5   7   pandas"
      ]
     },
     "execution_count": 42,
     "metadata": {},
     "output_type": "execute_result"
    }
   ],
   "source": [
    "# Read comma-separated values\n",
    "\n",
    "df = pd.read_csv(\"data/ex1.csv\")\n",
    "df\n",
    "## a b c d hello\n",
    "## 0 1 2 3 4 world\n",
    "## 1 5 6 7 8 python\n",
    "## 2 2 3 5 7 pandas"
   ]
  },
  {
   "attachments": {},
   "cell_type": "markdown",
   "metadata": {},
   "source": [
    "#### Reading data in text format"
   ]
  },
  {
   "cell_type": "code",
   "execution_count": 43,
   "metadata": {},
   "outputs": [
    {
     "data": {
      "text/html": [
       "<div>\n",
       "<style scoped>\n",
       "    .dataframe tbody tr th:only-of-type {\n",
       "        vertical-align: middle;\n",
       "    }\n",
       "\n",
       "    .dataframe tbody tr th {\n",
       "        vertical-align: top;\n",
       "    }\n",
       "\n",
       "    .dataframe thead th {\n",
       "        text-align: right;\n",
       "    }\n",
       "</style>\n",
       "<table border=\"1\" class=\"dataframe\">\n",
       "  <thead>\n",
       "    <tr style=\"text-align: right;\">\n",
       "      <th></th>\n",
       "      <th>a</th>\n",
       "      <th>b</th>\n",
       "      <th>c</th>\n",
       "      <th>d</th>\n",
       "      <th>hello</th>\n",
       "    </tr>\n",
       "  </thead>\n",
       "  <tbody>\n",
       "    <tr>\n",
       "      <th>0</th>\n",
       "      <td>1</td>\n",
       "      <td>2</td>\n",
       "      <td>3</td>\n",
       "      <td>4</td>\n",
       "      <td>world</td>\n",
       "    </tr>\n",
       "    <tr>\n",
       "      <th>1</th>\n",
       "      <td>5</td>\n",
       "      <td>6</td>\n",
       "      <td>7</td>\n",
       "      <td>8</td>\n",
       "      <td>python</td>\n",
       "    </tr>\n",
       "    <tr>\n",
       "      <th>2</th>\n",
       "      <td>2</td>\n",
       "      <td>3</td>\n",
       "      <td>5</td>\n",
       "      <td>7</td>\n",
       "      <td>pandas</td>\n",
       "    </tr>\n",
       "  </tbody>\n",
       "</table>\n",
       "</div>"
      ],
      "text/plain": [
       "   a   b   c   d    hello\n",
       "0  1   2   3   4    world\n",
       "1  5   6   7   8   python\n",
       "2  2   3   5   7   pandas"
      ]
     },
     "execution_count": 43,
     "metadata": {},
     "output_type": "execute_result"
    }
   ],
   "source": [
    "# Read table values\n",
    "\n",
    "df = pd.read_table(\"data/tab.txt\", sep=\"|\")\n",
    "df\n",
    "## a b c d hello\n",
    "## 0 1 2 3 4 world\n",
    "## 1 5 6 7 8 python\n",
    "## 2 2 3 5 7 pandas"
   ]
  },
  {
   "cell_type": "code",
   "execution_count": 44,
   "metadata": {},
   "outputs": [
    {
     "data": {
      "text/html": [
       "<div>\n",
       "<style scoped>\n",
       "    .dataframe tbody tr th:only-of-type {\n",
       "        vertical-align: middle;\n",
       "    }\n",
       "\n",
       "    .dataframe tbody tr th {\n",
       "        vertical-align: top;\n",
       "    }\n",
       "\n",
       "    .dataframe thead th {\n",
       "        text-align: right;\n",
       "    }\n",
       "</style>\n",
       "<table border=\"1\" class=\"dataframe\">\n",
       "  <thead>\n",
       "    <tr style=\"text-align: right;\">\n",
       "      <th></th>\n",
       "      <th>0</th>\n",
       "      <th>1</th>\n",
       "      <th>2</th>\n",
       "      <th>3</th>\n",
       "      <th>4</th>\n",
       "    </tr>\n",
       "  </thead>\n",
       "  <tbody>\n",
       "    <tr>\n",
       "      <th>0</th>\n",
       "      <td>1</td>\n",
       "      <td>2</td>\n",
       "      <td>3</td>\n",
       "      <td>4</td>\n",
       "      <td>world</td>\n",
       "    </tr>\n",
       "    <tr>\n",
       "      <th>1</th>\n",
       "      <td>5</td>\n",
       "      <td>6</td>\n",
       "      <td>7</td>\n",
       "      <td>8</td>\n",
       "      <td>python</td>\n",
       "    </tr>\n",
       "    <tr>\n",
       "      <th>2</th>\n",
       "      <td>2</td>\n",
       "      <td>3</td>\n",
       "      <td>5</td>\n",
       "      <td>7</td>\n",
       "      <td>pandas</td>\n",
       "    </tr>\n",
       "  </tbody>\n",
       "</table>\n",
       "</div>"
      ],
      "text/plain": [
       "   0  1  2  3        4\n",
       "0  1  2  3  4    world\n",
       "1  5  6  7  8   python\n",
       "2  2  3  5  7   pandas"
      ]
     },
     "execution_count": 44,
     "metadata": {},
     "output_type": "execute_result"
    }
   ],
   "source": [
    "# Read CSV and header settings\n",
    "\n",
    "df = pd.read_csv(\"data/ex2.csv\", header=None)\n",
    "df\n",
    "## 0 1 2 3 4\n",
    "## 0 1 2 3 4 world\n",
    "## 1 5 6 7 8 python\n",
    "## 2 2 3 5 7 pandas"
   ]
  },
  {
   "cell_type": "code",
   "execution_count": 45,
   "metadata": {},
   "outputs": [
    {
     "data": {
      "text/html": [
       "<div>\n",
       "<style scoped>\n",
       "    .dataframe tbody tr th:only-of-type {\n",
       "        vertical-align: middle;\n",
       "    }\n",
       "\n",
       "    .dataframe tbody tr th {\n",
       "        vertical-align: top;\n",
       "    }\n",
       "\n",
       "    .dataframe thead th {\n",
       "        text-align: right;\n",
       "    }\n",
       "</style>\n",
       "<table border=\"1\" class=\"dataframe\">\n",
       "  <thead>\n",
       "    <tr style=\"text-align: right;\">\n",
       "      <th></th>\n",
       "      <th>a</th>\n",
       "      <th>b</th>\n",
       "      <th>c</th>\n",
       "      <th>d</th>\n",
       "      <th>hello</th>\n",
       "    </tr>\n",
       "  </thead>\n",
       "  <tbody>\n",
       "    <tr>\n",
       "      <th>0</th>\n",
       "      <td>1</td>\n",
       "      <td>2</td>\n",
       "      <td>3</td>\n",
       "      <td>4</td>\n",
       "      <td>world</td>\n",
       "    </tr>\n",
       "    <tr>\n",
       "      <th>1</th>\n",
       "      <td>5</td>\n",
       "      <td>6</td>\n",
       "      <td>7</td>\n",
       "      <td>8</td>\n",
       "      <td>python</td>\n",
       "    </tr>\n",
       "    <tr>\n",
       "      <th>2</th>\n",
       "      <td>2</td>\n",
       "      <td>3</td>\n",
       "      <td>5</td>\n",
       "      <td>7</td>\n",
       "      <td>pandas</td>\n",
       "    </tr>\n",
       "  </tbody>\n",
       "</table>\n",
       "</div>"
      ],
      "text/plain": [
       "   a  b  c  d    hello\n",
       "0  1  2  3  4    world\n",
       "1  5  6  7  8   python\n",
       "2  2  3  5  7   pandas"
      ]
     },
     "execution_count": 45,
     "metadata": {},
     "output_type": "execute_result"
    }
   ],
   "source": [
    "# Read CSV and header names\n",
    "\n",
    "df = pd.read_csv(\"data/ex2.csv\",\n",
    "                 names=[\"a\", \"b\", \"c\", \"d\", \"hello\"])\n",
    "\n",
    "df\n",
    "## a b c d hello\n",
    "## 0 1 2 3 4 world\n",
    "## 1 5 6 7 8 python\n",
    "## 2 2 3 5 7 pandas"
   ]
  },
  {
   "cell_type": "code",
   "execution_count": 46,
   "metadata": {},
   "outputs": [
    {
     "data": {
      "text/html": [
       "<div>\n",
       "<style scoped>\n",
       "    .dataframe tbody tr th:only-of-type {\n",
       "        vertical-align: middle;\n",
       "    }\n",
       "\n",
       "    .dataframe tbody tr th {\n",
       "        vertical-align: top;\n",
       "    }\n",
       "\n",
       "    .dataframe thead th {\n",
       "        text-align: right;\n",
       "    }\n",
       "</style>\n",
       "<table border=\"1\" class=\"dataframe\">\n",
       "  <thead>\n",
       "    <tr style=\"text-align: right;\">\n",
       "      <th></th>\n",
       "      <th>a</th>\n",
       "      <th>b</th>\n",
       "      <th>c</th>\n",
       "      <th>d</th>\n",
       "    </tr>\n",
       "    <tr>\n",
       "      <th>hello</th>\n",
       "      <th></th>\n",
       "      <th></th>\n",
       "      <th></th>\n",
       "      <th></th>\n",
       "    </tr>\n",
       "  </thead>\n",
       "  <tbody>\n",
       "    <tr>\n",
       "      <th>world</th>\n",
       "      <td>1</td>\n",
       "      <td>2</td>\n",
       "      <td>3</td>\n",
       "      <td>4</td>\n",
       "    </tr>\n",
       "    <tr>\n",
       "      <th>python</th>\n",
       "      <td>5</td>\n",
       "      <td>6</td>\n",
       "      <td>7</td>\n",
       "      <td>8</td>\n",
       "    </tr>\n",
       "    <tr>\n",
       "      <th>pandas</th>\n",
       "      <td>2</td>\n",
       "      <td>3</td>\n",
       "      <td>5</td>\n",
       "      <td>7</td>\n",
       "    </tr>\n",
       "  </tbody>\n",
       "</table>\n",
       "</div>"
      ],
      "text/plain": [
       "         a  b  c  d\n",
       "hello              \n",
       " world   1  2  3  4\n",
       " python  5  6  7  8\n",
       " pandas  2  3  5  7"
      ]
     },
     "execution_count": 46,
     "metadata": {},
     "output_type": "execute_result"
    }
   ],
   "source": [
    "# Read CSV and specify index\n",
    "\n",
    "df = pd.read_csv(\"data/ex2.csv\",\n",
    "                 names=[\"a\", \"b\", \"c\", \"d\", \"hello\"],\n",
    "                 index_col=\"hello\")\n",
    "df\n",
    "## a b c d\n",
    "## hello\n",
    "## world 1 2 3 4\n",
    "## python 5 6 7 8\n",
    "## pandas 2 3 5 7"
   ]
  },
  {
   "cell_type": "code",
   "execution_count": 47,
   "metadata": {},
   "outputs": [
    {
     "data": {
      "text/html": [
       "<div>\n",
       "<style scoped>\n",
       "    .dataframe tbody tr th:only-of-type {\n",
       "        vertical-align: middle;\n",
       "    }\n",
       "\n",
       "    .dataframe tbody tr th {\n",
       "        vertical-align: top;\n",
       "    }\n",
       "\n",
       "    .dataframe thead th {\n",
       "        text-align: right;\n",
       "    }\n",
       "</style>\n",
       "<table border=\"1\" class=\"dataframe\">\n",
       "  <thead>\n",
       "    <tr style=\"text-align: right;\">\n",
       "      <th></th>\n",
       "      <th>1</th>\n",
       "      <th>2</th>\n",
       "      <th>3</th>\n",
       "      <th>4</th>\n",
       "      <th>world</th>\n",
       "    </tr>\n",
       "  </thead>\n",
       "  <tbody>\n",
       "    <tr>\n",
       "      <th>0</th>\n",
       "      <td>5</td>\n",
       "      <td>6</td>\n",
       "      <td>7</td>\n",
       "      <td>8</td>\n",
       "      <td>python</td>\n",
       "    </tr>\n",
       "    <tr>\n",
       "      <th>1</th>\n",
       "      <td>2</td>\n",
       "      <td>3</td>\n",
       "      <td>5</td>\n",
       "      <td>7</td>\n",
       "      <td>pandas</td>\n",
       "    </tr>\n",
       "  </tbody>\n",
       "</table>\n",
       "</div>"
      ],
      "text/plain": [
       "   1   2   3   4    world\n",
       "0  5   6   7   8   python\n",
       "1  2   3   5   7   pandas"
      ]
     },
     "execution_count": 47,
     "metadata": {},
     "output_type": "execute_result"
    }
   ],
   "source": [
    "# Read CSV and choose rows\n",
    "\n",
    "df = pd.read_csv(\"data/ex3.csv\", skiprows=[1, 3])\n",
    "df\n",
    "## 1 2 3 4 world\n",
    "## 0 5 6 7 8 python\n",
    "## 1 2 3 5 7 pandas"
   ]
  },
  {
   "attachments": {},
   "cell_type": "markdown",
   "metadata": {},
   "source": [
    "#### Writing data to text file"
   ]
  },
  {
   "cell_type": "code",
   "execution_count": 48,
   "metadata": {},
   "outputs": [],
   "source": [
    "# Write to CSV\n",
    "\n",
    "df = pd.read_csv(\"data/ex3.csv\", skiprows=[1, 3])\n",
    "df.to_csv(\"data/out1.csv\")"
   ]
  },
  {
   "cell_type": "code",
   "execution_count": 49,
   "metadata": {},
   "outputs": [],
   "source": [
    "# Write to CSV and settings\n",
    "\n",
    "df = pd.read_csv(\"data/ex3.csv\", skiprows=[1, 3])\n",
    "df.to_csv(\"data/out2.csv\", index=False, header=False)"
   ]
  },
  {
   "cell_type": "code",
   "execution_count": 50,
   "metadata": {},
   "outputs": [],
   "source": [
    "# Write to CSV and specify header\n",
    "\n",
    "df = pd.read_csv(\"data/ex3.csv\", skiprows=[1, 3, 4])\n",
    "df.to_csv(\"data/out3.csv\", index=False,\n",
    "          header=[\"a\", \"b\", \"c\", \"d\", \"e\"])"
   ]
  },
  {
   "attachments": {},
   "cell_type": "markdown",
   "metadata": {},
   "source": [
    "#### Reading Excel files"
   ]
  },
  {
   "cell_type": "code",
   "execution_count": 51,
   "metadata": {},
   "outputs": [],
   "source": [
    "# Reading Excel\n",
    "\n",
    "xls_frame = pd.read_excel(\"data/goog.xlsx\")"
   ]
  },
  {
   "cell_type": "code",
   "execution_count": 52,
   "metadata": {},
   "outputs": [
    {
     "data": {
      "text/html": [
       "<div>\n",
       "<style scoped>\n",
       "    .dataframe tbody tr th:only-of-type {\n",
       "        vertical-align: middle;\n",
       "    }\n",
       "\n",
       "    .dataframe tbody tr th {\n",
       "        vertical-align: top;\n",
       "    }\n",
       "\n",
       "    .dataframe thead th {\n",
       "        text-align: right;\n",
       "    }\n",
       "</style>\n",
       "<table border=\"1\" class=\"dataframe\">\n",
       "  <thead>\n",
       "    <tr style=\"text-align: right;\">\n",
       "      <th></th>\n",
       "      <th>Adj Close</th>\n",
       "      <th>Volume</th>\n",
       "      <th>High</th>\n",
       "    </tr>\n",
       "  </thead>\n",
       "  <tbody>\n",
       "    <tr>\n",
       "      <th>0</th>\n",
       "      <td>1651</td>\n",
       "      <td>1538700</td>\n",
       "      <td>1145</td>\n",
       "    </tr>\n",
       "    <tr>\n",
       "      <th>1</th>\n",
       "      <td>1651</td>\n",
       "      <td>1512500</td>\n",
       "      <td>1145</td>\n",
       "    </tr>\n",
       "    <tr>\n",
       "      <th>2</th>\n",
       "      <td>1651</td>\n",
       "      <td>1538217</td>\n",
       "      <td>1145</td>\n",
       "    </tr>\n",
       "    <tr>\n",
       "      <th>3</th>\n",
       "      <td>1651</td>\n",
       "      <td>1547700</td>\n",
       "      <td>1145</td>\n",
       "    </tr>\n",
       "    <tr>\n",
       "      <th>4</th>\n",
       "      <td>1651</td>\n",
       "      <td>1527700</td>\n",
       "      <td>1145</td>\n",
       "    </tr>\n",
       "    <tr>\n",
       "      <th>5</th>\n",
       "      <td>1651</td>\n",
       "      <td>2478700</td>\n",
       "      <td>1145</td>\n",
       "    </tr>\n",
       "  </tbody>\n",
       "</table>\n",
       "</div>"
      ],
      "text/plain": [
       "   Adj Close   Volume  High\n",
       "0       1651  1538700  1145\n",
       "1       1651  1512500  1145\n",
       "2       1651  1538217  1145\n",
       "3       1651  1547700  1145\n",
       "4       1651  1527700  1145\n",
       "5       1651  2478700  1145"
      ]
     },
     "execution_count": 52,
     "metadata": {},
     "output_type": "execute_result"
    }
   ],
   "source": [
    "# Excel as a DataFrame\n",
    "\n",
    "xls_frame[[\"Adj Close\", \"Volume\", \"High\"]]\n",
    "## Adj Close Volume High\n",
    "## 0 1169.939941 1538700 1173.000000\n",
    "## 1 1167.699951 2412100 1174.000000\n",
    "## 2 1111.900024 4857900 1123.069946\n",
    "## 3 1055.800049 3798300 1110.000000\n",
    "## 4 1080.599976 3448000 1081.709961\n",
    "## 5 1048.579956 2341700 1081.780029"
   ]
  },
  {
   "attachments": {},
   "cell_type": "markdown",
   "metadata": {},
   "source": [
    "#### Remote data access"
   ]
  },
  {
   "cell_type": "code",
   "execution_count": 53,
   "metadata": {},
   "outputs": [],
   "source": [
    "# Import pandas-datareader\n",
    "\n",
    "from pandas_datareader import data"
   ]
  },
  {
   "attachments": {},
   "cell_type": "markdown",
   "metadata": {},
   "source": [
    "#### Data access: Yahoo Finance"
   ]
  },
  {
   "cell_type": "code",
   "execution_count": null,
   "metadata": {},
   "outputs": [],
   "source": [
    "# Get data of Ford\n",
    "\n",
    "ford = data.DataReader('F',\n",
    "                       'yahoo', \n",
    "                       start = '2019-01-01', \n",
    "                       end = '2020-08-31')\n",
    "\n",
    "ford.head()[[\"Close\", \"Volume\"]]\n",
    "## Close Volume\n",
    "## Date\n",
    "## 2020-01-02 9.42 43425700.0\n",
    "## 2020-01-03 9.21 45040800.0\n",
    "## 2020-01-06 9.16 43372300.0\n",
    "## 2020-01-07 9.25 44984100.0\n",
    "## 2020-01-08 9.25 45994900.0"
   ]
  },
  {
   "cell_type": "code",
   "execution_count": null,
   "metadata": {},
   "outputs": [],
   "source": [
    "# Explore Ford dataset\n",
    "\n",
    "ford.index\n",
    "## DatetimeIndex(['2020-01-02', '2020-01-03',...\n",
    "## ...dtype='datetime64[ns]', name='Date',...\n",
    "\n",
    "ford.loc[\"2020-01-28\"]\n",
    "## High 9.000000e+00\n",
    "## Low 8.860000e+00\n",
    "## Open 8.940000e+00\n",
    "## Close 8.970000e+00\n",
    "## Volume 8.516340e+07\n",
    "## Adj Close 8.730923e+00\n",
    "## Name: 2020-01-28 00:00:00, dtype: float64"
   ]
  },
  {
   "cell_type": "code",
   "execution_count": null,
   "metadata": {},
   "outputs": [],
   "source": [
    "# Download and explore SAP data\n",
    "\n",
    "sap = data.DataReader(\"SAP\", \"yahoo\", \"2020-01-01\", \"2020-06-30\")\n",
    "\n",
    "sap[25:27]\n",
    "## High Low ... Volume Adj Close\n",
    "## Date ...\n",
    "## 2020-02-07 136.020004 134.639999 ... 511700.0 130.987106\n",
    "## 2020-02-10 135.369995 134.679993 ... 381200.0 131.151978\n",
    "##\n",
    "## [2 rows x 6 columns]\n",
    "\n",
    "sap.loc[\"2020-03-09\"]\n",
    "## High 1.161900e+02\n",
    "## Low 1.105500e+02\n",
    "## Open 1.136100e+02\n",
    "## Close 1.115000e+02\n",
    "## Volume 1.571800e+06\n",
    "## Adj Close 1.081376e+02\n",
    "## Name: 2020-03-09 00:00:00, dtype: float64"
   ]
  },
  {
   "attachments": {},
   "cell_type": "markdown",
   "metadata": {},
   "source": [
    "#### Data access: Eurostat"
   ]
  },
  {
   "cell_type": "code",
   "execution_count": null,
   "metadata": {},
   "outputs": [],
   "source": [
    "# Eurostat\n",
    "\n",
    "population = data.DataReader(\"tps00001\", \n",
    "                             \"eurostat\", \n",
    "                             \"2010-01-01\",\n",
    "                             \"2020-01-01\")\n",
    "\n",
    "population.columns\n",
    "## MultiIndex(levels=[[Population on 1 January - total], [Albania,\n",
    "## Andorra, Armenia, Austria, Azerbaijan, Belarus, Belgium, ...\n",
    "\n",
    "population[\"Population on 1 January - total\", \"France\"][-5:]\n",
    "## FREQ Annual\n",
    "## TIME_PERIOD\n",
    "## 2016-01-01 66638391.0\n",
    "## 2017-01-01 66809816.0\n",
    "## 2018-01-01 66918941.0\n",
    "## 2019-01-01 67012883.0\n",
    "## 2020-01-01 67098824.0"
   ]
  },
  {
   "attachments": {},
   "cell_type": "markdown",
   "metadata": {},
   "source": [
    "#### Read data from HTML"
   ]
  },
  {
   "cell_type": "code",
   "execution_count": 55,
   "metadata": {},
   "outputs": [
    {
     "data": {
      "text/plain": [
       "<title>Applied Econometrics - Georg-August-Universität Göttingen</title>"
      ]
     },
     "execution_count": 55,
     "metadata": {},
     "output_type": "execute_result"
    }
   ],
   "source": [
    "# Beautiful Soup\n",
    "\n",
    "from bs4 import BeautifulSoup\n",
    "import requests\n",
    "\n",
    "url = \"www.uni-goettingen.de/de/applied-econometrics/412565.html\"\n",
    "\n",
    "r = requests.get(\"https://\" + url)\n",
    "d = r.text\n",
    "\n",
    "soup = BeautifulSoup(d, \"lxml\")\n",
    "\n",
    "soup.title\n",
    "## <title>Applied Econometrics - Georg-August-... ...</title>"
   ]
  },
  {
   "attachments": {},
   "cell_type": "markdown",
   "metadata": {},
   "source": [
    "#### Motivation"
   ]
  },
  {
   "cell_type": "code",
   "execution_count": null,
   "metadata": {},
   "outputs": [],
   "source": [
    "# Bollinger\n",
    "\n",
    "sap = data.DataReader(\"SAP\", \"yahoo\", \"2019-01-01\", \"2020-08-31\")\n",
    "\n",
    "sap.index = pd.to_datetime(sap.index)\n",
    "\n",
    "boll = sap[\"Close\"].rolling(window=20, center=False).mean()\n",
    "std = sap[\"Close\"].rolling(window=20, center=False).std()\n",
    "\n",
    "upp = boll + std * 2\n",
    "low = boll - std * 2\n",
    "\n",
    "fig = plt.figure()\n",
    "\n",
    "ax = fig.add_subplot(1, 1, 1)\n",
    "\n",
    "boll.plot(ax=ax, label=\"20 days Rolling mean\")\n",
    "upp.plot(ax=ax, label=\"Upper Band\")\n",
    "low.plot(ax=ax, label=\"Lower Band\")\n",
    "\n",
    "sap[\"Close\"].plot(ax=ax, label=\"SAP Price\")\n",
    "\n",
    "ax.legend(loc=\"best\")\n",
    "\n",
    "fig.savefig(\"data/boll.pdf\")"
   ]
  },
  {
   "cell_type": "code",
   "execution_count": 57,
   "metadata": {},
   "outputs": [
    {
     "name": "stdout",
     "output_type": "stream",
     "text": [
      "Author: Caique Miranda\n",
      "\n",
      "Github username: caiquemiranda\n",
      "\n",
      "matplotlib       : 3.5.2\n",
      "sys              : 3.10.5 (tags/v3.10.5:f377153, Jun  6 2022, 16:14:13) [MSC v.1929 64 bit (AMD64)]\n",
      "pandas_datareader: 0.10.0\n",
      "requests         : 2.28.1\n",
      "pandas           : 1.4.3\n",
      "numpy            : 1.23.0\n",
      "\n"
     ]
    }
   ],
   "source": [
    "%reload_ext watermark\n",
    "%watermark -a \"Caique Miranda\" -gu \"caiquemiranda\" -iv"
   ]
  },
  {
   "attachments": {},
   "cell_type": "markdown",
   "metadata": {},
   "source": [
    "### END."
   ]
  }
 ],
 "metadata": {
  "kernelspec": {
   "display_name": "Python 3",
   "language": "python",
   "name": "python3"
  },
  "language_info": {
   "codemirror_mode": {
    "name": "ipython",
    "version": 3
   },
   "file_extension": ".py",
   "mimetype": "text/x-python",
   "name": "python",
   "nbconvert_exporter": "python",
   "pygments_lexer": "ipython3",
   "version": "3.10.5"
  },
  "orig_nbformat": 4,
  "vscode": {
   "interpreter": {
    "hash": "74af3d2f25f1e46ebd2903d59225d79e4675ec224d56c01fc30cd168c2010d53"
   }
  }
 },
 "nbformat": 4,
 "nbformat_minor": 2
}
