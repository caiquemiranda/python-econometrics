{
 "cells": [
  {
   "attachments": {},
   "cell_type": "markdown",
   "metadata": {},
   "source": [
    "### Pandas package"
   ]
  },
  {
   "attachments": {},
   "cell_type": "markdown",
   "metadata": {},
   "source": [
    "#### Motivation"
   ]
  },
  {
   "cell_type": "code",
   "execution_count": null,
   "metadata": {},
   "outputs": [],
   "source": [
    "import pandas as pd\n",
    "import matplotlib.pyplot as plt\n",
    "\n",
    "fig = plt.figure()\n",
    "ax = fig.add_subplot(1, 1, 1)\n",
    "dow = pd.read_csv(\"data/dji.csv\", index_col=0, parse_dates=True)\n",
    "\n",
    "close = dow[\"Close\"]\n",
    "close.plot(ax=ax)\n",
    "\n",
    "ax.set_xlabel(\"Date\")\n",
    "ax.set_ylabel(\"Price\")\n",
    "ax.set_title(\"DJI\")\n",
    "\n",
    "fig.savefig(\"out/dji.pdf\", format=\"pdf\")"
   ]
  },
  {
   "attachments": {},
   "cell_type": "markdown",
   "metadata": {},
   "source": [
    "### Series"
   ]
  },
  {
   "cell_type": "code",
   "execution_count": null,
   "metadata": {},
   "outputs": [],
   "source": [
    "# String representation of a Series\n",
    "\n",
    "## 0 3\n",
    "## 1 7\n",
    "## 2 -8\n",
    "## 3 4\n",
    "## 4 26\n",
    "## dtype: int64"
   ]
  },
  {
   "attachments": {},
   "cell_type": "markdown",
   "metadata": {},
   "source": [
    "#### Create Series"
   ]
  },
  {
   "cell_type": "code",
   "execution_count": null,
   "metadata": {},
   "outputs": [],
   "source": [
    "# Importing Pandas and creating a Series\n",
    "\n",
    "import numpy as np\n",
    "import pandas as pd\n",
    "\n",
    "obj = pd.Series([2, -5, 9, 4])\n",
    "obj\n",
    "\n",
    "## 0 2\n",
    "## 1 -5\n",
    "## 2 9\n",
    "## 3 4\n",
    "## dtype: int64"
   ]
  },
  {
   "cell_type": "code",
   "execution_count": null,
   "metadata": {},
   "outputs": [],
   "source": [
    "# Series indexing vs. Numpy indexing\n",
    "\n",
    "obj2 = pd.Series([2, -5, 9, 4], index=[\"a\", \"b\", \"c\", \"d\"])\n",
    "npobj = np.array([2, -5, 9, 4])\n",
    "\n",
    "obj2\n",
    "## a 2\n",
    "## b -5\n",
    "## c 9\n",
    "## d 4\n",
    "## dtype: int64\n",
    "\n",
    "obj2[\"b\"]\n",
    "## -5\n",
    "\n",
    "npobj[1]\n",
    "## -5"
   ]
  },
  {
   "cell_type": "code",
   "execution_count": 4,
   "metadata": {},
   "outputs": [],
   "source": [
    "# Series creation from Numpy arrays\n",
    "\n",
    "npobj = np.array([2, -5, 9, 4])\n",
    "obj2 = pd.Series(npobj, index=[\"a\", \"b\", \"c\", \"d\"])\n",
    "\n",
    "obj2\n",
    "## a 2\n",
    "## b -5\n",
    "## c 9\n",
    "## d 4\n",
    "## dtype: int64# "
   ]
  },
  {
   "cell_type": "code",
   "execution_count": null,
   "metadata": {},
   "outputs": [],
   "source": [
    "# Series from dicts\n",
    "\n",
    "dictdata = {\"Göttingen\": 117665, \"Northeim\": 28920,\n",
    "            \"Hannover\": 532163, \"Berlin\": 3574830}\n",
    "\n",
    "obj3 = pd.Series(dictdata)\n",
    "\n",
    "obj3\n",
    "## Göttingen 117665\n",
    "## Northeim 28920\n",
    "## Hannover 532163\n",
    "## Berlin 3574830\n",
    "## dtype: int64"
   ]
  },
  {
   "cell_type": "code",
   "execution_count": null,
   "metadata": {},
   "outputs": [],
   "source": [
    "# Dict to Series with manual index\n",
    "\n",
    "cities = [\"Hamburg\", \"Göttingen\", \"Berlin\", \"Hannover\"]\n",
    "obj4 = pd.Series(dictdata, index=cities)\n",
    "\n",
    "obj4\n",
    "## Hamburg NaN\n",
    "## Göttingen 117665.0\n",
    "## Berlin 3574830.0\n",
    "## Hannover 532163.0\n",
    "## dtype: float64"
   ]
  },
  {
   "attachments": {},
   "cell_type": "markdown",
   "metadata": {},
   "source": [
    "#### Series properties"
   ]
  },
  {
   "cell_type": "code",
   "execution_count": null,
   "metadata": {},
   "outputs": [],
   "source": [
    "# Series properties\n",
    "\n",
    "obj.values\n",
    "## array([ 2, -5, 9, 4])\n",
    "\n",
    "obj.index\n",
    "## RangeIndex(start=0, stop=4, step=1)\n",
    "\n",
    "obj2.index\n",
    "## Index(['a', 'b', 'c', 'd'], dtype='object')"
   ]
  },
  {
   "attachments": {},
   "cell_type": "markdown",
   "metadata": {},
   "source": [
    "#### Selecting and manipulating values"
   ]
  },
  {
   "cell_type": "code",
   "execution_count": null,
   "metadata": {},
   "outputs": [],
   "source": [
    "# Series manipulation\n",
    "\n",
    "obj2[[\"c\", \"d\", \"a\"]]\n",
    "## c 9\n",
    "## d 4\n",
    "## a 2\n",
    "## dtype: int64\n",
    "\n",
    "obj2[obj2 < 0]\n",
    "## b -5\n",
    "## dtype: int64"
   ]
  },
  {
   "cell_type": "code",
   "execution_count": null,
   "metadata": {},
   "outputs": [],
   "source": [
    "# Series functions\n",
    "\n",
    "obj2 * 2\n",
    "## a 4\n",
    "## b -10\n",
    "## c 18\n",
    "## d 8\n",
    "## dtype: int64\n",
    "\n",
    "np.exp(obj2)[\"a\":\"c\"]\n",
    "## a 7.389056\n",
    "## b 0.006738\n",
    "## c 8103.083928\n",
    "## dtype: float64\n",
    "\n",
    "\"c\" in obj2\n",
    "## True"
   ]
  },
  {
   "cell_type": "code",
   "execution_count": null,
   "metadata": {},
   "outputs": [],
   "source": [
    "# Series manipulation\n",
    "\n",
    "obj4[\"Hamburg\"] = 1900000\n",
    "\n",
    "obj4\n",
    "## Hamburg 1900000.0\n",
    "## Göttingen 117665.0\n",
    "## Berlin 3574830.0\n",
    "## Hannover 532163.0\n",
    "## dtype: float64\n",
    "\n",
    "obj4[[\"Berlin\", \"Hannover\"]] = [3600000, 1100000]\n",
    "\n",
    "obj4\n",
    "## Hamburg 1900000.0\n",
    "## Göttingen 117665.0\n",
    "## Berlin 3600000.0\n",
    "## Hannover 1100000.0\n",
    "## dtype: float64"
   ]
  },
  {
   "attachments": {},
   "cell_type": "markdown",
   "metadata": {},
   "source": [
    "#### Detect missing data"
   ]
  },
  {
   "cell_type": "code",
   "execution_count": null,
   "metadata": {},
   "outputs": [],
   "source": [
    "# NaN\n",
    "\n",
    "pd.isnull(obj4)\n",
    "## Hamburg False\n",
    "## Göttingen False\n",
    "## Berlin False\n",
    "## Hannover False\n",
    "## dtype: bool\n",
    "\n",
    "pd.notnull(obj4)\n",
    "## Hamburg True\n",
    "## Göttingen True\n",
    "## Berlin True\n",
    "## Hannover True\n",
    "## dtype: bool"
   ]
  },
  {
   "attachments": {},
   "cell_type": "markdown",
   "metadata": {},
   "source": [
    "#### Align differently indexed data"
   ]
  },
  {
   "cell_type": "code",
   "execution_count": null,
   "metadata": {},
   "outputs": [],
   "source": [
    "# Data 1\n",
    "\n",
    "obj3\n",
    "## Göttingen 117665\n",
    "## Northeim 28920\n",
    "## Hannover 532163\n",
    "## Berlin 3574830\n",
    "## dtype: int64"
   ]
  },
  {
   "cell_type": "code",
   "execution_count": null,
   "metadata": {},
   "outputs": [],
   "source": [
    "# Data 2\n",
    "\n",
    "obj4\n",
    "## Hamburg 1900000.0\n",
    "## Göttingen 117665.0\n",
    "## Berlin 3600000.0\n",
    "## Hannover 1100000.0\n",
    "## dtype: float64"
   ]
  },
  {
   "cell_type": "code",
   "execution_count": null,
   "metadata": {},
   "outputs": [],
   "source": [
    "# Align data\n",
    "\n",
    "obj3 + obj4\n",
    "## Berlin 7174830.0\n",
    "## Göttingen 235330.0\n",
    "## Hamburg NaN\n",
    "## Hannover 1632163.0\n",
    "## Northeim NaN\n",
    "## dtype: float64"
   ]
  },
  {
   "attachments": {},
   "cell_type": "markdown",
   "metadata": {},
   "source": [
    "#### Naming Series"
   ]
  },
  {
   "cell_type": "code",
   "execution_count": null,
   "metadata": {},
   "outputs": [],
   "source": [
    "# Naming\n",
    "\n",
    "obj4.name = \"population\"\n",
    "obj4.index.name = \"city\"\n",
    "\n",
    "obj4\n",
    "## city\n",
    "## Hamburg 1900000.0\n",
    "## Göttingen 117665.0\n",
    "## Berlin 3600000.0\n",
    "## Hannover 1100000.0\n",
    "## Name: population, dtype: float64"
   ]
  },
  {
   "attachments": {},
   "cell_type": "markdown",
   "metadata": {},
   "source": [
    "### Dataframe"
   ]
  },
  {
   "cell_type": "code",
   "execution_count": null,
   "metadata": {},
   "outputs": [],
   "source": [
    "# String representation of a DataFrame\n",
    "\n",
    "## company price volume\n",
    "## 0 Daimler 69.20 4456290\n",
    "## 1 E.ON 8.11 3667975\n",
    "## 2 Siemens 110.92 3669487\n",
    "## 3 BASF 87.28 1778058\n",
    "## 4 BMW 87.81 1824582"
   ]
  },
  {
   "cell_type": "code",
   "execution_count": null,
   "metadata": {},
   "outputs": [],
   "source": [
    "# Creating a DataFrame\n",
    "\n",
    "data = {\"company\": [\"Daimler\", \"E.ON\", \"Siemens\", \"BASF\", \"BMW\"],\n",
    "        \"price\": [69.2, 8.11, 110.92, 87.28, 87.81],\n",
    "        \"volume\": [4456290, 3667975, 3669487, 1778058, 1824582]}\n",
    "\n",
    "frame = pd.DataFrame(data)\n",
    "\n",
    "frame\n",
    "## company price volume\n",
    "## 0 Daimler 69.20 4456290\n",
    "## 1 E.ON 8.11 3667975\n",
    "## 2 Siemens 110.92 3669487\n",
    "## 3 BASF 87.28 1778058\n",
    "## 4 BMW 87.81 1824582"
   ]
  },
  {
   "attachments": {},
   "cell_type": "markdown",
   "metadata": {},
   "source": [
    "#### Show DataFrames"
   ]
  },
  {
   "cell_type": "code",
   "execution_count": null,
   "metadata": {},
   "outputs": [],
   "source": [
    "# Print DataFrame\n",
    "\n",
    "frame2 = pd.DataFrame(data, columns=[\"company\", \"volume\",\n",
    "                                     \"price\", \"change\"])\n",
    "\n",
    "frame2\n",
    "## company volume price change\n",
    "## 0 Daimler 4456290 69.20 NaN\n",
    "## 1 E.ON 3667975 8.11 NaN\n",
    "## 2 Siemens 3669487 110.92 NaN\n",
    "## 3 BASF 1778058 87.28 NaN\n",
    "## 4 BMW 1824582 87.81 NaN"
   ]
  },
  {
   "attachments": {},
   "cell_type": "markdown",
   "metadata": {},
   "source": [
    "#### Inputs to DataFrame constructor\n",
    "\n",
    "|Type |Description|\n",
    "|--|--|\n",
    "|2D NumPy arrays| A matrix of data|\n",
    "|dict of arrays, lists, or tuples |Each sequence becomes a column|\n",
    "|dict of Series |Each value becomes a column|\n",
    "|dict of dicts |Each inner dict becomes a column|\n",
    "|List of dicts or Series |Each item becomes a row|\n",
    "|List of lists or tuples |Treated as the 2D NumPy arrays|\n",
    "|Another DataFrame |Same indexes|"
   ]
  },
  {
   "attachments": {},
   "cell_type": "markdown",
   "metadata": {},
   "source": [
    "#### Indexing and adding DataFrames"
   ]
  },
  {
   "cell_type": "code",
   "execution_count": null,
   "metadata": {},
   "outputs": [],
   "source": [
    "# Add data to DataFrame\n",
    "\n",
    "frame2[\"change\"] = [1.2, -3.2, 0.4, -0.12, 2.4]\n",
    "\n",
    "frame2[\"change\"]\n",
    "## 0 1.20\n",
    "## 1 -3.20\n",
    "## 2 0.40\n",
    "## 3 -0.12\n",
    "## 4 2.40\n",
    "## Name: change, dtype: float64"
   ]
  },
  {
   "attachments": {},
   "cell_type": "markdown",
   "metadata": {},
   "source": [
    "#### Indexing DataFrames"
   ]
  },
  {
   "cell_type": "code",
   "execution_count": null,
   "metadata": {},
   "outputs": [],
   "source": [
    "# Indexing DataFrames\n",
    "\n",
    "frame2[[\"company\", \"change\"]]\n",
    "## company change\n",
    "## 0 Daimler 1.20\n",
    "## 1 E.ON -3.20\n",
    "## 2 Siemens 0.40\n",
    "## 3 BASF -0.12\n",
    "## 4 BMW 2.40"
   ]
  },
  {
   "attachments": {},
   "cell_type": "markdown",
   "metadata": {},
   "source": [
    "#### Changing DataFrames"
   ]
  },
  {
   "cell_type": "code",
   "execution_count": null,
   "metadata": {},
   "outputs": [],
   "source": [
    "# DataFrame delete column\n",
    "\n",
    "del frame2[\"volume\"]\n",
    "\n",
    "frame2\n",
    "## company price change\n",
    "## 0 Daimler 69.20 1.20\n",
    "## 1 E.ON 8.11 -3.20\n",
    "## 2 Siemens 110.92 0.40\n",
    "## 3 BASF 87.28 -0.12\n",
    "## 4 BMW 87.81 2.40\n",
    "\n",
    "frame2.columns\n",
    "## Index(['company', 'price', 'change'], dtype='object')"
   ]
  },
  {
   "attachments": {},
   "cell_type": "markdown",
   "metadata": {},
   "source": [
    "#### Naming DataFrames"
   ]
  },
  {
   "cell_type": "code",
   "execution_count": null,
   "metadata": {},
   "outputs": [],
   "source": [
    "# Naming properties\n",
    "\n",
    "frame2.index.name = \"number:\"\n",
    "frame2.columns.name = \"feature:\"\n",
    "\n",
    "frame2\n",
    "## feature: company price change\n",
    "## number:\n",
    "## 0 Daimler 69.20 1.20\n",
    "## 1 E.ON 8.11 -3.20\n",
    "## 2 Siemens 110.92 0.40\n",
    "## 3 BASF 87.28 -0.12\n",
    "## 4 BMW 87.81 2.40"
   ]
  },
  {
   "attachments": {},
   "cell_type": "markdown",
   "metadata": {},
   "source": [
    "#### Reindexing"
   ]
  },
  {
   "cell_type": "code",
   "execution_count": null,
   "metadata": {},
   "outputs": [],
   "source": [
    "# Reindexing\n",
    "\n",
    "frame3 = frame.reindex([0, 2, 3, 4])\n",
    "\n",
    "frame3\n",
    "## company price volume\n",
    "## 0 Daimler 69.20 4456290\n",
    "## 2 Siemens 110.92 3669487\n",
    "## 3 BASF 87.28 1778058\n",
    "## 4 BMW 87.81 1824582"
   ]
  },
  {
   "cell_type": "code",
   "execution_count": null,
   "metadata": {},
   "outputs": [],
   "source": [
    "# Filling missing values\n",
    "\n",
    "frame4 = frame.reindex(index=[0, 2, 3, 4, 5], fill_value=0,\n",
    "columns=[\"company\", \"price\", \"market cap\"])\n",
    "\n",
    "frame4\n",
    "## company price market cap\n",
    "## 0 Daimler 69.20 0\n",
    "## 2 Siemens 110.92 0\n",
    "## 3 BASF 87.28 0\n",
    "## 4 BMW 87.81 0\n",
    "## 5 0 0.00 0\n",
    "\n",
    "frame4 = frame.reindex(index=[0, 2, 3, 4], fill_value=np.nan,\n",
    "columns=[\"company\", \"price\", \"market cap\"])\n",
    "\n",
    "frame4\n",
    "## company price market cap\n",
    "## 0 Daimler 69.20 NaN\n",
    "## 2 Siemens 110.92 NaN\n",
    "## 3 BASF 87.28 NaN\n",
    "## 4 BMW 87.81 NaN"
   ]
  },
  {
   "attachments": {},
   "cell_type": "markdown",
   "metadata": {},
   "source": [
    "#### Fill NaN"
   ]
  },
  {
   "cell_type": "code",
   "execution_count": null,
   "metadata": {},
   "outputs": [],
   "source": [
    "# Filling NaN\n",
    "\n",
    "frame4[:3]\n",
    "## company price market cap\n",
    "## 0 Daimler 69.20 NaN\n",
    "## 2 Siemens 110.92 NaN\n",
    "## 3 BASF 87.28 NaN\n",
    "\n",
    "frame4.fillna(1000000, inplace=True)\n",
    "\n",
    "frame4[:3]\n",
    "## company price market cap\n",
    "## 0 Daimler 69.20 1000000.0\n",
    "## 2 Siemens 110.92 1000000.0\n",
    "## 3 BASF 87.28 1000000.0"
   ]
  },
  {
   "attachments": {},
   "cell_type": "markdown",
   "metadata": {},
   "source": [
    "#### Dropping entries"
   ]
  },
  {
   "cell_type": "code",
   "execution_count": null,
   "metadata": {},
   "outputs": [],
   "source": [
    "# Dropping index\n",
    "\n",
    "frame5 = frame\n",
    "\n",
    "frame5\n",
    "## company price volume\n",
    "## 0 Daimler 69.20 4456290\n",
    "## 1 E.ON 8.11 3667975\n",
    "## 2 Siemens 110.92 3669487\n",
    "## 3 BASF 87.28 1778058\n",
    "## 4 BMW 87.81 1824582\n",
    "\n",
    "frame5.drop([1, 2])\n",
    "## company price volume\n",
    "## 0 Daimler 69.20 4456290\n",
    "## 3 BASF 87.28 1778058\n",
    "## 4 BMW 87.81 1824582"
   ]
  },
  {
   "cell_type": "code",
   "execution_count": null,
   "metadata": {},
   "outputs": [],
   "source": [
    "# Dropping column\n",
    "\n",
    "frame5[:2]\n",
    "## company price volume\n",
    "## 0 Daimler 69.20 4456290\n",
    "## 1 E.ON 8.11 3667975\n",
    "\n",
    "frame5.drop(\"price\", axis=1)[:3]\n",
    "## company volume\n",
    "## 0 Daimler 4456290\n",
    "## 1 E.ON 3667975\n",
    "## 2 Siemens 3669487\n",
    "\n",
    "frame5.drop(2, axis=0)\n",
    "## company price volume\n",
    "## 0 Daimler 69.20 4456290\n",
    "## 1 E.ON 8.11 3667975\n",
    "## 3 BASF 87.28 1778058\n",
    "## 4 BMW 87.81 1824582"
   ]
  },
  {
   "attachments": {},
   "cell_type": "markdown",
   "metadata": {},
   "source": [
    "#### Indexing, selecting and filtering"
   ]
  },
  {
   "cell_type": "code",
   "execution_count": null,
   "metadata": {},
   "outputs": [],
   "source": [
    "# Indexing\n",
    "\n",
    "frame\n",
    "## company price volume\n",
    "## 0 Daimler 69.20 4456290\n",
    "## 1 E.ON 8.11 3667975\n",
    "## 2 Siemens 110.92 3669487\n",
    "## 3 BASF 87.28 1778058\n",
    "## 4 BMW 87.81 1824582\n",
    "\n",
    "frame[2:]\n",
    "## company price volume\n",
    "## 2 Siemens 110.92 3669487\n",
    "## 3 BASF 87.28 1778058\n",
    "## 4 BMW 87.81 1824582"
   ]
  },
  {
   "cell_type": "code",
   "execution_count": null,
   "metadata": {},
   "outputs": [],
   "source": [
    "# Indexing\n",
    "\n",
    "frame6 = pd.DataFrame(data, index=[\"a\", \"b\", \"c\", \"d\", \"e\"])\n",
    "\n",
    "frame6\n",
    "## company price volume\n",
    "## a Daimler 69.20 4456290\n",
    "## b E.ON 8.11 3667975\n",
    "## c Siemens 110.92 3669487\n",
    "## d BASF 87.28 1778058\n",
    "## e BMW 87.81 1824582\n",
    "\n",
    "frame6[\"b\":\"d\"]\n",
    "## company price volume\n",
    "## b E.ON 8.11 3667975\n",
    "## c Siemens 110.92 3669487\n",
    "## d BASF 87.28 1778058"
   ]
  },
  {
   "cell_type": "code",
   "execution_count": null,
   "metadata": {},
   "outputs": [],
   "source": [
    "# Selection with loc and iloc\n",
    "\n",
    "frame6.loc[\"c\", [\"company\", \"price\"]]\n",
    "## company Siemens\n",
    "## price 110.92\n",
    "## Name: c, dtype: object\n",
    "\n",
    "frame6.iloc[2, [0, 1]]\n",
    "## company Siemens\n",
    "## price 110.92\n",
    "## Name: c, dtype: object"
   ]
  },
  {
   "cell_type": "code",
   "execution_count": null,
   "metadata": {},
   "outputs": [],
   "source": [
    "# Selection with loc and iloc\n",
    "\n",
    "frame6.loc[[\"c\", \"d\", \"e\"], [\"volume\", \"price\", \"company\"]]\n",
    "## volume price company\n",
    "## c 3669487 110.92 Siemens\n",
    "## d 1778058 87.28 BASF\n",
    "## e 1824582 87.81 BMW\n",
    "\n",
    "frame6.iloc[2:, ::-1]\n",
    "## volume price company\n",
    "## c 3669487 110.92 Siemens\n",
    "## d 1778058 87.28 BASF\n",
    "## e 1824582 87.81 BMW"
   ]
  },
  {
   "attachments": {},
   "cell_type": "markdown",
   "metadata": {},
   "source": [
    "#### DataFrame indexing options\n",
    "\n",
    "|Type |Description|\n",
    "|--|--|\n",
    "|df[val] |Select single column or set of columns|\n",
    "|df.loc[val] |Select single row or set of rows|\n",
    "|df.loc[:, val] |Select single column or set of columns|\n",
    "|df.loc[val1, val2] |Select row and column by label|\n",
    "|df.iloc[where] |Select row or set of rows by integer position|\n",
    "|df.iloc[:, where] |Select column or set of columns by integer pos.|\n",
    "|df.iloc[w1, w2] |Select row and column by integer position|"
   ]
  },
  {
   "attachments": {},
   "cell_type": "markdown",
   "metadata": {},
   "source": [
    "#### Hierarchical indexing"
   ]
  },
  {
   "cell_type": "code",
   "execution_count": null,
   "metadata": {},
   "outputs": [],
   "source": [
    "# Multiindex\n",
    "\n",
    "ind = [[\"a\", \"a\", \"a\", \"b\", \"b\"], [1, 2, 3, 1, 2]]\n",
    "frame6 = pd.DataFrame(np.arange(15).reshape((5, 3)), index=ind,\n",
    "columns=[\"first\", \"second\", \"third\"])\n",
    "\n",
    "frame6\n",
    "## first second third\n",
    "## a 1 0 1 2\n",
    "## 2 3 4 5\n",
    "## 3 6 7 8\n",
    "## b 1 9 10 11\n",
    "## 2 12 13 14\n",
    "\n",
    "frame6.index.names = [\"index1\", \"index2\"]\n",
    "\n",
    "frame6.index\n",
    "## MultiIndex([('a', 1),\n",
    "## ('a', 2),\n",
    "## ('a', 3),\n",
    "## ('b', 1),\n",
    "## ('b', 2)],\n",
    "## names=['index1', 'index2'])"
   ]
  },
  {
   "cell_type": "code",
   "execution_count": null,
   "metadata": {},
   "outputs": [],
   "source": [
    "# Selecting of a multiindex\n",
    "\n",
    "frame6.loc[\"a\"]\n",
    "## first second third\n",
    "## index2\n",
    "## 1 0 1 2\n",
    "## 2 3 4 5\n",
    "## 3 6 7 8\n",
    "\n",
    "frame6.loc[\"b\", 1]\n",
    "## first 9\n",
    "## second 10\n",
    "## third 11\n",
    "## Name: (b, 1), dtype: int64"
   ]
  },
  {
   "attachments": {},
   "cell_type": "markdown",
   "metadata": {},
   "source": [
    "#### Operations between DataFrame and Series"
   ]
  },
  {
   "cell_type": "code",
   "execution_count": null,
   "metadata": {},
   "outputs": [],
   "source": [
    "# Series and DataFrames\n",
    "\n",
    "frame7 = frame[[\"price\", \"volume\"]]\n",
    "frame7.index = [\"Daimler\", \"E.ON\", \"Siemens\", \"BASF\", \"BMW\"]\n",
    "series = frame7.iloc[2]\n",
    "\n",
    "frame7\n",
    "## price volume\n",
    "## Daimler 69.20 4456290\n",
    "## E.ON 8.11 3667975\n",
    "## Siemens 110.92 3669487\n",
    "## BASF 87.28 1778058\n",
    "## BMW 87.81 1824582\n",
    "\n",
    "series\n",
    "## price 110.92\n",
    "## volume 3669487.00\n",
    "## Name: Siemens, dtype: float64"
   ]
  },
  {
   "cell_type": "code",
   "execution_count": null,
   "metadata": {},
   "outputs": [],
   "source": [
    "# Operations between Series and DataFrames down the rows\n",
    "\n",
    "frame7 + series\n",
    "## price volume\n",
    "## Daimler 180.12 8125777.0\n",
    "## E.ON 119.03 7337462.0\n",
    "## Siemens 221.84 7338974.0\n",
    "## BASF 198.20 5447545.0\n",
    "## BMW 198.73 5494069.0"
   ]
  },
  {
   "cell_type": "code",
   "execution_count": null,
   "metadata": {},
   "outputs": [],
   "source": [
    "# Operations between Series and DataFrames down the columns\n",
    "\n",
    "series2 = frame7[\"price\"]\n",
    "\n",
    "frame7.add(series2, axis=0)\n",
    "## price volume\n",
    "## Daimler 138.40 4456359.20\n",
    "## E.ON 16.22 3667983.11\n",
    "## Siemens 221.84 3669597.92\n",
    "## BASF 174.56 1778145.28\n",
    "## BMW 175.62 1824669.81"
   ]
  },
  {
   "cell_type": "code",
   "execution_count": null,
   "metadata": {},
   "outputs": [],
   "source": [
    "# Pandas vs Numpy\n",
    "\n",
    "nparr = np.arange(12.).reshape((3, 4))\n",
    "row = nparr[0]\n",
    "\n",
    "nparr - row\n",
    "## array([[0., 0., 0., 0.],\n",
    "## [4., 4., 4., 4.],\n",
    "## [8., 8., 8., 8.]])"
   ]
  },
  {
   "attachments": {},
   "cell_type": "markdown",
   "metadata": {},
   "source": [
    "#### NumPy functions on DataFrames"
   ]
  },
  {
   "cell_type": "code",
   "execution_count": null,
   "metadata": {},
   "outputs": [],
   "source": [
    "# Numpy functions on DataFrames\n",
    "\n",
    "frame7[:2]\n",
    "## price volume\n",
    "## Daimler 69.20 4456290\n",
    "## E.ON 8.11 3667975\n",
    "\n",
    "frame7.apply(np.mean)\n",
    "## price 72.664\n",
    "## volume 3079278.400\n",
    "## dtype: float64\n",
    "\n",
    "frame7.apply(np.sqrt)[:2]\n",
    "## price volume\n",
    "## Daimler 8.318654 2110.992657\n",
    "## E.ON 2.847806 1915.195812"
   ]
  },
  {
   "attachments": {},
   "cell_type": "markdown",
   "metadata": {},
   "source": [
    "#### Grouping DataFrames"
   ]
  },
  {
   "cell_type": "code",
   "execution_count": null,
   "metadata": {},
   "outputs": [],
   "source": [
    "# Groupby\n",
    "\n",
    "vote = pd.read_csv(\"data/vote.csv\")[[\"Party\", \"Member\", \"Vote\"]]\n",
    "\n",
    "vote.head()\n",
    "## Party Member Vote\n",
    "## 0 CDU/CSU Abercron yes\n",
    "## 1 CDU/CSU Albani yes\n",
    "## 2 CDU/CSU Altenkamp yes\n",
    "## 3 CDU/CSU Altmaier absent\n",
    "## 4 CDU/CSU Amthor yes"
   ]
  },
  {
   "cell_type": "code",
   "execution_count": null,
   "metadata": {},
   "outputs": [],
   "source": [
    "res = vote.groupby([\"Party\", \"Vote\"]).count()\n",
    "\n",
    "res\n",
    "## Member\n",
    "## Party Vote\n",
    "## AfD absent 6\n",
    "## no 86\n",
    "## BÜ90/GR absent 9\n",
    "## no 58\n",
    "## CDU/CSU absent 7\n",
    "## yes 239\n",
    "## DIE LINKE. absent 7\n",
    "## no 62\n",
    "## FDP absent 5\n",
    "## no 75\n",
    "## Fraktionslos absent 1\n",
    "## no 1\n",
    "## SPD absent 6\n",
    "## yes 147"
   ]
  },
  {
   "attachments": {},
   "cell_type": "markdown",
   "metadata": {},
   "source": [
    "### Import/Export data"
   ]
  },
  {
   "cell_type": "code",
   "execution_count": null,
   "metadata": {},
   "outputs": [],
   "source": []
  },
  {
   "cell_type": "code",
   "execution_count": 2,
   "metadata": {},
   "outputs": [
    {
     "name": "stdout",
     "output_type": "stream",
     "text": [
      "Author: Caique Miranda\n",
      "\n",
      "Github username: caiquemiranda\n",
      "\n",
      "sys: 3.10.5 (tags/v3.10.5:f377153, Jun  6 2022, 16:14:13) [MSC v.1929 64 bit (AMD64)]\n",
      "\n"
     ]
    }
   ],
   "source": [
    "%reload_ext watermark\n",
    "%watermark -a \"Caique Miranda\" -gu \"caiquemiranda\" -iv"
   ]
  },
  {
   "attachments": {},
   "cell_type": "markdown",
   "metadata": {},
   "source": [
    "### END."
   ]
  },
  {
   "cell_type": "markdown",
   "metadata": {},
   "source": []
  }
 ],
 "metadata": {
  "kernelspec": {
   "display_name": "Python 3",
   "language": "python",
   "name": "python3"
  },
  "language_info": {
   "codemirror_mode": {
    "name": "ipython",
    "version": 3
   },
   "file_extension": ".py",
   "mimetype": "text/x-python",
   "name": "python",
   "nbconvert_exporter": "python",
   "pygments_lexer": "ipython3",
   "version": "3.10.5"
  },
  "orig_nbformat": 4,
  "vscode": {
   "interpreter": {
    "hash": "74af3d2f25f1e46ebd2903d59225d79e4675ec224d56c01fc30cd168c2010d53"
   }
  }
 },
 "nbformat": 4,
 "nbformat_minor": 2
}
