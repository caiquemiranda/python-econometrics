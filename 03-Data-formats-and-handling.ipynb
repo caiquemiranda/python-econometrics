{
 "cells": [
  {
   "attachments": {},
   "cell_type": "markdown",
   "metadata": {},
   "source": [
    "### Pandas package"
   ]
  },
  {
   "attachments": {},
   "cell_type": "markdown",
   "metadata": {},
   "source": [
    "#### Motivation"
   ]
  },
  {
   "cell_type": "code",
   "execution_count": null,
   "metadata": {},
   "outputs": [],
   "source": [
    "import pandas as pd\n",
    "import matplotlib.pyplot as plt\n",
    "\n",
    "fig = plt.figure()\n",
    "ax = fig.add_subplot(1, 1, 1)\n",
    "dow = pd.read_csv(\"data/dji.csv\", index_col=0, parse_dates=True)\n",
    "\n",
    "close = dow[\"Close\"]\n",
    "close.plot(ax=ax)\n",
    "\n",
    "ax.set_xlabel(\"Date\")\n",
    "ax.set_ylabel(\"Price\")\n",
    "ax.set_title(\"DJI\")\n",
    "\n",
    "fig.savefig(\"out/dji.pdf\", format=\"pdf\")"
   ]
  },
  {
   "attachments": {},
   "cell_type": "markdown",
   "metadata": {},
   "source": [
    "### Series"
   ]
  },
  {
   "cell_type": "code",
   "execution_count": null,
   "metadata": {},
   "outputs": [],
   "source": [
    "# String representation of a Series\n",
    "\n",
    "## 0 3\n",
    "## 1 7\n",
    "## 2 -8\n",
    "## 3 4\n",
    "## 4 26\n",
    "## dtype: int64"
   ]
  },
  {
   "attachments": {},
   "cell_type": "markdown",
   "metadata": {},
   "source": [
    "#### Create Series"
   ]
  },
  {
   "cell_type": "code",
   "execution_count": null,
   "metadata": {},
   "outputs": [],
   "source": [
    "# Importing Pandas and creating a Series\n",
    "\n",
    "import numpy as np\n",
    "import pandas as pd\n",
    "\n",
    "obj = pd.Series([2, -5, 9, 4])\n",
    "obj\n",
    "\n",
    "## 0 2\n",
    "## 1 -5\n",
    "## 2 9\n",
    "## 3 4\n",
    "## dtype: int64"
   ]
  },
  {
   "cell_type": "code",
   "execution_count": null,
   "metadata": {},
   "outputs": [],
   "source": [
    "# Series indexing vs. Numpy indexing\n",
    "\n",
    "obj2 = pd.Series([2, -5, 9, 4], index=[\"a\", \"b\", \"c\", \"d\"])\n",
    "npobj = np.array([2, -5, 9, 4])\n",
    "\n",
    "obj2\n",
    "## a 2\n",
    "## b -5\n",
    "## c 9\n",
    "## d 4\n",
    "## dtype: int64\n",
    "\n",
    "obj2[\"b\"]\n",
    "## -5\n",
    "\n",
    "npobj[1]\n",
    "## -5"
   ]
  },
  {
   "cell_type": "code",
   "execution_count": 4,
   "metadata": {},
   "outputs": [],
   "source": [
    "# Series creation from Numpy arrays\n",
    "\n",
    "npobj = np.array([2, -5, 9, 4])\n",
    "obj2 = pd.Series(npobj, index=[\"a\", \"b\", \"c\", \"d\"])\n",
    "\n",
    "obj2\n",
    "## a 2\n",
    "## b -5\n",
    "## c 9\n",
    "## d 4\n",
    "## dtype: int64# "
   ]
  },
  {
   "cell_type": "code",
   "execution_count": null,
   "metadata": {},
   "outputs": [],
   "source": [
    "# Series from dicts\n",
    "\n",
    "dictdata = {\"Göttingen\": 117665, \"Northeim\": 28920,\n",
    "            \"Hannover\": 532163, \"Berlin\": 3574830}\n",
    "\n",
    "obj3 = pd.Series(dictdata)\n",
    "\n",
    "obj3\n",
    "## Göttingen 117665\n",
    "## Northeim 28920\n",
    "## Hannover 532163\n",
    "## Berlin 3574830\n",
    "## dtype: int64"
   ]
  },
  {
   "cell_type": "code",
   "execution_count": null,
   "metadata": {},
   "outputs": [],
   "source": [
    "# Dict to Series with manual index\n",
    "\n",
    "cities = [\"Hamburg\", \"Göttingen\", \"Berlin\", \"Hannover\"]\n",
    "obj4 = pd.Series(dictdata, index=cities)\n",
    "\n",
    "obj4\n",
    "## Hamburg NaN\n",
    "## Göttingen 117665.0\n",
    "## Berlin 3574830.0\n",
    "## Hannover 532163.0\n",
    "## dtype: float64"
   ]
  },
  {
   "attachments": {},
   "cell_type": "markdown",
   "metadata": {},
   "source": [
    "#### Series properties"
   ]
  },
  {
   "cell_type": "code",
   "execution_count": null,
   "metadata": {},
   "outputs": [],
   "source": [
    "# Series properties\n",
    "\n",
    "obj.values\n",
    "## array([ 2, -5, 9, 4])\n",
    "\n",
    "obj.index\n",
    "## RangeIndex(start=0, stop=4, step=1)\n",
    "\n",
    "obj2.index\n",
    "## Index(['a', 'b', 'c', 'd'], dtype='object')"
   ]
  },
  {
   "attachments": {},
   "cell_type": "markdown",
   "metadata": {},
   "source": [
    "#### Selecting and manipulating values"
   ]
  },
  {
   "cell_type": "code",
   "execution_count": null,
   "metadata": {},
   "outputs": [],
   "source": [
    "# Series manipulation\n",
    "\n",
    "obj2[[\"c\", \"d\", \"a\"]]\n",
    "## c 9\n",
    "## d 4\n",
    "## a 2\n",
    "## dtype: int64\n",
    "\n",
    "obj2[obj2 < 0]\n",
    "## b -5\n",
    "## dtype: int64"
   ]
  },
  {
   "cell_type": "code",
   "execution_count": null,
   "metadata": {},
   "outputs": [],
   "source": [
    "# Series functions\n",
    "\n",
    "obj2 * 2\n",
    "## a 4\n",
    "## b -10\n",
    "## c 18\n",
    "## d 8\n",
    "## dtype: int64\n",
    "\n",
    "np.exp(obj2)[\"a\":\"c\"]\n",
    "## a 7.389056\n",
    "## b 0.006738\n",
    "## c 8103.083928\n",
    "## dtype: float64\n",
    "\n",
    "\"c\" in obj2\n",
    "## True"
   ]
  },
  {
   "cell_type": "code",
   "execution_count": null,
   "metadata": {},
   "outputs": [],
   "source": [
    "# Series manipulation\n",
    "\n",
    "obj4[\"Hamburg\"] = 1900000\n",
    "\n",
    "obj4\n",
    "## Hamburg 1900000.0\n",
    "## Göttingen 117665.0\n",
    "## Berlin 3574830.0\n",
    "## Hannover 532163.0\n",
    "## dtype: float64\n",
    "\n",
    "obj4[[\"Berlin\", \"Hannover\"]] = [3600000, 1100000]\n",
    "\n",
    "obj4\n",
    "## Hamburg 1900000.0\n",
    "## Göttingen 117665.0\n",
    "## Berlin 3600000.0\n",
    "## Hannover 1100000.0\n",
    "## dtype: float64"
   ]
  },
  {
   "attachments": {},
   "cell_type": "markdown",
   "metadata": {},
   "source": [
    "#### Detect missing data"
   ]
  },
  {
   "cell_type": "code",
   "execution_count": null,
   "metadata": {},
   "outputs": [],
   "source": [
    "# NaN\n",
    "\n",
    "pd.isnull(obj4)\n",
    "## Hamburg False\n",
    "## Göttingen False\n",
    "## Berlin False\n",
    "## Hannover False\n",
    "## dtype: bool\n",
    "\n",
    "pd.notnull(obj4)\n",
    "## Hamburg True\n",
    "## Göttingen True\n",
    "## Berlin True\n",
    "## Hannover True\n",
    "## dtype: bool"
   ]
  },
  {
   "attachments": {},
   "cell_type": "markdown",
   "metadata": {},
   "source": [
    "#### Align differently indexed data"
   ]
  },
  {
   "cell_type": "code",
   "execution_count": null,
   "metadata": {},
   "outputs": [],
   "source": [
    "# Data 1\n",
    "\n",
    "obj3\n",
    "## Göttingen 117665\n",
    "## Northeim 28920\n",
    "## Hannover 532163\n",
    "## Berlin 3574830\n",
    "## dtype: int64"
   ]
  },
  {
   "cell_type": "code",
   "execution_count": null,
   "metadata": {},
   "outputs": [],
   "source": [
    "# Data 2\n",
    "\n",
    "obj4\n",
    "## Hamburg 1900000.0\n",
    "## Göttingen 117665.0\n",
    "## Berlin 3600000.0\n",
    "## Hannover 1100000.0\n",
    "## dtype: float64"
   ]
  },
  {
   "cell_type": "code",
   "execution_count": null,
   "metadata": {},
   "outputs": [],
   "source": [
    "# Align data\n",
    "\n",
    "obj3 + obj4\n",
    "## Berlin 7174830.0\n",
    "## Göttingen 235330.0\n",
    "## Hamburg NaN\n",
    "## Hannover 1632163.0\n",
    "## Northeim NaN\n",
    "## dtype: float64"
   ]
  },
  {
   "attachments": {},
   "cell_type": "markdown",
   "metadata": {},
   "source": [
    "#### Naming Series"
   ]
  },
  {
   "cell_type": "code",
   "execution_count": null,
   "metadata": {},
   "outputs": [],
   "source": [
    "# Naming\n",
    "\n",
    "obj4.name = \"population\"\n",
    "obj4.index.name = \"city\"\n",
    "\n",
    "obj4\n",
    "## city\n",
    "## Hamburg 1900000.0\n",
    "## Göttingen 117665.0\n",
    "## Berlin 3600000.0\n",
    "## Hannover 1100000.0\n",
    "## Name: population, dtype: float64"
   ]
  },
  {
   "attachments": {},
   "cell_type": "markdown",
   "metadata": {},
   "source": [
    "### Dataframe"
   ]
  },
  {
   "cell_type": "code",
   "execution_count": null,
   "metadata": {},
   "outputs": [],
   "source": []
  },
  {
   "cell_type": "code",
   "execution_count": null,
   "metadata": {},
   "outputs": [],
   "source": []
  },
  {
   "cell_type": "code",
   "execution_count": null,
   "metadata": {},
   "outputs": [],
   "source": []
  },
  {
   "cell_type": "code",
   "execution_count": null,
   "metadata": {},
   "outputs": [],
   "source": []
  },
  {
   "cell_type": "code",
   "execution_count": null,
   "metadata": {},
   "outputs": [],
   "source": []
  },
  {
   "cell_type": "code",
   "execution_count": null,
   "metadata": {},
   "outputs": [],
   "source": []
  },
  {
   "cell_type": "code",
   "execution_count": null,
   "metadata": {},
   "outputs": [],
   "source": []
  },
  {
   "attachments": {},
   "cell_type": "markdown",
   "metadata": {},
   "source": [
    "### Import/Export data"
   ]
  },
  {
   "cell_type": "code",
   "execution_count": null,
   "metadata": {},
   "outputs": [],
   "source": []
  },
  {
   "cell_type": "code",
   "execution_count": 2,
   "metadata": {},
   "outputs": [
    {
     "name": "stdout",
     "output_type": "stream",
     "text": [
      "Author: Caique Miranda\n",
      "\n",
      "Github username: caiquemiranda\n",
      "\n",
      "sys: 3.10.5 (tags/v3.10.5:f377153, Jun  6 2022, 16:14:13) [MSC v.1929 64 bit (AMD64)]\n",
      "\n"
     ]
    }
   ],
   "source": [
    "%reload_ext watermark\n",
    "%watermark -a \"Caique Miranda\" -gu \"caiquemiranda\" -iv"
   ]
  },
  {
   "attachments": {},
   "cell_type": "markdown",
   "metadata": {},
   "source": [
    "### END."
   ]
  },
  {
   "cell_type": "markdown",
   "metadata": {},
   "source": []
  }
 ],
 "metadata": {
  "kernelspec": {
   "display_name": "Python 3",
   "language": "python",
   "name": "python3"
  },
  "language_info": {
   "codemirror_mode": {
    "name": "ipython",
    "version": 3
   },
   "file_extension": ".py",
   "mimetype": "text/x-python",
   "name": "python",
   "nbconvert_exporter": "python",
   "pygments_lexer": "ipython3",
   "version": "3.10.5"
  },
  "orig_nbformat": 4,
  "vscode": {
   "interpreter": {
    "hash": "74af3d2f25f1e46ebd2903d59225d79e4675ec224d56c01fc30cd168c2010d53"
   }
  }
 },
 "nbformat": 4,
 "nbformat_minor": 2
}
