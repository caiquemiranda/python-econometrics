{
 "cells": [
  {
   "attachments": {},
   "cell_type": "markdown",
   "metadata": {},
   "source": [
    "### Numpy package"
   ]
  },
  {
   "attachments": {},
   "cell_type": "markdown",
   "metadata": {},
   "source": [
    "#### The NumPy package"
   ]
  },
  {
   "cell_type": "code",
   "execution_count": 1,
   "metadata": {},
   "outputs": [],
   "source": [
    "# Import NumPy\n",
    "\n",
    "import numpy as np"
   ]
  },
  {
   "attachments": {},
   "cell_type": "markdown",
   "metadata": {},
   "source": [
    "#### Motivation"
   ]
  },
  {
   "cell_type": "code",
   "execution_count": 2,
   "metadata": {},
   "outputs": [
    {
     "data": {
      "text/plain": [
       "[2, 4, 6, 8, 10, 12, 14, 16, 18]"
      ]
     },
     "execution_count": 2,
     "metadata": {},
     "output_type": "execute_result"
    }
   ],
   "source": [
    "# Element-wise addition\n",
    "\n",
    "vec1 = [1, 2, 3, 4, 5, 6, 7, 8, 9]\n",
    "vec2 = np.array(vec1)\n",
    "\n",
    "vec1 + vec1\n",
    "## [1, 2, 3, 4, 5, 6, 7, 8, 9, 1, 2, 3, 4, 5, 6, 7, 8, 9]\n",
    "\n",
    "vec2 + vec2\n",
    "## array([ 2, 4, 6, 8, 10, 12, 14, 16, 18])\n",
    "\n",
    "for i in range(len(vec1)):\n",
    "    vec1[i] += vec1[i]\n",
    "\n",
    "vec1\n",
    "## [2, 4, 6, 8, 10, 12, 14, 16, 18]"
   ]
  },
  {
   "cell_type": "code",
   "execution_count": 3,
   "metadata": {},
   "outputs": [
    {
     "data": {
      "text/plain": [
       "array([[ 30.,  36.,  42.],\n",
       "       [ 66.,  81.,  96.],\n",
       "       [102., 126., 150.]])"
      ]
     },
     "execution_count": 3,
     "metadata": {},
     "output_type": "execute_result"
    }
   ],
   "source": [
    "# Matrix multiplication\n",
    "\n",
    "mat1 = [[1, 2, 3], [4, 5, 6], [7, 8, 9]]\n",
    "mat2 = np.array(mat1)\n",
    "\n",
    "np.dot(mat2, mat2)\n",
    "## array([[ 30, 36, 42],\n",
    "## [ 66, 81, 96],\n",
    "## [102, 126, 150]])\n",
    "\n",
    "mat3 = np.zeros([3, 3])\n",
    "\n",
    "for i in range(3):\n",
    "    for k in range(3):\n",
    "        for j in range(3):\n",
    "            mat3[i][k] = mat3[i][k] + mat1[i][j] * mat1[j][k]\n",
    "\n",
    "mat3\n",
    "## array([[ 30., 36., 42.],\n",
    "## [ 66., 81., 96.],\n",
    "## [102., 126., 150.]])"
   ]
  },
  {
   "cell_type": "code",
   "execution_count": 4,
   "metadata": {},
   "outputs": [
    {
     "name": "stdout",
     "output_type": "stream",
     "text": [
      "NumPy is 390.7556300910398 times faster!\n"
     ]
    }
   ],
   "source": [
    "# Time comparasion \n",
    "\n",
    "import time\n",
    "\n",
    "mat1 = np.random.rand(50, 50)\n",
    "mat2 = np.array(mat1)\n",
    "\n",
    "t = time.time()\n",
    "\n",
    "mat3 = np.dot(mat2, mat2)\n",
    "\n",
    "nptime = time.time() - t\n",
    "\n",
    "mat3 = np.zeros([50, 50])\n",
    "\n",
    "t = time.time()\n",
    "\n",
    "for i in range(50):\n",
    "    for k in range(50):\n",
    "        for j in range(50):\n",
    "            mat3[i][k] = mat3[i][k] + mat1[i][j] * mat1[j][k]\n",
    "\n",
    "pytime = time.time() - t\n",
    "\n",
    "times = str(pytime / nptime)\n",
    "\n",
    "print(\"NumPy is \" + times + \" times faster!\")\n",
    "\n",
    "## NumPy is 125.32703801099689  times faster!"
   ]
  },
  {
   "attachments": {},
   "cell_type": "markdown",
   "metadata": {},
   "source": [
    "### Array basic"
   ]
  },
  {
   "attachments": {},
   "cell_type": "markdown",
   "metadata": {},
   "source": [
    "#### Creating NumPy arrays"
   ]
  },
  {
   "cell_type": "code",
   "execution_count": 5,
   "metadata": {},
   "outputs": [
    {
     "data": {
      "text/plain": [
       "(3, 3)"
      ]
     },
     "execution_count": 5,
     "metadata": {},
     "output_type": "execute_result"
    }
   ],
   "source": [
    "# Creation\n",
    "\n",
    "arr1 = [4, 8, 2]\n",
    "arr1 = np.array(arr1)\n",
    "arr2 = np.array([24.3, 0., 8.9, 4.4, 1.65, 45])\n",
    "arr3 = np.array([[4, 8, 5], [9, 3, 4], [1, 0, 6]])\n",
    "\n",
    "arr1.ndim\n",
    "## 1\n",
    "\n",
    "arr3.shape\n",
    "## (3, 3)"
   ]
  },
  {
   "attachments": {},
   "cell_type": "markdown",
   "metadata": {},
   "source": [
    "#### Array creation functions"
   ]
  },
  {
   "cell_type": "code",
   "execution_count": 6,
   "metadata": {},
   "outputs": [
    {
     "data": {
      "text/plain": [
       "array([[1., 0., 0.],\n",
       "       [0., 1., 0.],\n",
       "       [0., 0., 1.]])"
      ]
     },
     "execution_count": 6,
     "metadata": {},
     "output_type": "execute_result"
    }
   ],
   "source": [
    "# Creation functions\n",
    "\n",
    "np.zeros((4, 3))\n",
    "## array([[0., 0., 0.],\n",
    "## [0., 0., 0.],\n",
    "## [0., 0., 0.],\n",
    "## [0., 0., 0.]])\n",
    "\n",
    "np.arange(6)\n",
    "## array([0, 1, 2, 3, 4, 5])\n",
    "\n",
    "np.identity(3)\n",
    "## array([[1., 0., 0.],\n",
    "## [0., 1., 0.],\n",
    "## [0., 0., 1.]])"
   ]
  },
  {
   "cell_type": "code",
   "execution_count": 7,
   "metadata": {},
   "outputs": [
    {
     "data": {
      "text/plain": [
       "array([[7, 7, 7, 7],\n",
       "       [7, 7, 7, 7],\n",
       "       [7, 7, 7, 7],\n",
       "       [7, 7, 7, 7],\n",
       "       [7, 7, 7, 7]])"
      ]
     },
     "execution_count": 7,
     "metadata": {},
     "output_type": "execute_result"
    }
   ],
   "source": [
    "# Array creation\n",
    "\n",
    "np.linspace(0, 80, 5)\n",
    "## array([ 0., 20., 40., 60., 80.])\n",
    "\n",
    "np.full((5, 4), 7)\n",
    "## array([[7, 7, 7, 7],\n",
    "## [7, 7, 7, 7],\n",
    "## [7, 7, 7, 7],\n",
    "## [7, 7, 7, 7],\n",
    "## [7, 7, 7, 7]])"
   ]
  },
  {
   "cell_type": "code",
   "execution_count": 8,
   "metadata": {},
   "outputs": [
    {
     "data": {
      "text/plain": [
       "array([[2, 3, 1, 3],\n",
       "       [9, 0, 6, 9],\n",
       "       [3, 9, 7, 3],\n",
       "       [6, 2, 4, 6],\n",
       "       [3, 6, 3, 3]])"
      ]
     },
     "execution_count": 8,
     "metadata": {},
     "output_type": "execute_result"
    }
   ],
   "source": [
    "# Array of random numbers\n",
    "\n",
    "np.random.rand(3, 3)\n",
    "## array([[0.01014591, 0.55955228, 0.48103055],\n",
    "## [0.30368877, 0.99078572, 0.61537046],\n",
    "## [0.83572553, 0.45976471, 0.63241975]])\n",
    "\n",
    "np.random.randint(10, size=(5, 4))\n",
    "## array([[7, 9, 7, 8],\n",
    "## [0, 6, 7, 5],\n",
    "## [7, 3, 4, 7],\n",
    "## [9, 4, 4, 8],\n",
    "## [8, 0, 6, 1]])"
   ]
  },
  {
   "attachments": {},
   "cell_type": "markdown",
   "metadata": {},
   "source": [
    "##### Copy arrays"
   ]
  },
  {
   "cell_type": "code",
   "execution_count": 9,
   "metadata": {},
   "outputs": [],
   "source": [
    "# Reference\n",
    "\n",
    "arr3\n",
    "## array([[4, 8, 5],\n",
    "## [9, 3, 4],\n",
    "## [1, 0, 6]])\n",
    "\n",
    "arr = arr3\n",
    "arr[1, 1] = 777\n",
    "arr3\n",
    "\n",
    "## array([[ 4, 8, 5],\n",
    "## [ 9, 777, 4],\n",
    "## [ 1, 0, 6]])\n",
    "\n",
    "arr3[1, 1] = 3"
   ]
  },
  {
   "cell_type": "code",
   "execution_count": 10,
   "metadata": {},
   "outputs": [],
   "source": [
    "# Copy\n",
    "\n",
    "arr3\n",
    "## array([[4, 8, 5],\n",
    "## [9, 3, 4],\n",
    "## [1, 0, 6]])\n",
    "\n",
    "arr = arr3.copy()\n",
    "arr[1, 1] = 777\n",
    "arr3\n",
    "\n",
    "## array([[4, 8, 5],\n",
    "## [9, 3, 4],\n",
    "## [1, 0, 6]])\n",
    "\n",
    "# Reference\n",
    "\n",
    "arr3\n",
    "## array([[4, 8, 5],\n",
    "## [9, 3, 4],\n",
    "## [1, 0, 6]])\n",
    "\n",
    "arr = arr3\n",
    "arr[1, 1] = 777\n",
    "arr3\n",
    "\n",
    "## array([[ 4, 8, 5],\n",
    "## [ 9, 777, 4],\n",
    "## [ 1, 0, 6]])\n",
    "\n",
    "arr3[1, 1] = 3"
   ]
  },
  {
   "attachments": {},
   "cell_type": "markdown",
   "metadata": {},
   "source": [
    "#### Overview: Array creation functions"
   ]
  },
  {
   "attachments": {},
   "cell_type": "markdown",
   "metadata": {},
   "source": [
    "|Function|Description|\n",
    "|--|--|\n",
    "|array |Convert input array in NumPy array|\n",
    "|arange(start,stop,step) |Creates array from given input\\\n",
    "|ones |Creates array containing only ones|\n",
    "|zeros |Creates array containing only zeros|\n",
    "|empty |Allocating memory without specific values|\n",
    "|eye, identity |Creates N x N identity matrix|\n",
    "|linspace |Creates array of evenly divided values|\n",
    "|full |Creates array with values set to one number|\n",
    "|random.rand |Creates array of random floats|\n",
    "|random.randint |Creates array of random int|"
   ]
  },
  {
   "attachments": {},
   "cell_type": "markdown",
   "metadata": {},
   "source": [
    "#### Data types of arrays"
   ]
  },
  {
   "cell_type": "code",
   "execution_count": 11,
   "metadata": {},
   "outputs": [
    {
     "data": {
      "text/plain": [
       "dtype('int64')"
      ]
     },
     "execution_count": 11,
     "metadata": {},
     "output_type": "execute_result"
    }
   ],
   "source": [
    "# Data types\n",
    "\n",
    "arr1.dtype\n",
    "## dtype('int64')\n",
    "\n",
    "arr2.dtype\n",
    "## dtype('float64')\n",
    "\n",
    "arr1 = arr1 * 2.5\n",
    "arr1.dtype\n",
    "## dtype('float64')\n",
    "\n",
    "arr1 = (arr1 / 2.5).astype(np.int64)\n",
    "arr1.dtype\n",
    "## dtype('int64')"
   ]
  },
  {
   "attachments": {},
   "cell_type": "markdown",
   "metadata": {},
   "source": [
    "#### Array operations"
   ]
  },
  {
   "cell_type": "code",
   "execution_count": 12,
   "metadata": {},
   "outputs": [
    {
     "data": {
      "text/plain": [
       "array([[16, 64, 25],\n",
       "       [81,  9, 16],\n",
       "       [ 1,  0, 36]])"
      ]
     },
     "execution_count": 12,
     "metadata": {},
     "output_type": "execute_result"
    }
   ],
   "source": [
    "# Element-wise operations\n",
    "\n",
    "arr3\n",
    "## array([[4, 8, 5],\n",
    "## [9, 3, 4],\n",
    "## [1, 0, 6]])\n",
    "\n",
    "arr3 + arr3\n",
    "## array([[ 8, 16, 10],\n",
    "## [18, 6, 8],\n",
    "## [ 2, 0, 12]])\n",
    "\n",
    "arr3**2\n",
    "## array([[16, 64, 25],\n",
    "## [81, 9, 16],\n",
    "## [ 1, 0, 36]])"
   ]
  },
  {
   "cell_type": "code",
   "execution_count": null,
   "metadata": {},
   "outputs": [],
   "source": [
    "# Element-wise operations\n",
    "\n",
    "arr3 * arr3\n",
    "## array([[16, 64, 25],\n",
    "## [81, 9, 16],\n",
    "## [ 1, 0, 36]])\n",
    "\n",
    "arr = np.ones((3, 2))\n",
    "\n",
    "arr\n",
    "## array([[1., 1.],\n",
    "## [1., 1.],\n",
    "## [1., 1.]])\n",
    "\n",
    "arr3 * arr # not defined for element-wise multiplication\n",
    "\n",
    "## ValueError: operands could not be broadcast together"
   ]
  },
  {
   "attachments": {},
   "cell_type": "markdown",
   "metadata": {},
   "source": [
    "#### Integer indexing"
   ]
  },
  {
   "cell_type": "code",
   "execution_count": 14,
   "metadata": {},
   "outputs": [
    {
     "data": {
      "text/plain": [
       "9"
      ]
     },
     "execution_count": 14,
     "metadata": {},
     "output_type": "execute_result"
    }
   ],
   "source": [
    "# Indexing with an integer\n",
    "\n",
    "arr = np.arange(10)\n",
    "\n",
    "arr\n",
    "## array([0, 1, 2, 3, 4, 5, 6, 7, 8, 9])\n",
    "\n",
    "arr[4]\n",
    "## 4\n",
    "\n",
    "arr[-1]\n",
    "## 9"
   ]
  },
  {
   "attachments": {},
   "cell_type": "markdown",
   "metadata": {},
   "source": [
    "#### Slicing"
   ]
  },
  {
   "cell_type": "code",
   "execution_count": 15,
   "metadata": {},
   "outputs": [
    {
     "data": {
      "text/plain": [
       "array([1, 2, 3, 4, 5, 6, 7, 8, 9])"
      ]
     },
     "execution_count": 15,
     "metadata": {},
     "output_type": "execute_result"
    }
   ],
   "source": [
    "# Slicing in one dimension\n",
    "\n",
    "arr = np.arange(10)\n",
    "\n",
    "arr\n",
    "## array([0, 1, 2, 3, 4, 5, 6, 7, 8, 9])\n",
    "\n",
    "arr[3:7]\n",
    "## array([3, 4, 5, 6])\n",
    "\n",
    "arr[1:]\n",
    "## array([1, 2, 3, 4, 5, 6, 7, 8, 9])"
   ]
  },
  {
   "cell_type": "code",
   "execution_count": 16,
   "metadata": {},
   "outputs": [
    {
     "data": {
      "text/plain": [
       "array([9, 8, 7, 6])"
      ]
     },
     "execution_count": 16,
     "metadata": {},
     "output_type": "execute_result"
    }
   ],
   "source": [
    "# Slicing in one dimension with steps\n",
    "\n",
    "arr[:7]\n",
    "## array([0, 1, 2, 3, 4, 5, 6])\n",
    "\n",
    "arr[-3:]\n",
    "## array([7, 8, 9])\n",
    "\n",
    "arr[::-1]\n",
    "## array([9, 8, 7, 6, 5, 4, 3, 2, 1, 0])\n",
    "\n",
    "arr[::2]\n",
    "## array([0, 2, 4, 6, 8])\n",
    "\n",
    "arr[:5:-1]\n",
    "## array([9, 8, 7, 6])"
   ]
  },
  {
   "cell_type": "code",
   "execution_count": 17,
   "metadata": {},
   "outputs": [
    {
     "data": {
      "text/plain": [
       "array([1, 0, 6])"
      ]
     },
     "execution_count": 17,
     "metadata": {},
     "output_type": "execute_result"
    }
   ],
   "source": [
    "# Indexing rows\n",
    "\n",
    "arr3\n",
    "## array([[4, 8, 5],\n",
    "## [9, 3, 4],\n",
    "## [1, 0, 6]])\n",
    "\n",
    "vec = arr3[1]\n",
    "\n",
    "vec\n",
    "## array([9, 3, 4])\n",
    "\n",
    "arr3[-1]\n",
    "## array([1, 0, 6])"
   ]
  },
  {
   "cell_type": "code",
   "execution_count": 18,
   "metadata": {},
   "outputs": [
    {
     "data": {
      "text/plain": [
       "array([[1, 0, 6]])"
      ]
     },
     "execution_count": 18,
     "metadata": {},
     "output_type": "execute_result"
    }
   ],
   "source": [
    "# Slicing in two dimensions\n",
    "\n",
    "arr3\n",
    "## array([[4, 8, 5],\n",
    "## [9, 3, 4],\n",
    "## [1, 0, 6]])\n",
    "\n",
    "arr3[0:2, 0:2]\n",
    "## array([[4, 8],\n",
    "## [9, 3]])\n",
    "\n",
    "arr3[2:, :]\n",
    "## array([[1, 0, 6]])"
   ]
  },
  {
   "attachments": {},
   "cell_type": "markdown",
   "metadata": {},
   "source": [
    "#### Creating views implicitly"
   ]
  },
  {
   "cell_type": "code",
   "execution_count": 19,
   "metadata": {},
   "outputs": [
    {
     "data": {
      "text/plain": [
       "array([[  4,   8,   5],\n",
       "       [  9, 100,   4],\n",
       "       [  1,   0,   6]])"
      ]
     },
     "execution_count": 19,
     "metadata": {},
     "output_type": "execute_result"
    }
   ],
   "source": [
    "# Create a view by slicing\n",
    "\n",
    "column = arr3[:, 1]\n",
    "\n",
    "column\n",
    "## array([8, 3, 0])\n",
    "\n",
    "column.base\n",
    "## array([[4, 8, 5],\n",
    "## [9, 3, 4],\n",
    "## [1, 0, 6]])\n",
    "\n",
    "column[1] = 100\n",
    "\n",
    "arr3\n",
    "## array([[ 4, 8, 5],\n",
    "## [ 9, 100, 4],\n",
    "## [ 1, 0, 6]])"
   ]
  },
  {
   "attachments": {},
   "cell_type": "markdown",
   "metadata": {},
   "source": [
    "#### Creating views implicitly"
   ]
  },
  {
   "cell_type": "code",
   "execution_count": 20,
   "metadata": {},
   "outputs": [
    {
     "data": {
      "text/plain": [
       "array([[4, 8, 5],\n",
       "       [9, 3, 4],\n",
       "       [1, 0, 6]])"
      ]
     },
     "execution_count": 20,
     "metadata": {},
     "output_type": "execute_result"
    }
   ],
   "source": [
    "# Create a view by slicing\n",
    "\n",
    "elem = column[1:2]\n",
    "\n",
    "elem.base\n",
    "## array([[ 4, 8, 5],\n",
    "## [ 9, 100, 4],\n",
    "## [ 1, 0, 6]])\n",
    "\n",
    "elem[0] = 3\n",
    "\n",
    "arr3\n",
    "## array([[4, 8, 5],\n",
    "## [9, 3, 4],\n",
    "## [1, 0, 6]])"
   ]
  },
  {
   "attachments": {},
   "cell_type": "markdown",
   "metadata": {},
   "source": [
    "#### Obtaining views explicitly"
   ]
  },
  {
   "cell_type": "code",
   "execution_count": 21,
   "metadata": {},
   "outputs": [
    {
     "data": {
      "text/plain": [
       "False"
      ]
     },
     "execution_count": 21,
     "metadata": {},
     "output_type": "execute_result"
    }
   ],
   "source": [
    "# Obtain a view\n",
    "\n",
    "arr3_t = arr3.T\n",
    "\n",
    "arr3_t\n",
    "## array([[4, 9, 1],\n",
    "## [8, 3, 0],\n",
    "## [5, 4, 6]])\n",
    "\n",
    "arr3_t.flags.owndata\n",
    "## False\n",
    "\n",
    "arr3_r = arr3.reshape(1, 9)\n",
    "\n",
    "arr3_r\n",
    "## array([[4, 8, 5, 9, 3, 4, 1, 0, 6]])\n",
    "\n",
    "arr3_t.flags.owndata\n",
    "## False"
   ]
  },
  {
   "attachments": {},
   "cell_type": "markdown",
   "metadata": {},
   "source": [
    "#### Obtaining views explicitly"
   ]
  },
  {
   "cell_type": "code",
   "execution_count": 22,
   "metadata": {},
   "outputs": [
    {
     "data": {
      "text/plain": [
       "False"
      ]
     },
     "execution_count": 22,
     "metadata": {},
     "output_type": "execute_result"
    }
   ],
   "source": [
    "# Obtain a view\n",
    "\n",
    "arr3_v = arr3.view()\n",
    "\n",
    "arr3_v.flags.owndata\n",
    "## False"
   ]
  },
  {
   "attachments": {},
   "cell_type": "markdown",
   "metadata": {},
   "source": [
    "#### Fancy indexing"
   ]
  },
  {
   "cell_type": "code",
   "execution_count": 23,
   "metadata": {},
   "outputs": [],
   "source": [
    "# Advanced and basic indexing\n",
    "\n",
    "arr3\n",
    "## array([[4, 8, 5],\n",
    "## [9, 3, 4],\n",
    "## [1, 0, 6]])\n",
    "\n",
    "arr = arr3[[0, 2], [0, 2]]\n",
    "\n",
    "arr\n",
    "## array([4, 6])\n",
    "\n",
    "arr.base"
   ]
  },
  {
   "cell_type": "code",
   "execution_count": 24,
   "metadata": {},
   "outputs": [
    {
     "data": {
      "text/plain": [
       "array([[4, 8, 5],\n",
       "       [9, 3, 4],\n",
       "       [1, 0, 6]])"
      ]
     },
     "execution_count": 24,
     "metadata": {},
     "output_type": "execute_result"
    }
   ],
   "source": [
    "# Advanced and basic indexing\n",
    "\n",
    "arr = arr3[0:3:2, 0:3:2]\n",
    "\n",
    "arr\n",
    "## array([[4, 5],\n",
    "## [1, 6]])\n",
    "\n",
    "arr.base\n",
    "## array([[4, 8, 5],\n",
    "## [9, 3, 4],\n",
    "## [1, 0, 6]])"
   ]
  },
  {
   "attachments": {},
   "cell_type": "markdown",
   "metadata": {},
   "source": [
    "#### Boolean arrays"
   ]
  },
  {
   "cell_type": "code",
   "execution_count": 25,
   "metadata": {},
   "outputs": [
    {
     "data": {
      "text/plain": [
       "array([[False, False, False],\n",
       "       [False, False, False],\n",
       "       [False,  True, False]])"
      ]
     },
     "execution_count": 25,
     "metadata": {},
     "output_type": "execute_result"
    }
   ],
   "source": [
    "# Boolean arrays\n",
    "\n",
    "bool_arr = (arr3 < 5)\n",
    "\n",
    "bool_arr\n",
    "## array([[ True, False, False],\n",
    "## [False, True, True],\n",
    "## [ True, True, False]])\n",
    "\n",
    "bool_arr1 = (arr3 == 0)\n",
    "\n",
    "bool_arr1\n",
    "## array([[False, False, False],\n",
    "## [False, False, False],\n",
    "## [False, True, False]])"
   ]
  },
  {
   "attachments": {},
   "cell_type": "markdown",
   "metadata": {},
   "source": [
    "#### Boolean arrays"
   ]
  },
  {
   "cell_type": "code",
   "execution_count": 26,
   "metadata": {},
   "outputs": [
    {
     "data": {
      "text/plain": [
       "array([False, False,  True, False,  True, False,  True])"
      ]
     },
     "execution_count": 26,
     "metadata": {},
     "output_type": "execute_result"
    }
   ],
   "source": [
    "# Boolean arrays and bitwise operators\n",
    "\n",
    "a = np.array([3, 8, 4, 1, 9, 5, 2])\n",
    "b = np.array([2, 3, 5, 6, 11, 15, 17])\n",
    "c = (a % 2 == 0) | (b % 3 == 0) # or\n",
    "\n",
    "c\n",
    "## array([False, True, True, True, False, True, True])\n",
    "\n",
    "d = (a > b) ^ (a % 2 == 1) # exclusive or\n",
    "d\n",
    "## array([False, True, False, True, True, True, False])\n",
    "\n",
    "c ^ d # exclusive or\n",
    "## array([False, False, True, False, True, False, True])"
   ]
  },
  {
   "attachments": {},
   "cell_type": "markdown",
   "metadata": {},
   "source": [
    "#### Indexing with boolean arrays"
   ]
  },
  {
   "cell_type": "code",
   "execution_count": 27,
   "metadata": {},
   "outputs": [
    {
     "data": {
      "text/plain": [
       "array([4, 8, 4, 0, 6])"
      ]
     },
     "execution_count": 27,
     "metadata": {},
     "output_type": "execute_result"
    }
   ],
   "source": [
    "# Indexing with boolean arrays\n",
    "\n",
    "arr3\n",
    "## array([[4, 8, 5],\n",
    "## [9, 3, 4],\n",
    "## [1, 0, 6]])\n",
    "\n",
    "y = arr3 % 2 == 0\n",
    "\n",
    "y\n",
    "## array([[ True, True, False],\n",
    "## [False, False, True],\n",
    "## [False, True, True]])\n",
    "\n",
    "arr3[y]\n",
    "## array([4, 8, 4, 0, 6])"
   ]
  },
  {
   "attachments": {},
   "cell_type": "markdown",
   "metadata": {},
   "source": [
    "#### Conditional indexing"
   ]
  },
  {
   "cell_type": "code",
   "execution_count": 28,
   "metadata": {},
   "outputs": [
    {
     "data": {
      "text/plain": [
       "True"
      ]
     },
     "execution_count": 28,
     "metadata": {},
     "output_type": "execute_result"
    }
   ],
   "source": [
    "# Find and replace values in arrays\n",
    "\n",
    "a, b = arr3.copy(), arr3.copy()\n",
    "\n",
    "for i in range(a.shape[0]):\n",
    "    for j in range(a.shape[1]):\n",
    "        if a[i, j] % 2 == 0:\n",
    "            a[i, j] = 5\n",
    "\n",
    "b[b % 2 == 0] = 5\n",
    "\n",
    "b\n",
    "## array([[5, 5, 5],\n",
    "## [9, 3, 5],\n",
    "## [1, 5, 5]])\n",
    "\n",
    "np.allclose(a, b)\n",
    "## True"
   ]
  },
  {
   "cell_type": "code",
   "execution_count": 29,
   "metadata": {},
   "outputs": [
    {
     "data": {
      "text/plain": [
       "array([[100,   8,   5],\n",
       "       [  9,   3, 100],\n",
       "       [  1,   0,   6]])"
      ]
     },
     "execution_count": 29,
     "metadata": {},
     "output_type": "execute_result"
    }
   ],
   "source": [
    "# Find and replace values in arrays, condition: equal\n",
    "\n",
    "arr3\n",
    "## array([[4, 8, 5],\n",
    "## [9, 3, 4],\n",
    "## [1, 0, 6]])\n",
    "\n",
    "arr = arr3.copy()\n",
    "\n",
    "arr[arr == 4] = 100\n",
    "\n",
    "arr\n",
    "## array([[100, 8, 5],\n",
    "## [ 9, 3, 100],\n",
    "## [ 1, 0, 6]])"
   ]
  },
  {
   "attachments": {},
   "cell_type": "markdown",
   "metadata": {},
   "source": [
    "#### Best practice: Indexing arrays"
   ]
  },
  {
   "cell_type": "code",
   "execution_count": 30,
   "metadata": {},
   "outputs": [
    {
     "data": {
      "text/plain": [
       "3"
      ]
     },
     "execution_count": 30,
     "metadata": {},
     "output_type": "execute_result"
    }
   ],
   "source": [
    "# Best practice Step 1a\n",
    "\n",
    "mat = np.arange(12).reshape((3, 4))\n",
    "\n",
    "mat\n",
    "## array([[ 0, 1, 2, 3],\n",
    "## [ 4, 5, 6, 7],\n",
    "## [ 8, 9, 10, 11]])\n",
    "\n",
    "mat[2, 2]\n",
    "## 10\n",
    "\n",
    "mat[0, -1]\n",
    "## 3"
   ]
  },
  {
   "cell_type": "code",
   "execution_count": 31,
   "metadata": {},
   "outputs": [
    {
     "data": {
      "text/plain": [
       "array([0, 1, 2, 3])"
      ]
     },
     "execution_count": 31,
     "metadata": {},
     "output_type": "execute_result"
    }
   ],
   "source": [
    "# Best practice Step 1b\n",
    "\n",
    "mat = np.arange(12).reshape((3, 4))\n",
    "\n",
    "mat\n",
    "## array([[ 0, 1, 2, 3],\n",
    "## [ 4, 5, 6, 7],\n",
    "## [ 8, 9, 10, 11]])\n",
    "\n",
    "mat[2]\n",
    "## array([ 8, 9, 10, 11])\n",
    "\n",
    "mat[0]\n",
    "## array([0, 1, 2, 3])"
   ]
  },
  {
   "cell_type": "code",
   "execution_count": 32,
   "metadata": {},
   "outputs": [
    {
     "data": {
      "text/plain": [
       "array([[0, 2],\n",
       "       [4, 6]])"
      ]
     },
     "execution_count": 32,
     "metadata": {},
     "output_type": "execute_result"
    }
   ],
   "source": [
    "# Best practice Step 2a\n",
    "\n",
    "mat = np.arange(12).reshape((3, 4))\n",
    "\n",
    "mat\n",
    "## array([[ 0, 1, 2, 3],\n",
    "## [ 4, 5, 6, 7],\n",
    "## [ 8, 9, 10, 11]])\n",
    "\n",
    "mat[0:2]\n",
    "## array([[0, 1, 2, 3],\n",
    "## [4, 5, 6, 7]])\n",
    "\n",
    "mat[0:2, ::2]\n",
    "## array([[0, 2],\n",
    "## [4, 6]])"
   ]
  },
  {
   "cell_type": "code",
   "execution_count": 33,
   "metadata": {},
   "outputs": [
    {
     "data": {
      "text/plain": [
       "array([ 2,  6, 10])"
      ]
     },
     "execution_count": 33,
     "metadata": {},
     "output_type": "execute_result"
    }
   ],
   "source": [
    "# Best practice Step 2b\n",
    "\n",
    "mat\n",
    "## array([[ 0, 1, 2, 3],\n",
    "## [ 4, 5, 6, 7],\n",
    "## [ 8, 9, 10, 11]])\n",
    "\n",
    "row = mat[1] # get second row\n",
    "column = mat[:, 2] # get third column\n",
    "\n",
    "row\n",
    "## array([4, 5, 6, 7])\n",
    "\n",
    "column\n",
    "## array([ 2, 6, 10])"
   ]
  },
  {
   "cell_type": "code",
   "execution_count": 34,
   "metadata": {},
   "outputs": [
    {
     "data": {
      "text/plain": [
       "array([ 3, 11])"
      ]
     },
     "execution_count": 34,
     "metadata": {},
     "output_type": "execute_result"
    }
   ],
   "source": [
    "# Best pratice 3\n",
    "\n",
    "mat = np.arange(12).reshape((3, 4))\n",
    "\n",
    "mat\n",
    "## array([[ 0, 1, 2, 3],\n",
    "## [ 4, 5, 6, 7],\n",
    "## [ 8, 9, 10, 11]])\n",
    "\n",
    "mat[[1, 2], [1, 2]]\n",
    "## array([ 5, 10])\n",
    "\n",
    "mat[[0, -1], [-1]]\n",
    "## array([ 3, 11])"
   ]
  },
  {
   "cell_type": "code",
   "execution_count": 35,
   "metadata": {},
   "outputs": [
    {
     "data": {
      "text/plain": [
       "array([[  0, 111, 111, 111],\n",
       "       [111, 111, 111, 111],\n",
       "       [111, 111, 111, 111]])"
      ]
     },
     "execution_count": 35,
     "metadata": {},
     "output_type": "execute_result"
    }
   ],
   "source": [
    "# Best practice Step 4\n",
    "\n",
    "bool_mat = mat > 0\n",
    "\n",
    "bool_mat\n",
    "## array([[False, True, True, True],\n",
    "## [ True, True, True, True],\n",
    "## [ True, True, True, True]])\n",
    "\n",
    "mat[bool_mat] = 111 # equivalent to mat[mat > 0] = 111\n",
    "\n",
    "mat\n",
    "## array([[ 0, 111, 111, 111],\n",
    "## [111, 111, 111, 111],\n",
    "## [111, 111, 111, 111]])"
   ]
  },
  {
   "cell_type": "code",
   "execution_count": null,
   "metadata": {},
   "outputs": [],
   "source": [
    "# Best practice Step 5\n",
    "\n",
    "mat[0] = np.array([3, 2, 1]) # Fails because the shapes do not fit\n",
    "## Error: could not broadcast array from shape (3) into shape (4)\n",
    "\n",
    "mat[2, 3] = 100\n",
    "mat[:, 0] = np.array([3, 3, 3])\n",
    "\n",
    "mat\n",
    "## array([[ 3, 111, 111, 111],\n",
    "## [ 3, 111, 111, 111],\n",
    "## [ 3, 111, 111, 100]])\n",
    "\n",
    "mat[1:3, 1:3] = np.array([[0, 0], [0, 0]])\n",
    "\n",
    "mat\n",
    "## array([[ 3, 111, 111, 111],\n",
    "## [ 3, 0, 0, 111],\n",
    "## [ 3, 0, 0, 100]])"
   ]
  },
  {
   "attachments": {},
   "cell_type": "markdown",
   "metadata": {},
   "source": [
    "#### Reshaping arrays"
   ]
  },
  {
   "cell_type": "code",
   "execution_count": 37,
   "metadata": {},
   "outputs": [
    {
     "data": {
      "text/plain": [
       "array([[ 0,  1,  2,  3,  4,  5,  6],\n",
       "       [ 7,  8,  9, 10, 11, 12, 13],\n",
       "       [14,  0,  0,  0,  0,  0,  0]])"
      ]
     },
     "execution_count": 37,
     "metadata": {},
     "output_type": "execute_result"
    }
   ],
   "source": [
    "# Reshape\n",
    "\n",
    "arr = np.arange(15)\n",
    "\n",
    "arr.reshape((3, 5))\n",
    "## array([[ 0, 1, 2, 3, 4],\n",
    "## [ 5, 6, 7, 8, 9],\n",
    "## [10, 11, 12, 13, 14]])\n",
    "\n",
    "arr = np.arange(15)\n",
    "arr.resize((3, 7))\n",
    "\n",
    "arr\n",
    "## array([[ 0, 1, 2, 3, 4, 5, 6],\n",
    "## [ 7, 8, 9, 10, 11, 12, 13],\n",
    "## [14, 0, 0, 0, 0, 0, 0]])"
   ]
  },
  {
   "attachments": {},
   "cell_type": "markdown",
   "metadata": {},
   "source": [
    "#### Adding and removing elements of arrays"
   ]
  },
  {
   "cell_type": "code",
   "execution_count": 38,
   "metadata": {},
   "outputs": [
    {
     "name": "stdout",
     "output_type": "stream",
     "text": [
      "[ 0  1  2 77  3  4  8]\n"
     ]
    },
    {
     "data": {
      "text/plain": [
       "array([[0, 1, 2],\n",
       "       [8, 0, 0]])"
      ]
     },
     "execution_count": 38,
     "metadata": {},
     "output_type": "execute_result"
    }
   ],
   "source": [
    "# Naming\n",
    "\n",
    "a = np.arange(5)\n",
    "a = np.append(a, 8)\n",
    "a = np.insert(a, 3, 77)\n",
    "\n",
    "print(a)\n",
    "## [ 0 1 2 77 3 4 8]\n",
    "\n",
    "a.resize((3, 3))\n",
    "\n",
    "np.delete(a, 1, axis=0)\n",
    "## array([[0, 1, 2],\n",
    "## [8, 0, 0]])"
   ]
  },
  {
   "attachments": {},
   "cell_type": "markdown",
   "metadata": {},
   "source": [
    "#### Combining and splitting"
   ]
  },
  {
   "cell_type": "code",
   "execution_count": 39,
   "metadata": {},
   "outputs": [
    {
     "data": {
      "text/plain": [
       "[array([0, 1]), array([2, 3]), array([4, 5]), array([6, 7])]"
      ]
     },
     "execution_count": 39,
     "metadata": {},
     "output_type": "execute_result"
    }
   ],
   "source": [
    "# Naming\n",
    "\n",
    "np.concatenate((a, np.arange(6).reshape(2, 3)), axis=0)\n",
    "## array([[ 0, 1, 2],\n",
    "## [77, 3, 4],\n",
    "## [ 8, 0, 0],\n",
    "## [ 0, 1, 2],\n",
    "## [ 3, 4, 5]])\n",
    "\n",
    "np.split(np.arange(8), 4)\n",
    "## [array([0, 1]), array([2, 3]), array([4, 5]), array([6, 7])]"
   ]
  },
  {
   "attachments": {},
   "cell_type": "markdown",
   "metadata": {},
   "source": [
    "#### Transposing array"
   ]
  },
  {
   "cell_type": "code",
   "execution_count": 40,
   "metadata": {},
   "outputs": [
    {
     "data": {
      "text/plain": [
       "array([[1., 0., 0.],\n",
       "       [0., 1., 0.],\n",
       "       [0., 0., 1.]])"
      ]
     },
     "execution_count": 40,
     "metadata": {},
     "output_type": "execute_result"
    }
   ],
   "source": [
    "# Transpose\n",
    "\n",
    "arr3\n",
    "## array([[4, 8, 5],\n",
    "## [9, 3, 4],\n",
    "## [1, 0, 6]])\n",
    "\n",
    "arr3.T\n",
    "## array([[4, 9, 1],\n",
    "## [8, 3, 0],\n",
    "## [5, 4, 6]])\n",
    "\n",
    "np.eye(3).T\n",
    "## array([[1., 0., 0.],\n",
    "## [0., 1., 0.],\n",
    "## [0., 0., 1.]])"
   ]
  },
  {
   "attachments": {},
   "cell_type": "markdown",
   "metadata": {},
   "source": [
    "#### Matrix multiplication"
   ]
  },
  {
   "cell_type": "code",
   "execution_count": 41,
   "metadata": {},
   "outputs": [
    {
     "data": {
      "text/plain": [
       "True"
      ]
     },
     "execution_count": 41,
     "metadata": {},
     "output_type": "execute_result"
    }
   ],
   "source": [
    "# Matrix multiplication\n",
    "\n",
    "res = np.dot(arr3, np.arange(18).reshape((3, 6)))\n",
    "\n",
    "res\n",
    "## array([[108, 125, 142, 159, 176, 193],\n",
    "## [ 66, 82, 98, 114, 130, 146],\n",
    "## [ 72, 79, 86, 93, 100, 107]])\n",
    "\n",
    "res2 = arr3 @ np.arange(18).reshape((3, 6))\n",
    "\n",
    "res2\n",
    "## array([[108, 125, 142, 159, 176, 193],\n",
    "## [ 66, 82, 98, 114, 130, 146],\n",
    "## [ 72, 79, 86, 93, 100, 107]])\n",
    "\n",
    "np.allclose(res, res2)\n",
    "## True"
   ]
  },
  {
   "attachments": {},
   "cell_type": "markdown",
   "metadata": {},
   "source": [
    "#### Array functions"
   ]
  },
  {
   "cell_type": "code",
   "execution_count": 42,
   "metadata": {},
   "outputs": [
    {
     "data": {
      "text/plain": [
       "array([[5.45981500e+01, 2.98095799e+03, 1.48413159e+02],\n",
       "       [8.10308393e+03, 2.00855369e+01, 5.45981500e+01],\n",
       "       [2.71828183e+00, 1.00000000e+00, 4.03428793e+02]])"
      ]
     },
     "execution_count": 42,
     "metadata": {},
     "output_type": "execute_result"
    }
   ],
   "source": [
    "# Element-wise functions\n",
    "\n",
    "arr3\n",
    "## array([[4, 8, 5],\n",
    "## [9, 3, 4],\n",
    "## [1, 0, 6]])\n",
    "\n",
    "np.sqrt(arr3)\n",
    "## array([[2. , 2.82842712, 2.23606798],\n",
    "## [3. , 1.73205081, 2. ],\n",
    "## [1. , 0. , 2.44948974]])\n",
    "\n",
    "np.exp(arr3)\n",
    "## array([[5.45981500e+01, 2.98095799e+03, 1.48413159e+02],\n",
    "## [8.10308393e+03, 2.00855369e+01, 5.45981500e+01],\n",
    "## [2.71828183e+00, 1.00000000e+00, 4.03428793e+02]])"
   ]
  },
  {
   "attachments": {},
   "cell_type": "markdown",
   "metadata": {},
   "source": [
    "#### Overview: Element-wise array functions \n",
    "\n",
    "|Function|Description|\n",
    "|--|--|\n",
    "|abs |Absolute value of integer and floating point|\n",
    "|sqrt |Sqare root|\n",
    "|exp |Exponential function|\n",
    "|log, log10, log2 |Natural logarithm, log base 10, log base 2|\n",
    "|sign |Sign (1 : positiv, 0: zero, -1 : negative)|\n",
    "|ceil |Rounding up to integer|\n",
    "|floor |Round down to integer|\n",
    "|rint |Round to nearest integer|\n",
    "|modf |Returns fractional parts|\n",
    "|sin, cos, tan, sinh, cosh, tanh, arcsin, ...|"
   ]
  },
  {
   "attachments": {},
   "cell_type": "markdown",
   "metadata": {},
   "source": [
    "#### Binary functions"
   ]
  },
  {
   "cell_type": "code",
   "execution_count": 43,
   "metadata": {},
   "outputs": [
    {
     "data": {
      "text/plain": [
       "array([0, 4, 1, 1, 3, 5])"
      ]
     },
     "execution_count": 43,
     "metadata": {},
     "output_type": "execute_result"
    }
   ],
   "source": [
    "# Binary\n",
    "\n",
    "x = np.array([3, -6, 8, 4, 3, 5])\n",
    "y = np.array([3, 5, 7, 3, 5, 9])\n",
    "\n",
    "np.maximum(x, y)\n",
    "## array([3, 5, 8, 4, 5, 9])\n",
    "\n",
    "np.greater_equal(x, y)\n",
    "## array([ True, False, True, True, False, False])\n",
    "\n",
    "np.add(x, y)\n",
    "## array([ 6, -1, 15, 7, 8, 14])\n",
    "\n",
    "np.mod(x, y)\n",
    "## array([0, 4, 1, 1, 3, 5])"
   ]
  },
  {
   "attachments": {},
   "cell_type": "markdown",
   "metadata": {},
   "source": [
    "#### Overview: Binary functions\n",
    "\n",
    "|Function |Description|\n",
    "|--|--|\n",
    "|add |Add elements of arrays|\n",
    "|subtract |Subtract elements in the second from the first array|\n",
    "|multiply |Multiply elements|\n",
    "|divide |Divide elements|\n",
    "|power |Raise elements in first array to powers in second|\n",
    "|maximum |Element-wise maximum|\n",
    "|minimum |Element-wise minimum|\n",
    "|mod |Element-wise modulus|\n",
    "|greater, less, equal gives boolean|"
   ]
  },
  {
   "attachments": {},
   "cell_type": "markdown",
   "metadata": {},
   "source": [
    "#### Data processing"
   ]
  },
  {
   "cell_type": "code",
   "execution_count": 44,
   "metadata": {},
   "outputs": [
    {
     "data": {
      "text/plain": [
       "array([[-5.  , -4.99, -4.98, ...,  4.97,  4.98,  4.99],\n",
       "       [-5.  , -4.99, -4.98, ...,  4.97,  4.98,  4.99],\n",
       "       [-5.  , -4.99, -4.98, ...,  4.97,  4.98,  4.99],\n",
       "       ...,\n",
       "       [-5.  , -4.99, -4.98, ...,  4.97,  4.98,  4.99],\n",
       "       [-5.  , -4.99, -4.98, ...,  4.97,  4.98,  4.99],\n",
       "       [-5.  , -4.99, -4.98, ...,  4.97,  4.98,  4.99]])"
      ]
     },
     "execution_count": 44,
     "metadata": {},
     "output_type": "execute_result"
    }
   ],
   "source": [
    "# Evaluate the function\n",
    "\n",
    "p = np.arange(-5, 5, 0.01)\n",
    "\n",
    "x, y = np.meshgrid(p, p)\n",
    "\n",
    "x\n",
    "## array([[-5. , -4.99, -4.98, ..., 4.97, 4.98, 4.99],\n",
    "## [-5. , -4.99, -4.98, ..., 4.97, 4.98, 4.99],\n",
    "## [-5. , -4.99, -4.98, ..., 4.97, 4.98, 4.99],\n",
    "## ...,\n",
    "## [-5. , -4.99, -4.98, ..., 4.97, 4.98, 4.99],\n",
    "## [-5. , -4.99, -4.98, ..., 4.97, 4.98, 4.99],\n",
    "## [-5. , -4.99, -4.98, ..., 4.97, 4.98, 4.99]])"
   ]
  },
  {
   "cell_type": "code",
   "execution_count": 45,
   "metadata": {},
   "outputs": [
    {
     "data": {
      "image/png": "[encoded data removed]",
      "text/plain": [
       "<Figure size 144x144 with 2 Axes>"
      ]
     },
     "metadata": {
      "needs_background": "light"
     },
     "output_type": "display_data"
    }
   ],
   "source": [
    "import matplotlib.pyplot as plt\n",
    "\n",
    "val = np.sqrt(x**2 + y**2)\n",
    "\n",
    "plt.figure(figsize=(2, 2))\n",
    "plt.imshow(val, cmap=\"hot\")\n",
    "plt.colorbar()\n",
    "\n",
    "## <matplotlib.colorbar.Colorbar object at 0x16984cb80>\n",
    "\n",
    "plt.show()"
   ]
  },
  {
   "attachments": {},
   "cell_type": "markdown",
   "metadata": {},
   "source": [
    "#### Conditional logic"
   ]
  },
  {
   "cell_type": "code",
   "execution_count": 46,
   "metadata": {},
   "outputs": [
    {
     "data": {
      "text/plain": [
       "array([4, 9, 8, 3, 9, 3])"
      ]
     },
     "execution_count": 46,
     "metadata": {},
     "output_type": "execute_result"
    }
   ],
   "source": [
    "# Conditional logic\n",
    "\n",
    "a = np.array([4, 7, 5, -7, 9, 0])\n",
    "b = np.array([-1, 9, 8, 3, 3, 3])\n",
    "cond = np.array([True, True, False, True, False, False])\n",
    "res = np.where(cond, a, b)\n",
    "\n",
    "res\n",
    "## array([ 4, 7, 8, -7, 3, 3])\n",
    "\n",
    "res = np.where(a <= b, b, a)\n",
    "\n",
    "res\n",
    "## array([4, 9, 8, 3, 9, 3])"
   ]
  },
  {
   "cell_type": "code",
   "execution_count": 47,
   "metadata": {},
   "outputs": [
    {
     "data": {
      "text/plain": [
       "array([[ 4,  8,  6],\n",
       "       [10,  4,  4],\n",
       "       [ 2,  0,  6]])"
      ]
     },
     "execution_count": 47,
     "metadata": {},
     "output_type": "execute_result"
    }
   ],
   "source": [
    "# Conditional logic, examples\n",
    "\n",
    "arr3\n",
    "## array([[4, 8, 5],\n",
    "## [9, 3, 4],\n",
    "## [1, 0, 6]])\n",
    "\n",
    "res = np.where(arr3 < 5, 0, arr3)\n",
    "\n",
    "res\n",
    "## array([[0, 8, 5],\n",
    "## [9, 0, 0],\n",
    "## [0, 0, 6]])\n",
    "\n",
    "even = np.where(arr3 % 2 == 0, arr3, arr3 + 1)\n",
    "\n",
    "even\n",
    "## array([[ 4, 8, 6],\n",
    "## [10, 4, 4],\n",
    "## [ 2, 0, 6]])"
   ]
  },
  {
   "attachments": {},
   "cell_type": "markdown",
   "metadata": {},
   "source": [
    "#### Statistical methods"
   ]
  },
  {
   "cell_type": "code",
   "execution_count": 48,
   "metadata": {},
   "outputs": [
    {
     "data": {
      "text/plain": [
       "7"
      ]
     },
     "execution_count": 48,
     "metadata": {},
     "output_type": "execute_result"
    }
   ],
   "source": [
    "# Statistical methods\n",
    "\n",
    "arr3\n",
    "## array([[4, 8, 5],\n",
    "## [9, 3, 4],\n",
    "## [1, 0, 6]])\n",
    "\n",
    "arr3.mean()\n",
    "## 4.444444444444445\n",
    "\n",
    "arr3.sum()\n",
    "## 40\n",
    "\n",
    "arr3.argmin()\n",
    "## 7"
   ]
  },
  {
   "attachments": {},
   "cell_type": "markdown",
   "metadata": {},
   "source": [
    "#### Overview: Statistical methods\n",
    "\n",
    "|Method | Description|\n",
    "|--|--|\n",
    "|sum | Sum of all array elements|\n",
    "|mean | Mean of all array elements|\n",
    "|std, var | Standard deviation, variance|\n",
    "|min, max | Minimum and Maximum value in array|\n",
    "|argmin, argmax | Indices of Minimum and Maximum value|"
   ]
  },
  {
   "attachments": {},
   "cell_type": "markdown",
   "metadata": {},
   "source": [
    "#### Axis"
   ]
  },
  {
   "cell_type": "code",
   "execution_count": 49,
   "metadata": {},
   "outputs": [
    {
     "data": {
      "text/plain": [
       "array([17, 16,  7])"
      ]
     },
     "execution_count": 49,
     "metadata": {},
     "output_type": "execute_result"
    }
   ],
   "source": [
    "# Axis\n",
    "\n",
    "arr3\n",
    "## array([[4, 8, 5],\n",
    "## [9, 3, 4],\n",
    "## [1, 0, 6]])\n",
    "\n",
    "arr3.sum(axis=0)\n",
    "## array([14, 11, 15])\n",
    "\n",
    "arr3.sum(axis=1)\n",
    "## array([17, 16, 7])"
   ]
  },
  {
   "attachments": {},
   "cell_type": "markdown",
   "metadata": {},
   "source": [
    "#### Sorting"
   ]
  },
  {
   "cell_type": "code",
   "execution_count": 50,
   "metadata": {},
   "outputs": [
    {
     "data": {
      "text/plain": [
       "array([ 0.  ,  1.65,  4.4 ,  8.9 , 24.3 , 45.  ])"
      ]
     },
     "execution_count": 50,
     "metadata": {},
     "output_type": "execute_result"
    }
   ],
   "source": [
    "# Sorting one-dimensional arrays\n",
    "\n",
    "arr2\n",
    "## array([24.3 , 0. , 8.9 , 4.4 , 1.65, 45. ])\n",
    "\n",
    "arr2.sort()\n",
    "\n",
    "arr2\n",
    "## array([ 0. , 1.65, 4.4 , 8.9 , 24.3 , 45. ])"
   ]
  },
  {
   "cell_type": "code",
   "execution_count": 51,
   "metadata": {},
   "outputs": [
    {
     "data": {
      "text/plain": [
       "array([[0, 1, 6],\n",
       "       [3, 4, 8],\n",
       "       [4, 5, 9]])"
      ]
     },
     "execution_count": 51,
     "metadata": {},
     "output_type": "execute_result"
    }
   ],
   "source": [
    "# Sorting two-dimensional arrays\n",
    "\n",
    "arr3\n",
    "## array([[4, 8, 5],\n",
    "## [9, 3, 4],\n",
    "## [1, 0, 6]])\n",
    "\n",
    "arr3.sort()\n",
    "\n",
    "arr3\n",
    "## array([[4, 5, 8],\n",
    "## [3, 4, 9],\n",
    "## [0, 1, 6]])\n",
    "\n",
    "arr3.sort(axis=0)\n",
    "\n",
    "arr3\n",
    "## array([[0, 1, 6],\n",
    "## [3, 4, 8],\n",
    "## [4, 5, 9]])"
   ]
  },
  {
   "attachments": {},
   "cell_type": "markdown",
   "metadata": {},
   "source": [
    "### Linear algebra"
   ]
  },
  {
   "attachments": {},
   "cell_type": "markdown",
   "metadata": {},
   "source": [
    "#### Inverse matrix"
   ]
  },
  {
   "cell_type": "code",
   "execution_count": 52,
   "metadata": {},
   "outputs": [],
   "source": [
    "# Import numpy.linalg\n",
    "\n",
    "import numpy.linalg as nplin"
   ]
  },
  {
   "cell_type": "code",
   "execution_count": 53,
   "metadata": {},
   "outputs": [
    {
     "data": {
      "text/plain": [
       "True"
      ]
     },
     "execution_count": 53,
     "metadata": {},
     "output_type": "execute_result"
    }
   ],
   "source": [
    "# Inverse\n",
    "\n",
    "inv = nplin.inv(arr3)\n",
    "\n",
    "inv\n",
    "## array([[ 4., -21., 16.],\n",
    "## [ -5., 24., -18.],\n",
    "## [ 1., -4., 3.]])\n",
    "\n",
    "np.allclose(np.identity(3), np.dot(inv, arr3))\n",
    "## True"
   ]
  },
  {
   "attachments": {},
   "cell_type": "markdown",
   "metadata": {},
   "source": [
    "#### Matrix functions"
   ]
  },
  {
   "cell_type": "code",
   "execution_count": 54,
   "metadata": {},
   "outputs": [
    {
     "data": {
      "text/plain": [
       "array([0, 4, 9])"
      ]
     },
     "execution_count": 54,
     "metadata": {},
     "output_type": "execute_result"
    }
   ],
   "source": [
    "# Linear algebra functions\n",
    "\n",
    "nplin.det(arr3)\n",
    "## -1.0\n",
    "\n",
    "np.trace(arr3)\n",
    "## 13\n",
    "\n",
    "np.diag(arr3)\n",
    "## array([0, 4, 9])"
   ]
  },
  {
   "attachments": {},
   "cell_type": "markdown",
   "metadata": {},
   "source": [
    "#### Eigenvalues and eigenvectors"
   ]
  },
  {
   "cell_type": "code",
   "execution_count": 55,
   "metadata": {},
   "outputs": [
    {
     "data": {
      "text/plain": [
       "array([[ 0.00000000e+00, -4.08248290e-01, -7.07106781e-01],\n",
       "       [ 0.00000000e+00, -8.16496581e-01, -7.07106781e-01],\n",
       "       [ 1.00000000e+00, -4.08248290e-01,  1.17027782e-17]])"
      ]
     },
     "execution_count": 55,
     "metadata": {},
     "output_type": "execute_result"
    }
   ],
   "source": [
    "# Get eigenvalues and eigenvectors\n",
    "\n",
    "A = np.array([[3, -1, 0], [2, 0, 0], [-2, 2, -1]])\n",
    "eigenval, eigenvec = nplin.eig(A)\n",
    "\n",
    "eigenval\n",
    "## array([-1., 1., 2.])\n",
    "\n",
    "eigenvec\n",
    "## array([[ 0.00000000e+00, -4.08248290e-01, -7.07106781e-01],\n",
    "## [ 0.00000000e+00, -8.16496581e-01, -7.07106781e-01],\n",
    "## [ 1.00000000e+00, -4.08248290e-01, 1.17027782e-17]])"
   ]
  },
  {
   "cell_type": "code",
   "execution_count": 56,
   "metadata": {},
   "outputs": [
    {
     "data": {
      "text/plain": [
       "array([[ 0.00000000e+00, -4.08248290e-01, -1.41421356e+00],\n",
       "       [ 0.00000000e+00, -8.16496581e-01, -1.41421356e+00],\n",
       "       [-1.00000000e+00, -4.08248290e-01, -1.17027782e-17]])"
      ]
     },
     "execution_count": 56,
     "metadata": {},
     "output_type": "execute_result"
    }
   ],
   "source": [
    "# Check eigenvalues and eigenvectors\n",
    "\n",
    "eigenval * eigenvec\n",
    "## array([[-0.00000000e+00, -4.08248290e-01, -1.41421356e+00],\n",
    "## [-0.00000000e+00, -8.16496581e-01, -1.41421356e+00],\n",
    "## [-1.00000000e+00, -4.08248290e-01, 2.34055565e-17]])\n",
    "\n",
    "np.dot(A, eigenvec)\n",
    "## array([[ 0.00000000e+00, -4.08248290e-01, -1.41421356e+00],\n",
    "## [ 0.00000000e+00, -8.16496581e-01, -1.41421356e+00],\n",
    "## [-1.00000000e+00, -4.08248290e-01, -1.17027782e-17]])"
   ]
  },
  {
   "attachments": {},
   "cell_type": "markdown",
   "metadata": {},
   "source": [
    "#### QR decomposition"
   ]
  },
  {
   "cell_type": "code",
   "execution_count": 57,
   "metadata": {},
   "outputs": [
    {
     "data": {
      "text/plain": [
       "True"
      ]
     },
     "execution_count": 57,
     "metadata": {},
     "output_type": "execute_result"
    }
   ],
   "source": [
    "# QR decomposition\n",
    "\n",
    "Q, R = nplin.qr(arr3)\n",
    "\n",
    "Q\n",
    "## array([[ 0. , 0.98058068, 0.19611614],\n",
    "## [-0.6 , 0.15689291, -0.78446454],\n",
    "## [-0.8 , -0.11766968, 0.58834841]])\n",
    "\n",
    "R\n",
    "## array([[ -5. , -6.4 , -12. ],\n",
    "## [ 0. , 1.0198039 , 6.07960019],\n",
    "## [ 0. , 0. , 0.19611614]])\n",
    "\n",
    "np.allclose(arr3, np.dot(Q, R))\n",
    "## True"
   ]
  },
  {
   "attachments": {},
   "cell_type": "markdown",
   "metadata": {},
   "source": [
    "#### Linearsystem"
   ]
  },
  {
   "cell_type": "code",
   "execution_count": 58,
   "metadata": {},
   "outputs": [
    {
     "data": {
      "text/plain": [
       "True"
      ]
     },
     "execution_count": 58,
     "metadata": {},
     "output_type": "execute_result"
    }
   ],
   "source": [
    "# Solve linearsystems\n",
    "\n",
    "b = np.array([7, 4, 8])\n",
    "x = nplin.solve(A, b)\n",
    "\n",
    "x\n",
    "## array([ 2., -1., -14.])\n",
    "\n",
    "np.allclose(np.dot(A, x), b)\n",
    "## True"
   ]
  },
  {
   "attachments": {},
   "cell_type": "markdown",
   "metadata": {},
   "source": [
    "#### Overview: Linear algebra\n",
    "\n",
    "\n",
    "|Function |Description|\n",
    "|--|--|\n",
    "|np.dot |Matrix multiplication|\n",
    "|np.trace |Sum of the diagonal elements|\n",
    "|np.diag |Diagonal elements as an array|\n",
    "|nplin.det |Matrix determinant|\n",
    "|nplin.eig |Eigenvalues and eigenvectors|\n",
    "|nplin.inv |Inverse matrix|\n",
    "|nplin.qr |QR decomposition|\n",
    "|nplin.solve |Solve linearsystem|"
   ]
  },
  {
   "cell_type": "code",
   "execution_count": 59,
   "metadata": {},
   "outputs": [
    {
     "name": "stdout",
     "output_type": "stream",
     "text": [
      "Author: Caique Miranda\n",
      "\n",
      "Github username: caiquemiranda\n",
      "\n",
      "sys       : 3.10.5 (tags/v3.10.5:f377153, Jun  6 2022, 16:14:13) [MSC v.1929 64 bit (AMD64)]\n",
      "numpy     : 1.23.0\n",
      "matplotlib: 3.5.2\n",
      "\n"
     ]
    }
   ],
   "source": [
    "%reload_ext watermark\n",
    "%watermark -a \"Caique Miranda\" -gu \"caiquemiranda\" -iv"
   ]
  },
  {
   "attachments": {},
   "cell_type": "markdown",
   "metadata": {},
   "source": [
    "### EDN."
   ]
  }
 ],
 "metadata": {
  "kernelspec": {
   "display_name": "Python 3",
   "language": "python",
   "name": "python3"
  },
  "language_info": {
   "codemirror_mode": {
    "name": "ipython",
    "version": 3
   },
   "file_extension": ".py",
   "mimetype": "text/x-python",
   "name": "python",
   "nbconvert_exporter": "python",
   "pygments_lexer": "ipython3",
   "version": "3.10.5"
  },
  "orig_nbformat": 4,
  "vscode": {
   "interpreter": {
    "hash": "74af3d2f25f1e46ebd2903d59225d79e4675ec224d56c01fc30cd168c2010d53"
   }
  }
 },
 "nbformat": 4,
 "nbformat_minor": 2
}
